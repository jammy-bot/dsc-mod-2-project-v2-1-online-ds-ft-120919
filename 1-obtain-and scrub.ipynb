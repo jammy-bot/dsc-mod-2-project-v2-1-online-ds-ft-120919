{
 "cells": [
  {
   "cell_type": "markdown",
   "metadata": {},
   "source": [
    "##### data-conditioning notebook--obtain and scrub\n",
    "***"
   ]
  },
  {
   "cell_type": "markdown",
   "metadata": {},
   "source": [
    "## Final Project Submission\n",
    "\n",
    "Please fill out:\n",
    "* Student name: Jamel Dargan\n",
    "* Student pace: full - time\n",
    "* Scheduled project review date/time: \n",
    "* Instructor name: Carrasco\n",
    "* Blog post URL:\n"
   ]
  },
  {
   "cell_type": "markdown",
   "metadata": {},
   "source": [
    "****\n",
    "#### --Obtaining the Data--\n",
    "\n",
    "# Importing Libraries and Data"
   ]
  },
  {
   "cell_type": "markdown",
   "metadata": {},
   "source": [
    "## Previewing Column Names and Descriptions for King County Data Set\n",
    "* **id** - unique identified for a house\n",
    "* **date** - house was sold\n",
    "* **price** -  is prediction target\n",
    "* **bedrooms** -  Number of Bedrooms/House\n",
    "* **bathrooms** -  Number of bathrooms/bedrooms\n",
    "* **sqft_living** - square footage of the home\n",
    "* **sqft_lot** - square footage of the lot\n",
    "* **floors** -  floors (levels) in house\n",
    "* **waterfront** - House which has a view to a waterfront\n",
    "* **view** - Has been viewed\n",
    "* **condition** - How good the condition is ( Overall )\n",
    "* **grade** - overall grade given to the housing unit, based on King County grading system\n",
    "* **sqft_above** - square footage of house apart from basement\n",
    "* **sqft_basement** - square footage of the basement\n",
    "* **yr_built** - Built Year\n",
    "* **yr_renovated** - Year when house was renovated\n",
    "* **zipcode** - zip\n",
    "* **lat** - Latitude coordinate\n",
    "* **long** - Longitude coordinate\n",
    "* **sqft_living15** - The square footage of interior housing living space for the nearest 15 neighbors\n",
    "* **sqft_lot15** - The square footage of the land lots of the nearest 15 neighbors\n"
   ]
  },
  {
   "cell_type": "markdown",
   "metadata": {},
   "source": [
    "## Importing required libraries"
   ]
  },
  {
   "cell_type": "code",
   "execution_count": 1,
   "metadata": {},
   "outputs": [],
   "source": [
    "# Your code here - remember to use markdown cells for comments as well!\n",
    "import pandas as pd\n",
    "import numpy as np\n",
    "import seaborn as sns"
   ]
  },
  {
   "cell_type": "markdown",
   "metadata": {},
   "source": [
    "## Importing data"
   ]
  },
  {
   "cell_type": "code",
   "execution_count": 2,
   "metadata": {},
   "outputs": [],
   "source": [
    "data = pd.read_csv('kc_house_data.csv')"
   ]
  },
  {
   "cell_type": "markdown",
   "metadata": {},
   "source": [
    "## Viewing dataframe information"
   ]
  },
  {
   "cell_type": "code",
   "execution_count": 3,
   "metadata": {},
   "outputs": [
    {
     "name": "stdout",
     "output_type": "stream",
     "text": [
      "<class 'pandas.core.frame.DataFrame'>\n",
      "RangeIndex: 21597 entries, 0 to 21596\n",
      "Data columns (total 21 columns):\n",
      "id               21597 non-null int64\n",
      "date             21597 non-null object\n",
      "price            21597 non-null float64\n",
      "bedrooms         21597 non-null int64\n",
      "bathrooms        21597 non-null float64\n",
      "sqft_living      21597 non-null int64\n",
      "sqft_lot         21597 non-null int64\n",
      "floors           21597 non-null float64\n",
      "waterfront       19221 non-null float64\n",
      "view             21534 non-null float64\n",
      "condition        21597 non-null int64\n",
      "grade            21597 non-null int64\n",
      "sqft_above       21597 non-null int64\n",
      "sqft_basement    21597 non-null object\n",
      "yr_built         21597 non-null int64\n",
      "yr_renovated     17755 non-null float64\n",
      "zipcode          21597 non-null int64\n",
      "lat              21597 non-null float64\n",
      "long             21597 non-null float64\n",
      "sqft_living15    21597 non-null int64\n",
      "sqft_lot15       21597 non-null int64\n",
      "dtypes: float64(8), int64(11), object(2)\n",
      "memory usage: 3.5+ MB\n"
     ]
    }
   ],
   "source": [
    "data.info()"
   ]
  },
  {
   "cell_type": "markdown",
   "metadata": {},
   "source": [
    "> **Noting missing values in `waterfront`, `view`, and `yr_renovated`; data types for `date` and `sqft_basement` for further inspection**"
   ]
  },
  {
   "cell_type": "markdown",
   "metadata": {},
   "source": [
    "## Viewing first rows and data characteristics"
   ]
  },
  {
   "cell_type": "code",
   "execution_count": 4,
   "metadata": {
    "scrolled": true
   },
   "outputs": [
    {
     "data": {
      "text/html": [
       "<div>\n",
       "<style scoped>\n",
       "    .dataframe tbody tr th:only-of-type {\n",
       "        vertical-align: middle;\n",
       "    }\n",
       "\n",
       "    .dataframe tbody tr th {\n",
       "        vertical-align: top;\n",
       "    }\n",
       "\n",
       "    .dataframe thead th {\n",
       "        text-align: right;\n",
       "    }\n",
       "</style>\n",
       "<table border=\"1\" class=\"dataframe\">\n",
       "  <thead>\n",
       "    <tr style=\"text-align: right;\">\n",
       "      <th></th>\n",
       "      <th>id</th>\n",
       "      <th>date</th>\n",
       "      <th>price</th>\n",
       "      <th>bedrooms</th>\n",
       "      <th>bathrooms</th>\n",
       "      <th>sqft_living</th>\n",
       "      <th>sqft_lot</th>\n",
       "      <th>floors</th>\n",
       "      <th>waterfront</th>\n",
       "      <th>view</th>\n",
       "      <th>condition</th>\n",
       "      <th>grade</th>\n",
       "      <th>sqft_above</th>\n",
       "      <th>sqft_basement</th>\n",
       "      <th>yr_built</th>\n",
       "      <th>yr_renovated</th>\n",
       "      <th>zipcode</th>\n",
       "      <th>lat</th>\n",
       "      <th>long</th>\n",
       "      <th>sqft_living15</th>\n",
       "      <th>sqft_lot15</th>\n",
       "    </tr>\n",
       "  </thead>\n",
       "  <tbody>\n",
       "    <tr>\n",
       "      <td>0</td>\n",
       "      <td>7129300520</td>\n",
       "      <td>10/13/2014</td>\n",
       "      <td>221900.0</td>\n",
       "      <td>3</td>\n",
       "      <td>1.00</td>\n",
       "      <td>1180</td>\n",
       "      <td>5650</td>\n",
       "      <td>1.0</td>\n",
       "      <td>NaN</td>\n",
       "      <td>0.0</td>\n",
       "      <td>3</td>\n",
       "      <td>7</td>\n",
       "      <td>1180</td>\n",
       "      <td>0.0</td>\n",
       "      <td>1955</td>\n",
       "      <td>0.0</td>\n",
       "      <td>98178</td>\n",
       "      <td>47.5112</td>\n",
       "      <td>-122.257</td>\n",
       "      <td>1340</td>\n",
       "      <td>5650</td>\n",
       "    </tr>\n",
       "    <tr>\n",
       "      <td>1</td>\n",
       "      <td>6414100192</td>\n",
       "      <td>12/9/2014</td>\n",
       "      <td>538000.0</td>\n",
       "      <td>3</td>\n",
       "      <td>2.25</td>\n",
       "      <td>2570</td>\n",
       "      <td>7242</td>\n",
       "      <td>2.0</td>\n",
       "      <td>0.0</td>\n",
       "      <td>0.0</td>\n",
       "      <td>3</td>\n",
       "      <td>7</td>\n",
       "      <td>2170</td>\n",
       "      <td>400.0</td>\n",
       "      <td>1951</td>\n",
       "      <td>1991.0</td>\n",
       "      <td>98125</td>\n",
       "      <td>47.7210</td>\n",
       "      <td>-122.319</td>\n",
       "      <td>1690</td>\n",
       "      <td>7639</td>\n",
       "    </tr>\n",
       "    <tr>\n",
       "      <td>2</td>\n",
       "      <td>5631500400</td>\n",
       "      <td>2/25/2015</td>\n",
       "      <td>180000.0</td>\n",
       "      <td>2</td>\n",
       "      <td>1.00</td>\n",
       "      <td>770</td>\n",
       "      <td>10000</td>\n",
       "      <td>1.0</td>\n",
       "      <td>0.0</td>\n",
       "      <td>0.0</td>\n",
       "      <td>3</td>\n",
       "      <td>6</td>\n",
       "      <td>770</td>\n",
       "      <td>0.0</td>\n",
       "      <td>1933</td>\n",
       "      <td>NaN</td>\n",
       "      <td>98028</td>\n",
       "      <td>47.7379</td>\n",
       "      <td>-122.233</td>\n",
       "      <td>2720</td>\n",
       "      <td>8062</td>\n",
       "    </tr>\n",
       "    <tr>\n",
       "      <td>3</td>\n",
       "      <td>2487200875</td>\n",
       "      <td>12/9/2014</td>\n",
       "      <td>604000.0</td>\n",
       "      <td>4</td>\n",
       "      <td>3.00</td>\n",
       "      <td>1960</td>\n",
       "      <td>5000</td>\n",
       "      <td>1.0</td>\n",
       "      <td>0.0</td>\n",
       "      <td>0.0</td>\n",
       "      <td>5</td>\n",
       "      <td>7</td>\n",
       "      <td>1050</td>\n",
       "      <td>910.0</td>\n",
       "      <td>1965</td>\n",
       "      <td>0.0</td>\n",
       "      <td>98136</td>\n",
       "      <td>47.5208</td>\n",
       "      <td>-122.393</td>\n",
       "      <td>1360</td>\n",
       "      <td>5000</td>\n",
       "    </tr>\n",
       "    <tr>\n",
       "      <td>4</td>\n",
       "      <td>1954400510</td>\n",
       "      <td>2/18/2015</td>\n",
       "      <td>510000.0</td>\n",
       "      <td>3</td>\n",
       "      <td>2.00</td>\n",
       "      <td>1680</td>\n",
       "      <td>8080</td>\n",
       "      <td>1.0</td>\n",
       "      <td>0.0</td>\n",
       "      <td>0.0</td>\n",
       "      <td>3</td>\n",
       "      <td>8</td>\n",
       "      <td>1680</td>\n",
       "      <td>0.0</td>\n",
       "      <td>1987</td>\n",
       "      <td>0.0</td>\n",
       "      <td>98074</td>\n",
       "      <td>47.6168</td>\n",
       "      <td>-122.045</td>\n",
       "      <td>1800</td>\n",
       "      <td>7503</td>\n",
       "    </tr>\n",
       "  </tbody>\n",
       "</table>\n",
       "</div>"
      ],
      "text/plain": [
       "           id        date     price  bedrooms  bathrooms  sqft_living  \\\n",
       "0  7129300520  10/13/2014  221900.0         3       1.00         1180   \n",
       "1  6414100192   12/9/2014  538000.0         3       2.25         2570   \n",
       "2  5631500400   2/25/2015  180000.0         2       1.00          770   \n",
       "3  2487200875   12/9/2014  604000.0         4       3.00         1960   \n",
       "4  1954400510   2/18/2015  510000.0         3       2.00         1680   \n",
       "\n",
       "   sqft_lot  floors  waterfront  view  condition  grade  sqft_above  \\\n",
       "0      5650     1.0         NaN   0.0          3      7        1180   \n",
       "1      7242     2.0         0.0   0.0          3      7        2170   \n",
       "2     10000     1.0         0.0   0.0          3      6         770   \n",
       "3      5000     1.0         0.0   0.0          5      7        1050   \n",
       "4      8080     1.0         0.0   0.0          3      8        1680   \n",
       "\n",
       "  sqft_basement  yr_built  yr_renovated  zipcode      lat     long  \\\n",
       "0           0.0      1955           0.0    98178  47.5112 -122.257   \n",
       "1         400.0      1951        1991.0    98125  47.7210 -122.319   \n",
       "2           0.0      1933           NaN    98028  47.7379 -122.233   \n",
       "3         910.0      1965           0.0    98136  47.5208 -122.393   \n",
       "4           0.0      1987           0.0    98074  47.6168 -122.045   \n",
       "\n",
       "   sqft_living15  sqft_lot15  \n",
       "0           1340        5650  \n",
       "1           1690        7639  \n",
       "2           2720        8062  \n",
       "3           1360        5000  \n",
       "4           1800        7503  "
      ]
     },
     "execution_count": 4,
     "metadata": {},
     "output_type": "execute_result"
    }
   ],
   "source": [
    "# setting to view all columns\n",
    "pd.set_option('display.max_columns', 999)\n",
    "\n",
    "# viewing the first rows\n",
    "data.head()"
   ]
  },
  {
   "cell_type": "markdown",
   "metadata": {},
   "source": [
    "> Noting decimals in `floors`, `waterfront`, `view`, and `yr_renovated` for further inspection.\n",
    "We also have some missing data and basements with 0 square feet."
   ]
  },
  {
   "cell_type": "code",
   "execution_count": 5,
   "metadata": {},
   "outputs": [
    {
     "data": {
      "text/html": [
       "<div>\n",
       "<style scoped>\n",
       "    .dataframe tbody tr th:only-of-type {\n",
       "        vertical-align: middle;\n",
       "    }\n",
       "\n",
       "    .dataframe tbody tr th {\n",
       "        vertical-align: top;\n",
       "    }\n",
       "\n",
       "    .dataframe thead th {\n",
       "        text-align: right;\n",
       "    }\n",
       "</style>\n",
       "<table border=\"1\" class=\"dataframe\">\n",
       "  <thead>\n",
       "    <tr style=\"text-align: right;\">\n",
       "      <th></th>\n",
       "      <th>id</th>\n",
       "      <th>price</th>\n",
       "      <th>bedrooms</th>\n",
       "      <th>bathrooms</th>\n",
       "      <th>sqft_living</th>\n",
       "      <th>sqft_lot</th>\n",
       "      <th>floors</th>\n",
       "      <th>waterfront</th>\n",
       "      <th>view</th>\n",
       "      <th>condition</th>\n",
       "      <th>grade</th>\n",
       "      <th>sqft_above</th>\n",
       "      <th>yr_built</th>\n",
       "      <th>yr_renovated</th>\n",
       "      <th>zipcode</th>\n",
       "      <th>lat</th>\n",
       "      <th>long</th>\n",
       "      <th>sqft_living15</th>\n",
       "      <th>sqft_lot15</th>\n",
       "    </tr>\n",
       "  </thead>\n",
       "  <tbody>\n",
       "    <tr>\n",
       "      <td>count</td>\n",
       "      <td>2.159700e+04</td>\n",
       "      <td>2.159700e+04</td>\n",
       "      <td>21597.000000</td>\n",
       "      <td>21597.000000</td>\n",
       "      <td>21597.000000</td>\n",
       "      <td>2.159700e+04</td>\n",
       "      <td>21597.000000</td>\n",
       "      <td>19221.000000</td>\n",
       "      <td>21534.000000</td>\n",
       "      <td>21597.000000</td>\n",
       "      <td>21597.000000</td>\n",
       "      <td>21597.000000</td>\n",
       "      <td>21597.000000</td>\n",
       "      <td>17755.000000</td>\n",
       "      <td>21597.000000</td>\n",
       "      <td>21597.000000</td>\n",
       "      <td>21597.000000</td>\n",
       "      <td>21597.000000</td>\n",
       "      <td>21597.000000</td>\n",
       "    </tr>\n",
       "    <tr>\n",
       "      <td>mean</td>\n",
       "      <td>4.580474e+09</td>\n",
       "      <td>5.402966e+05</td>\n",
       "      <td>3.373200</td>\n",
       "      <td>2.115826</td>\n",
       "      <td>2080.321850</td>\n",
       "      <td>1.509941e+04</td>\n",
       "      <td>1.494096</td>\n",
       "      <td>0.007596</td>\n",
       "      <td>0.233863</td>\n",
       "      <td>3.409825</td>\n",
       "      <td>7.657915</td>\n",
       "      <td>1788.596842</td>\n",
       "      <td>1970.999676</td>\n",
       "      <td>83.636778</td>\n",
       "      <td>98077.951845</td>\n",
       "      <td>47.560093</td>\n",
       "      <td>-122.213982</td>\n",
       "      <td>1986.620318</td>\n",
       "      <td>12758.283512</td>\n",
       "    </tr>\n",
       "    <tr>\n",
       "      <td>std</td>\n",
       "      <td>2.876736e+09</td>\n",
       "      <td>3.673681e+05</td>\n",
       "      <td>0.926299</td>\n",
       "      <td>0.768984</td>\n",
       "      <td>918.106125</td>\n",
       "      <td>4.141264e+04</td>\n",
       "      <td>0.539683</td>\n",
       "      <td>0.086825</td>\n",
       "      <td>0.765686</td>\n",
       "      <td>0.650546</td>\n",
       "      <td>1.173200</td>\n",
       "      <td>827.759761</td>\n",
       "      <td>29.375234</td>\n",
       "      <td>399.946414</td>\n",
       "      <td>53.513072</td>\n",
       "      <td>0.138552</td>\n",
       "      <td>0.140724</td>\n",
       "      <td>685.230472</td>\n",
       "      <td>27274.441950</td>\n",
       "    </tr>\n",
       "    <tr>\n",
       "      <td>min</td>\n",
       "      <td>1.000102e+06</td>\n",
       "      <td>7.800000e+04</td>\n",
       "      <td>1.000000</td>\n",
       "      <td>0.500000</td>\n",
       "      <td>370.000000</td>\n",
       "      <td>5.200000e+02</td>\n",
       "      <td>1.000000</td>\n",
       "      <td>0.000000</td>\n",
       "      <td>0.000000</td>\n",
       "      <td>1.000000</td>\n",
       "      <td>3.000000</td>\n",
       "      <td>370.000000</td>\n",
       "      <td>1900.000000</td>\n",
       "      <td>0.000000</td>\n",
       "      <td>98001.000000</td>\n",
       "      <td>47.155900</td>\n",
       "      <td>-122.519000</td>\n",
       "      <td>399.000000</td>\n",
       "      <td>651.000000</td>\n",
       "    </tr>\n",
       "    <tr>\n",
       "      <td>25%</td>\n",
       "      <td>2.123049e+09</td>\n",
       "      <td>3.220000e+05</td>\n",
       "      <td>3.000000</td>\n",
       "      <td>1.750000</td>\n",
       "      <td>1430.000000</td>\n",
       "      <td>5.040000e+03</td>\n",
       "      <td>1.000000</td>\n",
       "      <td>0.000000</td>\n",
       "      <td>0.000000</td>\n",
       "      <td>3.000000</td>\n",
       "      <td>7.000000</td>\n",
       "      <td>1190.000000</td>\n",
       "      <td>1951.000000</td>\n",
       "      <td>0.000000</td>\n",
       "      <td>98033.000000</td>\n",
       "      <td>47.471100</td>\n",
       "      <td>-122.328000</td>\n",
       "      <td>1490.000000</td>\n",
       "      <td>5100.000000</td>\n",
       "    </tr>\n",
       "    <tr>\n",
       "      <td>50%</td>\n",
       "      <td>3.904930e+09</td>\n",
       "      <td>4.500000e+05</td>\n",
       "      <td>3.000000</td>\n",
       "      <td>2.250000</td>\n",
       "      <td>1910.000000</td>\n",
       "      <td>7.618000e+03</td>\n",
       "      <td>1.500000</td>\n",
       "      <td>0.000000</td>\n",
       "      <td>0.000000</td>\n",
       "      <td>3.000000</td>\n",
       "      <td>7.000000</td>\n",
       "      <td>1560.000000</td>\n",
       "      <td>1975.000000</td>\n",
       "      <td>0.000000</td>\n",
       "      <td>98065.000000</td>\n",
       "      <td>47.571800</td>\n",
       "      <td>-122.231000</td>\n",
       "      <td>1840.000000</td>\n",
       "      <td>7620.000000</td>\n",
       "    </tr>\n",
       "    <tr>\n",
       "      <td>75%</td>\n",
       "      <td>7.308900e+09</td>\n",
       "      <td>6.450000e+05</td>\n",
       "      <td>4.000000</td>\n",
       "      <td>2.500000</td>\n",
       "      <td>2550.000000</td>\n",
       "      <td>1.068500e+04</td>\n",
       "      <td>2.000000</td>\n",
       "      <td>0.000000</td>\n",
       "      <td>0.000000</td>\n",
       "      <td>4.000000</td>\n",
       "      <td>8.000000</td>\n",
       "      <td>2210.000000</td>\n",
       "      <td>1997.000000</td>\n",
       "      <td>0.000000</td>\n",
       "      <td>98118.000000</td>\n",
       "      <td>47.678000</td>\n",
       "      <td>-122.125000</td>\n",
       "      <td>2360.000000</td>\n",
       "      <td>10083.000000</td>\n",
       "    </tr>\n",
       "    <tr>\n",
       "      <td>max</td>\n",
       "      <td>9.900000e+09</td>\n",
       "      <td>7.700000e+06</td>\n",
       "      <td>33.000000</td>\n",
       "      <td>8.000000</td>\n",
       "      <td>13540.000000</td>\n",
       "      <td>1.651359e+06</td>\n",
       "      <td>3.500000</td>\n",
       "      <td>1.000000</td>\n",
       "      <td>4.000000</td>\n",
       "      <td>5.000000</td>\n",
       "      <td>13.000000</td>\n",
       "      <td>9410.000000</td>\n",
       "      <td>2015.000000</td>\n",
       "      <td>2015.000000</td>\n",
       "      <td>98199.000000</td>\n",
       "      <td>47.777600</td>\n",
       "      <td>-121.315000</td>\n",
       "      <td>6210.000000</td>\n",
       "      <td>871200.000000</td>\n",
       "    </tr>\n",
       "  </tbody>\n",
       "</table>\n",
       "</div>"
      ],
      "text/plain": [
       "                 id         price      bedrooms     bathrooms   sqft_living  \\\n",
       "count  2.159700e+04  2.159700e+04  21597.000000  21597.000000  21597.000000   \n",
       "mean   4.580474e+09  5.402966e+05      3.373200      2.115826   2080.321850   \n",
       "std    2.876736e+09  3.673681e+05      0.926299      0.768984    918.106125   \n",
       "min    1.000102e+06  7.800000e+04      1.000000      0.500000    370.000000   \n",
       "25%    2.123049e+09  3.220000e+05      3.000000      1.750000   1430.000000   \n",
       "50%    3.904930e+09  4.500000e+05      3.000000      2.250000   1910.000000   \n",
       "75%    7.308900e+09  6.450000e+05      4.000000      2.500000   2550.000000   \n",
       "max    9.900000e+09  7.700000e+06     33.000000      8.000000  13540.000000   \n",
       "\n",
       "           sqft_lot        floors    waterfront          view     condition  \\\n",
       "count  2.159700e+04  21597.000000  19221.000000  21534.000000  21597.000000   \n",
       "mean   1.509941e+04      1.494096      0.007596      0.233863      3.409825   \n",
       "std    4.141264e+04      0.539683      0.086825      0.765686      0.650546   \n",
       "min    5.200000e+02      1.000000      0.000000      0.000000      1.000000   \n",
       "25%    5.040000e+03      1.000000      0.000000      0.000000      3.000000   \n",
       "50%    7.618000e+03      1.500000      0.000000      0.000000      3.000000   \n",
       "75%    1.068500e+04      2.000000      0.000000      0.000000      4.000000   \n",
       "max    1.651359e+06      3.500000      1.000000      4.000000      5.000000   \n",
       "\n",
       "              grade    sqft_above      yr_built  yr_renovated       zipcode  \\\n",
       "count  21597.000000  21597.000000  21597.000000  17755.000000  21597.000000   \n",
       "mean       7.657915   1788.596842   1970.999676     83.636778  98077.951845   \n",
       "std        1.173200    827.759761     29.375234    399.946414     53.513072   \n",
       "min        3.000000    370.000000   1900.000000      0.000000  98001.000000   \n",
       "25%        7.000000   1190.000000   1951.000000      0.000000  98033.000000   \n",
       "50%        7.000000   1560.000000   1975.000000      0.000000  98065.000000   \n",
       "75%        8.000000   2210.000000   1997.000000      0.000000  98118.000000   \n",
       "max       13.000000   9410.000000   2015.000000   2015.000000  98199.000000   \n",
       "\n",
       "                lat          long  sqft_living15     sqft_lot15  \n",
       "count  21597.000000  21597.000000   21597.000000   21597.000000  \n",
       "mean      47.560093   -122.213982    1986.620318   12758.283512  \n",
       "std        0.138552      0.140724     685.230472   27274.441950  \n",
       "min       47.155900   -122.519000     399.000000     651.000000  \n",
       "25%       47.471100   -122.328000    1490.000000    5100.000000  \n",
       "50%       47.571800   -122.231000    1840.000000    7620.000000  \n",
       "75%       47.678000   -122.125000    2360.000000   10083.000000  \n",
       "max       47.777600   -121.315000    6210.000000  871200.000000  "
      ]
     },
     "execution_count": 5,
     "metadata": {},
     "output_type": "execute_result"
    }
   ],
   "source": [
    "# understanding the data\n",
    "data.describe()"
   ]
  },
  {
   "cell_type": "markdown",
   "metadata": {},
   "source": [
    "> Noting that `sqft_basement` and `date` are not described, since they are not being treated as numeric."
   ]
  },
  {
   "cell_type": "markdown",
   "metadata": {},
   "source": [
    "## Inspecting possible categorical data data - types"
   ]
  },
  {
   "cell_type": "code",
   "execution_count": 6,
   "metadata": {},
   "outputs": [
    {
     "data": {
      "text/plain": [
       "0.0    19075\n",
       "1.0      146\n",
       "Name: waterfront, dtype: int64"
      ]
     },
     "metadata": {},
     "output_type": "display_data"
    },
    {
     "name": "stdout",
     "output_type": "stream",
     "text": [
      "--------------------------------------------------------------------------------\n"
     ]
    },
    {
     "data": {
      "text/plain": [
       "0.0    19422\n",
       "2.0      957\n",
       "3.0      508\n",
       "1.0      330\n",
       "4.0      317\n",
       "Name: view, dtype: int64"
      ]
     },
     "metadata": {},
     "output_type": "display_data"
    },
    {
     "name": "stdout",
     "output_type": "stream",
     "text": [
      "--------------------------------------------------------------------------------\n"
     ]
    },
    {
     "data": {
      "text/plain": [
       "3    14020\n",
       "4     5677\n",
       "5     1701\n",
       "2      170\n",
       "1       29\n",
       "Name: condition, dtype: int64"
      ]
     },
     "metadata": {},
     "output_type": "display_data"
    },
    {
     "name": "stdout",
     "output_type": "stream",
     "text": [
      "--------------------------------------------------------------------------------\n"
     ]
    },
    {
     "data": {
      "text/plain": [
       "7     8974\n",
       "8     6065\n",
       "9     2615\n",
       "6     2038\n",
       "10    1134\n",
       "11     399\n",
       "5      242\n",
       "12      89\n",
       "4       27\n",
       "13      13\n",
       "3        1\n",
       "Name: grade, dtype: int64"
      ]
     },
     "metadata": {},
     "output_type": "display_data"
    },
    {
     "name": "stdout",
     "output_type": "stream",
     "text": [
      "--------------------------------------------------------------------------------\n"
     ]
    },
    {
     "data": {
      "text/plain": [
       "2014    559\n",
       "2006    453\n",
       "2005    450\n",
       "2004    433\n",
       "2003    420\n",
       "       ... \n",
       "1933     30\n",
       "1901     29\n",
       "1902     27\n",
       "1935     24\n",
       "1934     21\n",
       "Name: yr_built, Length: 116, dtype: int64"
      ]
     },
     "metadata": {},
     "output_type": "display_data"
    },
    {
     "name": "stdout",
     "output_type": "stream",
     "text": [
      "--------------------------------------------------------------------------------\n"
     ]
    },
    {
     "data": {
      "text/plain": [
       "0.0       17011\n",
       "2014.0       73\n",
       "2003.0       31\n",
       "2013.0       31\n",
       "2007.0       30\n",
       "          ...  \n",
       "1946.0        1\n",
       "1959.0        1\n",
       "1971.0        1\n",
       "1951.0        1\n",
       "1954.0        1\n",
       "Name: yr_renovated, Length: 70, dtype: int64"
      ]
     },
     "metadata": {},
     "output_type": "display_data"
    },
    {
     "name": "stdout",
     "output_type": "stream",
     "text": [
      "--------------------------------------------------------------------------------\n"
     ]
    },
    {
     "data": {
      "text/plain": [
       "98103    602\n",
       "98038    589\n",
       "98115    583\n",
       "98052    574\n",
       "98117    553\n",
       "        ... \n",
       "98102    104\n",
       "98010    100\n",
       "98024     80\n",
       "98148     57\n",
       "98039     50\n",
       "Name: zipcode, Length: 70, dtype: int64"
      ]
     },
     "metadata": {},
     "output_type": "display_data"
    },
    {
     "name": "stdout",
     "output_type": "stream",
     "text": [
      "--------------------------------------------------------------------------------\n",
      "yr_built:  1900 --> 2015 int64\n",
      "--------------------------------------------------------------------------------\n",
      "yr_renovated:  0.0 --> 2015.0 float64\n",
      "--------------------------------------------------------------------------------\n",
      "Zip codes: \n",
      "\n",
      " [98178 98125 98028 98136 98074 98053 98003 98198 98146 98038 98007 98115\n",
      " 98107 98126 98019 98103 98002 98133 98040 98092 98030 98119 98112 98052\n",
      " 98027 98117 98058 98001 98056 98166 98023 98070 98148 98105 98042 98008\n",
      " 98059 98122 98144 98004 98005 98034 98075 98116 98010 98118 98199 98032\n",
      " 98045 98102 98077 98108 98168 98177 98065 98029 98006 98109 98022 98033\n",
      " 98155 98024 98011 98031 98106 98072 98188 98014 98055 98039] int64\n"
     ]
    }
   ],
   "source": [
    "# checking values\n",
    "for col in data.columns:\n",
    "    if col in ['waterfront', 'view', 'condition', 'grade',\n",
    "               'yr_built', 'yr_renovated', 'zipcode']:\n",
    "        display(data[col].value_counts())\n",
    "        print(\"-\"*80)\n",
    "print(\"yr_built: \", data.yr_built.min(), \"-->\",\n",
    "      data.yr_built.max(), data.yr_built.dtype)\n",
    "print(\"-\"*80)\n",
    "print(\"yr_renovated: \", data.yr_renovated.min(), \"-->\",\n",
    "      data.yr_renovated.max(), data.yr_renovated.dtype)\n",
    "print(\"-\"*80)\n",
    "print(\"Zip codes: \\n\\n\", data.zipcode.unique(), data.zipcode.dtype)"
   ]
  },
  {
   "cell_type": "markdown",
   "metadata": {},
   "source": [
    "### Inspection Notes:\n",
    "\n",
    "* waterfront:  boolean (0 or 1)\n",
    "* view:  possibly the number of times the property was viewed prior to most recent sale (0-4)\n",
    "* condition: (1-5)\n",
    "* grade: (1-13)\n",
    "* yr_built:  ___convert from int___ to datetime or not?\n",
    "* yr_renovated:  ___convert from float___ to int or datetime?\n",
    "* zipcode: ___convert from float to int___"
   ]
  },
  {
   "cell_type": "markdown",
   "metadata": {},
   "source": [
    "*****\n",
    "#### --Scrubbing the Data--"
   ]
  },
  {
   "cell_type": "markdown",
   "metadata": {},
   "source": [
    "## Dealing with Missing Values"
   ]
  },
  {
   "cell_type": "code",
   "execution_count": 7,
   "metadata": {},
   "outputs": [
    {
     "data": {
      "text/plain": [
       "<matplotlib.axes._subplots.AxesSubplot at 0x292b9a2b0b8>"
      ]
     },
     "execution_count": 7,
     "metadata": {},
     "output_type": "execute_result"
    },
    {
     "data": {
      "image/png": "[encoded data removed]",
      "text/plain": [
       "<Figure size 432x288 with 1 Axes>"
      ]
     },
     "metadata": {
      "needs_background": "light"
     },
     "output_type": "display_data"
    }
   ],
   "source": [
    "# using a heatmap to visualize where values are missing\n",
    "sns.heatmap(data.isnull(), yticklabels=False, cbar=False, cmap=\"YlGnBu\")"
   ]
  },
  {
   "cell_type": "markdown",
   "metadata": {},
   "source": [
    "`waterfront` and `yr_renovated` clearly need some attention."
   ]
  },
  {
   "cell_type": "code",
   "execution_count": 8,
   "metadata": {},
   "outputs": [],
   "source": [
    "# creating a copy of the dataframe for cleaning\n",
    "data_f = data.copy()"
   ]
  },
  {
   "cell_type": "markdown",
   "metadata": {},
   "source": [
    "### `waterfront`"
   ]
  },
  {
   "cell_type": "code",
   "execution_count": 9,
   "metadata": {},
   "outputs": [
    {
     "data": {
      "text/html": [
       "<div>\n",
       "<style scoped>\n",
       "    .dataframe tbody tr th:only-of-type {\n",
       "        vertical-align: middle;\n",
       "    }\n",
       "\n",
       "    .dataframe tbody tr th {\n",
       "        vertical-align: top;\n",
       "    }\n",
       "\n",
       "    .dataframe thead th {\n",
       "        text-align: right;\n",
       "    }\n",
       "</style>\n",
       "<table border=\"1\" class=\"dataframe\">\n",
       "  <thead>\n",
       "    <tr style=\"text-align: right;\">\n",
       "      <th></th>\n",
       "      <th>id</th>\n",
       "      <th>date</th>\n",
       "      <th>price</th>\n",
       "      <th>bedrooms</th>\n",
       "      <th>bathrooms</th>\n",
       "      <th>sqft_living</th>\n",
       "      <th>sqft_lot</th>\n",
       "      <th>floors</th>\n",
       "      <th>waterfront</th>\n",
       "      <th>view</th>\n",
       "      <th>condition</th>\n",
       "      <th>grade</th>\n",
       "      <th>sqft_above</th>\n",
       "      <th>sqft_basement</th>\n",
       "      <th>yr_built</th>\n",
       "      <th>yr_renovated</th>\n",
       "      <th>zipcode</th>\n",
       "      <th>lat</th>\n",
       "      <th>long</th>\n",
       "      <th>sqft_living15</th>\n",
       "      <th>sqft_lot15</th>\n",
       "    </tr>\n",
       "  </thead>\n",
       "  <tbody>\n",
       "    <tr>\n",
       "      <td>21578</td>\n",
       "      <td>5087900040</td>\n",
       "      <td>10/17/2014</td>\n",
       "      <td>350000.0</td>\n",
       "      <td>4</td>\n",
       "      <td>2.75</td>\n",
       "      <td>2500</td>\n",
       "      <td>5995</td>\n",
       "      <td>2.0</td>\n",
       "      <td>NaN</td>\n",
       "      <td>0.0</td>\n",
       "      <td>3</td>\n",
       "      <td>8</td>\n",
       "      <td>2500</td>\n",
       "      <td>0.0</td>\n",
       "      <td>2008</td>\n",
       "      <td>0.0</td>\n",
       "      <td>98042</td>\n",
       "      <td>47.3749</td>\n",
       "      <td>-122.107</td>\n",
       "      <td>2530</td>\n",
       "      <td>5988</td>\n",
       "    </tr>\n",
       "    <tr>\n",
       "      <td>21582</td>\n",
       "      <td>8956200760</td>\n",
       "      <td>10/13/2014</td>\n",
       "      <td>541800.0</td>\n",
       "      <td>4</td>\n",
       "      <td>2.50</td>\n",
       "      <td>3118</td>\n",
       "      <td>7866</td>\n",
       "      <td>2.0</td>\n",
       "      <td>NaN</td>\n",
       "      <td>2.0</td>\n",
       "      <td>3</td>\n",
       "      <td>9</td>\n",
       "      <td>3118</td>\n",
       "      <td>0.0</td>\n",
       "      <td>2014</td>\n",
       "      <td>0.0</td>\n",
       "      <td>98001</td>\n",
       "      <td>47.2931</td>\n",
       "      <td>-122.264</td>\n",
       "      <td>2673</td>\n",
       "      <td>6500</td>\n",
       "    </tr>\n",
       "    <tr>\n",
       "      <td>21586</td>\n",
       "      <td>844000965</td>\n",
       "      <td>6/26/2014</td>\n",
       "      <td>224000.0</td>\n",
       "      <td>3</td>\n",
       "      <td>1.75</td>\n",
       "      <td>1500</td>\n",
       "      <td>11968</td>\n",
       "      <td>1.0</td>\n",
       "      <td>NaN</td>\n",
       "      <td>0.0</td>\n",
       "      <td>3</td>\n",
       "      <td>6</td>\n",
       "      <td>1500</td>\n",
       "      <td>0.0</td>\n",
       "      <td>2014</td>\n",
       "      <td>0.0</td>\n",
       "      <td>98010</td>\n",
       "      <td>47.3095</td>\n",
       "      <td>-122.002</td>\n",
       "      <td>1320</td>\n",
       "      <td>11303</td>\n",
       "    </tr>\n",
       "    <tr>\n",
       "      <td>21587</td>\n",
       "      <td>7852140040</td>\n",
       "      <td>8/25/2014</td>\n",
       "      <td>507250.0</td>\n",
       "      <td>3</td>\n",
       "      <td>2.50</td>\n",
       "      <td>2270</td>\n",
       "      <td>5536</td>\n",
       "      <td>2.0</td>\n",
       "      <td>NaN</td>\n",
       "      <td>0.0</td>\n",
       "      <td>3</td>\n",
       "      <td>8</td>\n",
       "      <td>2270</td>\n",
       "      <td>0.0</td>\n",
       "      <td>2003</td>\n",
       "      <td>0.0</td>\n",
       "      <td>98065</td>\n",
       "      <td>47.5389</td>\n",
       "      <td>-121.881</td>\n",
       "      <td>2270</td>\n",
       "      <td>5731</td>\n",
       "    </tr>\n",
       "    <tr>\n",
       "      <td>21595</td>\n",
       "      <td>291310100</td>\n",
       "      <td>1/16/2015</td>\n",
       "      <td>400000.0</td>\n",
       "      <td>3</td>\n",
       "      <td>2.50</td>\n",
       "      <td>1600</td>\n",
       "      <td>2388</td>\n",
       "      <td>2.0</td>\n",
       "      <td>NaN</td>\n",
       "      <td>0.0</td>\n",
       "      <td>3</td>\n",
       "      <td>8</td>\n",
       "      <td>1600</td>\n",
       "      <td>0.0</td>\n",
       "      <td>2004</td>\n",
       "      <td>0.0</td>\n",
       "      <td>98027</td>\n",
       "      <td>47.5345</td>\n",
       "      <td>-122.069</td>\n",
       "      <td>1410</td>\n",
       "      <td>1287</td>\n",
       "    </tr>\n",
       "  </tbody>\n",
       "</table>\n",
       "</div>"
      ],
      "text/plain": [
       "               id        date     price  bedrooms  bathrooms  sqft_living  \\\n",
       "21578  5087900040  10/17/2014  350000.0         4       2.75         2500   \n",
       "21582  8956200760  10/13/2014  541800.0         4       2.50         3118   \n",
       "21586   844000965   6/26/2014  224000.0         3       1.75         1500   \n",
       "21587  7852140040   8/25/2014  507250.0         3       2.50         2270   \n",
       "21595   291310100   1/16/2015  400000.0         3       2.50         1600   \n",
       "\n",
       "       sqft_lot  floors  waterfront  view  condition  grade  sqft_above  \\\n",
       "21578      5995     2.0         NaN   0.0          3      8        2500   \n",
       "21582      7866     2.0         NaN   2.0          3      9        3118   \n",
       "21586     11968     1.0         NaN   0.0          3      6        1500   \n",
       "21587      5536     2.0         NaN   0.0          3      8        2270   \n",
       "21595      2388     2.0         NaN   0.0          3      8        1600   \n",
       "\n",
       "      sqft_basement  yr_built  yr_renovated  zipcode      lat     long  \\\n",
       "21578           0.0      2008           0.0    98042  47.3749 -122.107   \n",
       "21582           0.0      2014           0.0    98001  47.2931 -122.264   \n",
       "21586           0.0      2014           0.0    98010  47.3095 -122.002   \n",
       "21587           0.0      2003           0.0    98065  47.5389 -121.881   \n",
       "21595           0.0      2004           0.0    98027  47.5345 -122.069   \n",
       "\n",
       "       sqft_living15  sqft_lot15  \n",
       "21578           2530        5988  \n",
       "21582           2673        6500  \n",
       "21586           1320       11303  \n",
       "21587           2270        5731  \n",
       "21595           1410        1287  "
      ]
     },
     "execution_count": 9,
     "metadata": {},
     "output_type": "execute_result"
    }
   ],
   "source": [
    "# viewing a sampling of rows with null `waterfront` values\n",
    "data_f[data_f['waterfront'].isna()].tail()"
   ]
  },
  {
   "cell_type": "markdown",
   "metadata": {},
   "source": [
    "We can inspect a selection of these properties using the `folium` library to verify their proximity to waterfront locations. Plan to convert nulls to 0s, barring controverting discovery."
   ]
  },
  {
   "cell_type": "code",
   "execution_count": 10,
   "metadata": {},
   "outputs": [],
   "source": [
    "# Random sampling 5 properties where `waterfront` is null\n",
    "# wf_nulls = data_f.loc[data_f['waterfront'].isna(), {'waterfront', 'lat', 'long'}]\n",
    "# random_waterfront = wf_nulls.sample(n=5)\n",
    "# random_waterfront\n",
    "\n",
    "\"\"\"\n",
    "\twaterfront\tlat\tlong\n",
    "6159\tNaN\t47.6058\t-122.300\n",
    "9425\tNaN\t47.4862\t-121.718\n",
    "12203\tNaN\t47.6819\t-122.389\n",
    "3677\tNaN\t47.3357\t-122.175\n",
    "2887\tNaN\t47.4487\t-122.033\n",
    "\"\"\"\n",
    "\n",
    "# hard - coding to prevent re - sampling on notebook restarts after cleaning data\n",
    "wf_null_list = [[47.6058, -122.300], [47.4862, -121.718],\n",
    "                [47.6819, -122.389], [47.3357, -122.175],\n",
    "                [47.4487, -122.033]]"
   ]
  },
  {
   "cell_type": "markdown",
   "metadata": {},
   "source": [
    "### Importing necessary libraries"
   ]
  },
  {
   "cell_type": "code",
   "execution_count": 11,
   "metadata": {},
   "outputs": [],
   "source": [
    "# King County lat./ Long. coordinates: 47.5480° N, -121.9836° W\n",
    "import os # for access to file directories\n",
    "\n",
    "import json\n",
    "import folium # mapping library\n",
    "\n",
    "# also importing folium's `MarkerCluster` plug-in to group map pins\n",
    "# when zoomed - out\n",
    "from folium.plugins import FastMarkerCluster"
   ]
  },
  {
   "cell_type": "markdown",
   "metadata": {},
   "source": [
    "### Mapping `waterfront` with Folium"
   ]
  },
  {
   "cell_type": "code",
   "execution_count": 12,
   "metadata": {},
   "outputs": [],
   "source": [
    "# mapping Seattle coordinates\n",
    "locations = wf_null_list"
   ]
  },
  {
   "cell_type": "code",
   "execution_count": 13,
   "metadata": {},
   "outputs": [
    {
     "data": {
      "text/html": [
       "<div style=\"width:100%;\"><div style=\"position:relative;width:100%;height:0;padding-bottom:60%;\"><iframe src=\"data:text/html;charset=utf-8;base64,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\" style=\"position:absolute;width:100%;height:100%;left:0;top:0;border:none !important;\" allowfullscreen webkitallowfullscreen mozallowfullscreen></iframe></div></div>"
      ],
      "text/plain": [
       "<folium.folium.Map at 0x292bc5b4400>"
      ]
     },
     "execution_count": 13,
     "metadata": {},
     "output_type": "execute_result"
    }
   ],
   "source": [
    "# getting residences' lat/ lon coordinates to separate lists\n",
    "lats = [location[0] for location in locations]\n",
    "lons = [location[1] for location in locations]\n",
    "\n",
    "# create a map object, centered on the mean coordinates for the residences\n",
    "m = folium.Map(\n",
    "    location=[np.mean(lats), np.mean(lons)],\n",
    "    tiles='Cartodb Positron',\n",
    "    zoom_start=7\n",
    ")\n",
    "\n",
    "# creating a cluster to group all markers on the zoomed - out map\n",
    "FastMarkerCluster(data=list(zip(lats, lons))).add_to(m)\n",
    "\n",
    "# adding markers to the map and saving\n",
    "folium.LayerControl().add_to(m)\n",
    "m.save(os.path.join('results', '5_MarkerCluster1.html'))\n",
    "\n",
    "m"
   ]
  },
  {
   "cell_type": "markdown",
   "metadata": {},
   "source": [
    "These properties are not on the waterfront"
   ]
  },
  {
   "cell_type": "code",
   "execution_count": 14,
   "metadata": {},
   "outputs": [
    {
     "data": {
      "text/plain": [
       "dtype('float64')"
      ]
     },
     "execution_count": 14,
     "metadata": {},
     "output_type": "execute_result"
    }
   ],
   "source": [
    "# fill `waterfront` nulls with 0s\n",
    "data_f.waterfront.fillna(value=0, inplace=True)\n",
    "data_f.waterfront.dtype"
   ]
  },
  {
   "cell_type": "markdown",
   "metadata": {},
   "source": [
    "This column does not need decimals."
   ]
  },
  {
   "cell_type": "code",
   "execution_count": 15,
   "metadata": {},
   "outputs": [
    {
     "data": {
      "text/html": [
       "<div>\n",
       "<style scoped>\n",
       "    .dataframe tbody tr th:only-of-type {\n",
       "        vertical-align: middle;\n",
       "    }\n",
       "\n",
       "    .dataframe tbody tr th {\n",
       "        vertical-align: top;\n",
       "    }\n",
       "\n",
       "    .dataframe thead th {\n",
       "        text-align: right;\n",
       "    }\n",
       "</style>\n",
       "<table border=\"1\" class=\"dataframe\">\n",
       "  <thead>\n",
       "    <tr style=\"text-align: right;\">\n",
       "      <th></th>\n",
       "      <th>id</th>\n",
       "      <th>date</th>\n",
       "      <th>price</th>\n",
       "      <th>bedrooms</th>\n",
       "      <th>bathrooms</th>\n",
       "      <th>sqft_living</th>\n",
       "      <th>sqft_lot</th>\n",
       "      <th>floors</th>\n",
       "      <th>waterfront</th>\n",
       "      <th>view</th>\n",
       "      <th>condition</th>\n",
       "      <th>grade</th>\n",
       "      <th>sqft_above</th>\n",
       "      <th>sqft_basement</th>\n",
       "      <th>yr_built</th>\n",
       "      <th>yr_renovated</th>\n",
       "      <th>zipcode</th>\n",
       "      <th>lat</th>\n",
       "      <th>long</th>\n",
       "      <th>sqft_living15</th>\n",
       "      <th>sqft_lot15</th>\n",
       "    </tr>\n",
       "  </thead>\n",
       "  <tbody>\n",
       "    <tr>\n",
       "      <td>49</td>\n",
       "      <td>822039084</td>\n",
       "      <td>3/11/2015</td>\n",
       "      <td>1350000.0</td>\n",
       "      <td>3</td>\n",
       "      <td>2.5</td>\n",
       "      <td>2753</td>\n",
       "      <td>65005</td>\n",
       "      <td>1.0</td>\n",
       "      <td>1</td>\n",
       "      <td>2.0</td>\n",
       "      <td>5</td>\n",
       "      <td>9</td>\n",
       "      <td>2165</td>\n",
       "      <td>588.0</td>\n",
       "      <td>1953</td>\n",
       "      <td>0.0</td>\n",
       "      <td>98070</td>\n",
       "      <td>47.4041</td>\n",
       "      <td>-122.451</td>\n",
       "      <td>2680</td>\n",
       "      <td>72513</td>\n",
       "    </tr>\n",
       "  </tbody>\n",
       "</table>\n",
       "</div>"
      ],
      "text/plain": [
       "           id       date      price  bedrooms  bathrooms  sqft_living  \\\n",
       "49  822039084  3/11/2015  1350000.0         3        2.5         2753   \n",
       "\n",
       "    sqft_lot  floors  waterfront  view  condition  grade  sqft_above  \\\n",
       "49     65005     1.0           1   2.0          5      9        2165   \n",
       "\n",
       "   sqft_basement  yr_built  yr_renovated  zipcode      lat     long  \\\n",
       "49         588.0      1953           0.0    98070  47.4041 -122.451   \n",
       "\n",
       "    sqft_living15  sqft_lot15  \n",
       "49           2680       72513  "
      ]
     },
     "execution_count": 15,
     "metadata": {},
     "output_type": "execute_result"
    }
   ],
   "source": [
    "# rounding the column down and casting as an integer\n",
    "data_f.waterfront = data_f.waterfront.round(0).astype('int64')\n",
    "data_f[data_f['waterfront'] == 1].head(1)"
   ]
  },
  {
   "cell_type": "markdown",
   "metadata": {},
   "source": [
    "### `view`\n",
    "\n",
    "Searching for commonalities among NaN entries for this feature"
   ]
  },
  {
   "cell_type": "code",
   "execution_count": 16,
   "metadata": {},
   "outputs": [
    {
     "data": {
      "text/html": [
       "<div>\n",
       "<style scoped>\n",
       "    .dataframe tbody tr th:only-of-type {\n",
       "        vertical-align: middle;\n",
       "    }\n",
       "\n",
       "    .dataframe tbody tr th {\n",
       "        vertical-align: top;\n",
       "    }\n",
       "\n",
       "    .dataframe thead th {\n",
       "        text-align: right;\n",
       "    }\n",
       "</style>\n",
       "<table border=\"1\" class=\"dataframe\">\n",
       "  <thead>\n",
       "    <tr style=\"text-align: right;\">\n",
       "      <th></th>\n",
       "      <th>id</th>\n",
       "      <th>date</th>\n",
       "      <th>grade</th>\n",
       "      <th>view</th>\n",
       "    </tr>\n",
       "  </thead>\n",
       "  <tbody>\n",
       "    <tr>\n",
       "      <td>7</td>\n",
       "      <td>2008000270</td>\n",
       "      <td>1/15/2015</td>\n",
       "      <td>7</td>\n",
       "      <td>NaN</td>\n",
       "    </tr>\n",
       "    <tr>\n",
       "      <td>114</td>\n",
       "      <td>8961960160</td>\n",
       "      <td>10/28/2014</td>\n",
       "      <td>9</td>\n",
       "      <td>NaN</td>\n",
       "    </tr>\n",
       "    <tr>\n",
       "      <td>129</td>\n",
       "      <td>7853210060</td>\n",
       "      <td>4/6/2015</td>\n",
       "      <td>7</td>\n",
       "      <td>NaN</td>\n",
       "    </tr>\n",
       "    <tr>\n",
       "      <td>205</td>\n",
       "      <td>3456000310</td>\n",
       "      <td>8/4/2014</td>\n",
       "      <td>9</td>\n",
       "      <td>NaN</td>\n",
       "    </tr>\n",
       "    <tr>\n",
       "      <td>487</td>\n",
       "      <td>1895000260</td>\n",
       "      <td>7/21/2014</td>\n",
       "      <td>6</td>\n",
       "      <td>NaN</td>\n",
       "    </tr>\n",
       "    <tr>\n",
       "      <td>590</td>\n",
       "      <td>2525069041</td>\n",
       "      <td>9/4/2014</td>\n",
       "      <td>7</td>\n",
       "      <td>NaN</td>\n",
       "    </tr>\n",
       "    <tr>\n",
       "      <td>938</td>\n",
       "      <td>1324079046</td>\n",
       "      <td>1/20/2015</td>\n",
       "      <td>7</td>\n",
       "      <td>NaN</td>\n",
       "    </tr>\n",
       "    <tr>\n",
       "      <td>1313</td>\n",
       "      <td>7558700030</td>\n",
       "      <td>4/13/2015</td>\n",
       "      <td>12</td>\n",
       "      <td>NaN</td>\n",
       "    </tr>\n",
       "    <tr>\n",
       "      <td>1364</td>\n",
       "      <td>9468200140</td>\n",
       "      <td>8/19/2014</td>\n",
       "      <td>7</td>\n",
       "      <td>NaN</td>\n",
       "    </tr>\n",
       "    <tr>\n",
       "      <td>1701</td>\n",
       "      <td>3121069036</td>\n",
       "      <td>12/8/2014</td>\n",
       "      <td>8</td>\n",
       "      <td>NaN</td>\n",
       "    </tr>\n",
       "    <tr>\n",
       "      <td>2415</td>\n",
       "      <td>8924100111</td>\n",
       "      <td>4/24/2015</td>\n",
       "      <td>8</td>\n",
       "      <td>NaN</td>\n",
       "    </tr>\n",
       "    <tr>\n",
       "      <td>2833</td>\n",
       "      <td>2710600025</td>\n",
       "      <td>11/3/2014</td>\n",
       "      <td>7</td>\n",
       "      <td>NaN</td>\n",
       "    </tr>\n",
       "    <tr>\n",
       "      <td>3150</td>\n",
       "      <td>1336800015</td>\n",
       "      <td>5/21/2014</td>\n",
       "      <td>10</td>\n",
       "      <td>NaN</td>\n",
       "    </tr>\n",
       "    <tr>\n",
       "      <td>3237</td>\n",
       "      <td>5259800090</td>\n",
       "      <td>4/27/2015</td>\n",
       "      <td>7</td>\n",
       "      <td>NaN</td>\n",
       "    </tr>\n",
       "    <tr>\n",
       "      <td>4533</td>\n",
       "      <td>7280300042</td>\n",
       "      <td>4/1/2015</td>\n",
       "      <td>8</td>\n",
       "      <td>NaN</td>\n",
       "    </tr>\n",
       "    <tr>\n",
       "      <td>4740</td>\n",
       "      <td>4123810090</td>\n",
       "      <td>9/9/2014</td>\n",
       "      <td>8</td>\n",
       "      <td>NaN</td>\n",
       "    </tr>\n",
       "    <tr>\n",
       "      <td>5196</td>\n",
       "      <td>8857600680</td>\n",
       "      <td>3/13/2015</td>\n",
       "      <td>7</td>\n",
       "      <td>NaN</td>\n",
       "    </tr>\n",
       "    <tr>\n",
       "      <td>5207</td>\n",
       "      <td>4031000290</td>\n",
       "      <td>4/8/2015</td>\n",
       "      <td>7</td>\n",
       "      <td>NaN</td>\n",
       "    </tr>\n",
       "    <tr>\n",
       "      <td>5393</td>\n",
       "      <td>2141330050</td>\n",
       "      <td>5/20/2014</td>\n",
       "      <td>9</td>\n",
       "      <td>NaN</td>\n",
       "    </tr>\n",
       "    <tr>\n",
       "      <td>5494</td>\n",
       "      <td>2338800161</td>\n",
       "      <td>1/6/2015</td>\n",
       "      <td>6</td>\n",
       "      <td>NaN</td>\n",
       "    </tr>\n",
       "    <tr>\n",
       "      <td>5585</td>\n",
       "      <td>5739600427</td>\n",
       "      <td>3/11/2015</td>\n",
       "      <td>7</td>\n",
       "      <td>NaN</td>\n",
       "    </tr>\n",
       "    <tr>\n",
       "      <td>5746</td>\n",
       "      <td>3630180500</td>\n",
       "      <td>10/6/2014</td>\n",
       "      <td>10</td>\n",
       "      <td>NaN</td>\n",
       "    </tr>\n",
       "    <tr>\n",
       "      <td>6391</td>\n",
       "      <td>1432400345</td>\n",
       "      <td>4/21/2015</td>\n",
       "      <td>6</td>\n",
       "      <td>NaN</td>\n",
       "    </tr>\n",
       "    <tr>\n",
       "      <td>7103</td>\n",
       "      <td>104540840</td>\n",
       "      <td>12/3/2014</td>\n",
       "      <td>7</td>\n",
       "      <td>NaN</td>\n",
       "    </tr>\n",
       "    <tr>\n",
       "      <td>7269</td>\n",
       "      <td>339200130</td>\n",
       "      <td>5/31/2014</td>\n",
       "      <td>9</td>\n",
       "      <td>NaN</td>\n",
       "    </tr>\n",
       "    <tr>\n",
       "      <td>7563</td>\n",
       "      <td>126059018</td>\n",
       "      <td>1/8/2015</td>\n",
       "      <td>8</td>\n",
       "      <td>NaN</td>\n",
       "    </tr>\n",
       "    <tr>\n",
       "      <td>7686</td>\n",
       "      <td>3579700100</td>\n",
       "      <td>5/27/2014</td>\n",
       "      <td>7</td>\n",
       "      <td>NaN</td>\n",
       "    </tr>\n",
       "    <tr>\n",
       "      <td>7716</td>\n",
       "      <td>3972900025</td>\n",
       "      <td>3/13/2015</td>\n",
       "      <td>7</td>\n",
       "      <td>NaN</td>\n",
       "    </tr>\n",
       "    <tr>\n",
       "      <td>8047</td>\n",
       "      <td>3530490031</td>\n",
       "      <td>9/24/2014</td>\n",
       "      <td>8</td>\n",
       "      <td>NaN</td>\n",
       "    </tr>\n",
       "    <tr>\n",
       "      <td>8066</td>\n",
       "      <td>8661000148</td>\n",
       "      <td>10/28/2014</td>\n",
       "      <td>7</td>\n",
       "      <td>NaN</td>\n",
       "    </tr>\n",
       "    <tr>\n",
       "      <td>8279</td>\n",
       "      <td>4358700141</td>\n",
       "      <td>4/27/2015</td>\n",
       "      <td>7</td>\n",
       "      <td>NaN</td>\n",
       "    </tr>\n",
       "    <tr>\n",
       "      <td>8575</td>\n",
       "      <td>2997800090</td>\n",
       "      <td>4/6/2015</td>\n",
       "      <td>6</td>\n",
       "      <td>NaN</td>\n",
       "    </tr>\n",
       "    <tr>\n",
       "      <td>9405</td>\n",
       "      <td>5700003630</td>\n",
       "      <td>6/30/2014</td>\n",
       "      <td>11</td>\n",
       "      <td>NaN</td>\n",
       "    </tr>\n",
       "    <tr>\n",
       "      <td>9853</td>\n",
       "      <td>2719100400</td>\n",
       "      <td>9/12/2014</td>\n",
       "      <td>7</td>\n",
       "      <td>NaN</td>\n",
       "    </tr>\n",
       "    <tr>\n",
       "      <td>10023</td>\n",
       "      <td>3423600060</td>\n",
       "      <td>12/2/2014</td>\n",
       "      <td>7</td>\n",
       "      <td>NaN</td>\n",
       "    </tr>\n",
       "    <tr>\n",
       "      <td>10174</td>\n",
       "      <td>806800400</td>\n",
       "      <td>2/9/2015</td>\n",
       "      <td>7</td>\n",
       "      <td>NaN</td>\n",
       "    </tr>\n",
       "    <tr>\n",
       "      <td>10339</td>\n",
       "      <td>6868200060</td>\n",
       "      <td>12/11/2014</td>\n",
       "      <td>8</td>\n",
       "      <td>NaN</td>\n",
       "    </tr>\n",
       "    <tr>\n",
       "      <td>10704</td>\n",
       "      <td>9269200831</td>\n",
       "      <td>8/25/2014</td>\n",
       "      <td>6</td>\n",
       "      <td>NaN</td>\n",
       "    </tr>\n",
       "    <tr>\n",
       "      <td>11305</td>\n",
       "      <td>1560100135</td>\n",
       "      <td>2/24/2015</td>\n",
       "      <td>7</td>\n",
       "      <td>NaN</td>\n",
       "    </tr>\n",
       "    <tr>\n",
       "      <td>11479</td>\n",
       "      <td>3214200070</td>\n",
       "      <td>4/29/2015</td>\n",
       "      <td>7</td>\n",
       "      <td>NaN</td>\n",
       "    </tr>\n",
       "    <tr>\n",
       "      <td>11634</td>\n",
       "      <td>1796200140</td>\n",
       "      <td>3/9/2015</td>\n",
       "      <td>7</td>\n",
       "      <td>NaN</td>\n",
       "    </tr>\n",
       "    <tr>\n",
       "      <td>11704</td>\n",
       "      <td>705710640</td>\n",
       "      <td>3/2/2015</td>\n",
       "      <td>7</td>\n",
       "      <td>NaN</td>\n",
       "    </tr>\n",
       "    <tr>\n",
       "      <td>12486</td>\n",
       "      <td>1088810040</td>\n",
       "      <td>3/20/2015</td>\n",
       "      <td>9</td>\n",
       "      <td>NaN</td>\n",
       "    </tr>\n",
       "    <tr>\n",
       "      <td>13456</td>\n",
       "      <td>871001085</td>\n",
       "      <td>1/29/2015</td>\n",
       "      <td>8</td>\n",
       "      <td>NaN</td>\n",
       "    </tr>\n",
       "    <tr>\n",
       "      <td>13539</td>\n",
       "      <td>8835350230</td>\n",
       "      <td>8/25/2014</td>\n",
       "      <td>9</td>\n",
       "      <td>NaN</td>\n",
       "    </tr>\n",
       "    <tr>\n",
       "      <td>13729</td>\n",
       "      <td>1895450230</td>\n",
       "      <td>2/18/2015</td>\n",
       "      <td>8</td>\n",
       "      <td>NaN</td>\n",
       "    </tr>\n",
       "    <tr>\n",
       "      <td>13863</td>\n",
       "      <td>6669240230</td>\n",
       "      <td>3/17/2015</td>\n",
       "      <td>8</td>\n",
       "      <td>NaN</td>\n",
       "    </tr>\n",
       "    <tr>\n",
       "      <td>14003</td>\n",
       "      <td>6303400150</td>\n",
       "      <td>9/29/2014</td>\n",
       "      <td>6</td>\n",
       "      <td>NaN</td>\n",
       "    </tr>\n",
       "    <tr>\n",
       "      <td>14526</td>\n",
       "      <td>3678900450</td>\n",
       "      <td>9/26/2014</td>\n",
       "      <td>7</td>\n",
       "      <td>NaN</td>\n",
       "    </tr>\n",
       "    <tr>\n",
       "      <td>14657</td>\n",
       "      <td>1954700365</td>\n",
       "      <td>3/17/2015</td>\n",
       "      <td>8</td>\n",
       "      <td>NaN</td>\n",
       "    </tr>\n",
       "    <tr>\n",
       "      <td>14975</td>\n",
       "      <td>8562740480</td>\n",
       "      <td>4/14/2015</td>\n",
       "      <td>9</td>\n",
       "      <td>NaN</td>\n",
       "    </tr>\n",
       "    <tr>\n",
       "      <td>15174</td>\n",
       "      <td>5706300020</td>\n",
       "      <td>11/25/2014</td>\n",
       "      <td>7</td>\n",
       "      <td>NaN</td>\n",
       "    </tr>\n",
       "    <tr>\n",
       "      <td>15809</td>\n",
       "      <td>5088500170</td>\n",
       "      <td>10/27/2014</td>\n",
       "      <td>9</td>\n",
       "      <td>NaN</td>\n",
       "    </tr>\n",
       "    <tr>\n",
       "      <td>15943</td>\n",
       "      <td>2162000190</td>\n",
       "      <td>12/15/2014</td>\n",
       "      <td>9</td>\n",
       "      <td>NaN</td>\n",
       "    </tr>\n",
       "    <tr>\n",
       "      <td>16748</td>\n",
       "      <td>6669080020</td>\n",
       "      <td>12/26/2014</td>\n",
       "      <td>7</td>\n",
       "      <td>NaN</td>\n",
       "    </tr>\n",
       "    <tr>\n",
       "      <td>17222</td>\n",
       "      <td>316000190</td>\n",
       "      <td>2/15/2015</td>\n",
       "      <td>6</td>\n",
       "      <td>NaN</td>\n",
       "    </tr>\n",
       "    <tr>\n",
       "      <td>18225</td>\n",
       "      <td>7625701386</td>\n",
       "      <td>5/16/2014</td>\n",
       "      <td>7</td>\n",
       "      <td>NaN</td>\n",
       "    </tr>\n",
       "    <tr>\n",
       "      <td>18611</td>\n",
       "      <td>2485000076</td>\n",
       "      <td>1/22/2015</td>\n",
       "      <td>10</td>\n",
       "      <td>NaN</td>\n",
       "    </tr>\n",
       "    <tr>\n",
       "      <td>19989</td>\n",
       "      <td>148000475</td>\n",
       "      <td>5/28/2014</td>\n",
       "      <td>11</td>\n",
       "      <td>NaN</td>\n",
       "    </tr>\n",
       "    <tr>\n",
       "      <td>20148</td>\n",
       "      <td>291310170</td>\n",
       "      <td>8/4/2014</td>\n",
       "      <td>8</td>\n",
       "      <td>NaN</td>\n",
       "    </tr>\n",
       "    <tr>\n",
       "      <td>20380</td>\n",
       "      <td>1196003740</td>\n",
       "      <td>9/24/2014</td>\n",
       "      <td>10</td>\n",
       "      <td>NaN</td>\n",
       "    </tr>\n",
       "    <tr>\n",
       "      <td>21057</td>\n",
       "      <td>3448900290</td>\n",
       "      <td>8/28/2014</td>\n",
       "      <td>9</td>\n",
       "      <td>NaN</td>\n",
       "    </tr>\n",
       "    <tr>\n",
       "      <td>21589</td>\n",
       "      <td>3448900210</td>\n",
       "      <td>10/14/2014</td>\n",
       "      <td>9</td>\n",
       "      <td>NaN</td>\n",
       "    </tr>\n",
       "  </tbody>\n",
       "</table>\n",
       "</div>"
      ],
      "text/plain": [
       "               id        date  grade  view\n",
       "7      2008000270   1/15/2015      7   NaN\n",
       "114    8961960160  10/28/2014      9   NaN\n",
       "129    7853210060    4/6/2015      7   NaN\n",
       "205    3456000310    8/4/2014      9   NaN\n",
       "487    1895000260   7/21/2014      6   NaN\n",
       "590    2525069041    9/4/2014      7   NaN\n",
       "938    1324079046   1/20/2015      7   NaN\n",
       "1313   7558700030   4/13/2015     12   NaN\n",
       "1364   9468200140   8/19/2014      7   NaN\n",
       "1701   3121069036   12/8/2014      8   NaN\n",
       "2415   8924100111   4/24/2015      8   NaN\n",
       "2833   2710600025   11/3/2014      7   NaN\n",
       "3150   1336800015   5/21/2014     10   NaN\n",
       "3237   5259800090   4/27/2015      7   NaN\n",
       "4533   7280300042    4/1/2015      8   NaN\n",
       "4740   4123810090    9/9/2014      8   NaN\n",
       "5196   8857600680   3/13/2015      7   NaN\n",
       "5207   4031000290    4/8/2015      7   NaN\n",
       "5393   2141330050   5/20/2014      9   NaN\n",
       "5494   2338800161    1/6/2015      6   NaN\n",
       "5585   5739600427   3/11/2015      7   NaN\n",
       "5746   3630180500   10/6/2014     10   NaN\n",
       "6391   1432400345   4/21/2015      6   NaN\n",
       "7103    104540840   12/3/2014      7   NaN\n",
       "7269    339200130   5/31/2014      9   NaN\n",
       "7563    126059018    1/8/2015      8   NaN\n",
       "7686   3579700100   5/27/2014      7   NaN\n",
       "7716   3972900025   3/13/2015      7   NaN\n",
       "8047   3530490031   9/24/2014      8   NaN\n",
       "8066   8661000148  10/28/2014      7   NaN\n",
       "8279   4358700141   4/27/2015      7   NaN\n",
       "8575   2997800090    4/6/2015      6   NaN\n",
       "9405   5700003630   6/30/2014     11   NaN\n",
       "9853   2719100400   9/12/2014      7   NaN\n",
       "10023  3423600060   12/2/2014      7   NaN\n",
       "10174   806800400    2/9/2015      7   NaN\n",
       "10339  6868200060  12/11/2014      8   NaN\n",
       "10704  9269200831   8/25/2014      6   NaN\n",
       "11305  1560100135   2/24/2015      7   NaN\n",
       "11479  3214200070   4/29/2015      7   NaN\n",
       "11634  1796200140    3/9/2015      7   NaN\n",
       "11704   705710640    3/2/2015      7   NaN\n",
       "12486  1088810040   3/20/2015      9   NaN\n",
       "13456   871001085   1/29/2015      8   NaN\n",
       "13539  8835350230   8/25/2014      9   NaN\n",
       "13729  1895450230   2/18/2015      8   NaN\n",
       "13863  6669240230   3/17/2015      8   NaN\n",
       "14003  6303400150   9/29/2014      6   NaN\n",
       "14526  3678900450   9/26/2014      7   NaN\n",
       "14657  1954700365   3/17/2015      8   NaN\n",
       "14975  8562740480   4/14/2015      9   NaN\n",
       "15174  5706300020  11/25/2014      7   NaN\n",
       "15809  5088500170  10/27/2014      9   NaN\n",
       "15943  2162000190  12/15/2014      9   NaN\n",
       "16748  6669080020  12/26/2014      7   NaN\n",
       "17222   316000190   2/15/2015      6   NaN\n",
       "18225  7625701386   5/16/2014      7   NaN\n",
       "18611  2485000076   1/22/2015     10   NaN\n",
       "19989   148000475   5/28/2014     11   NaN\n",
       "20148   291310170    8/4/2014      8   NaN\n",
       "20380  1196003740   9/24/2014     10   NaN\n",
       "21057  3448900290   8/28/2014      9   NaN\n",
       "21589  3448900210  10/14/2014      9   NaN"
      ]
     },
     "execution_count": 16,
     "metadata": {},
     "output_type": "execute_result"
    }
   ],
   "source": [
    "# setting to view all rows in this set (there are 63)\n",
    "pd.set_option('display.max_rows', 70)\n",
    "# viewing rows\n",
    "data_f.loc[data_f['view'].isna(), (['id', 'date', 'grade', 'view'])]"
   ]
  },
  {
   "cell_type": "markdown",
   "metadata": {},
   "source": [
    "These properties are highly rated, but have no recorded views. Perhaps they were purchased site - unseen, in the area's competitive market.\n",
    "\n",
    "I wonder whether any of them have previously been sold? Are any of the IDs duplicated (flipped in a short period of time)?"
   ]
  },
  {
   "cell_type": "code",
   "execution_count": 17,
   "metadata": {},
   "outputs": [
    {
     "data": {
      "text/plain": [
       "0"
      ]
     },
     "execution_count": 17,
     "metadata": {},
     "output_type": "execute_result"
    }
   ],
   "source": [
    "# instantiating a variable for the dataframe created above\n",
    "null_views_df = data_f.loc[data_f['view'].isna(), (['id', 'date', 'grade'])]\n",
    "\n",
    "# and a variable for duplicate property IDs\n",
    "duplicate_ids_df = data_f[data_f.duplicated(['id'])]\n",
    "\n",
    "# counting null views with duplicate IDs\n",
    "filter_1 = null_views_df.id.isin(duplicate_ids_df.id).sum()\n",
    "filter_1"
   ]
  },
  {
   "cell_type": "markdown",
   "metadata": {},
   "source": [
    "None of the homes with null views have duplicate IDs. This group makes me curious.\n",
    "\n",
    "Converting these values to 0s, but I may return to this group, depending on our central questions (to be developed in the next notebook section)."
   ]
  },
  {
   "cell_type": "code",
   "execution_count": 18,
   "metadata": {},
   "outputs": [
    {
     "name": "stdout",
     "output_type": "stream",
     "text": [
      "Column nulls before processing:  63\n",
      "------------------------------------------------------------------------ \n",
      "View column nulls after processing: \n",
      " 0\n"
     ]
    }
   ],
   "source": [
    "# now we can convert null values to 0s\n",
    "print(\"Column nulls before processing: \", data_f.view.isna().sum())\n",
    "data_f['view'].fillna(0, inplace=True)\n",
    "\n",
    "# verify no null values remain in `view`\n",
    "print(\"-\"*72, \"\\nView column nulls after processing: \\n\", data_f.view.isna().sum())"
   ]
  },
  {
   "cell_type": "code",
   "execution_count": 19,
   "metadata": {},
   "outputs": [
    {
     "name": "stdout",
     "output_type": "stream",
     "text": [
      "View - column nulls before processing:  0\n",
      "Converting from  float64 ------------------------------------------\n",
      "Converted to  int64\n"
     ]
    }
   ],
   "source": [
    "print(\"View - column nulls before processing: \", data_f.view.isna().sum())\n",
    "print(\"Converting from \", data_f.view.dtype, \"-\"*42)\n",
    "\n",
    "# first convert data type\n",
    "data_f['view'] = data_f['view'].astype('int64')\n",
    "\n",
    "print(\"Converted to \", data_f.view.dtype)"
   ]
  },
  {
   "cell_type": "markdown",
   "metadata": {},
   "source": [
    "### `yr_renovated`"
   ]
  },
  {
   "cell_type": "markdown",
   "metadata": {},
   "source": [
    "* A null value in this column suggests no renovation has been done.\n",
    "* Boolean values are mixed with years"
   ]
  },
  {
   "cell_type": "code",
   "execution_count": 20,
   "metadata": {},
   "outputs": [
    {
     "name": "stdout",
     "output_type": "stream",
     "text": [
      "Year renovated null count:  3842\n",
      "Year renovated zero count:  17011\n",
      "Year renovated negative count:  0\n"
     ]
    },
    {
     "data": {
      "text/plain": [
       "0.0       17011\n",
       "2014.0       73\n",
       "2003.0       31\n",
       "2013.0       31\n",
       "2007.0       30\n",
       "          ...  \n",
       "1946.0        1\n",
       "1959.0        1\n",
       "1971.0        1\n",
       "1951.0        1\n",
       "1954.0        1\n",
       "Name: yr_renovated, Length: 70, dtype: int64"
      ]
     },
     "metadata": {},
     "output_type": "display_data"
    }
   ],
   "source": [
    "# limiting number of rows to view\n",
    "pd.set_option('display.max_rows', 10)\n",
    "\n",
    "# viewing counts for the column\n",
    "print(\"Year renovated null count: \", data.yr_renovated.isna().sum())\n",
    "print(\"Year renovated zero count: \", (data.yr_renovated == 0).sum())\n",
    "print(\"Year renovated negative count: \", (data.yr_renovated < 0).sum())\n",
    "display(data_f.yr_renovated.value_counts())\n"
   ]
  },
  {
   "cell_type": "markdown",
   "metadata": {},
   "source": [
    "### Adding a column to indicate whether or not the home was renovated\n",
    "\n",
    "Whether the home was renovated interests me more than what year the home was renovated."
   ]
  },
  {
   "cell_type": "code",
   "execution_count": 21,
   "metadata": {},
   "outputs": [],
   "source": [
    "# creating a new boolean column\n",
    "# returning True for `yr_renovated` > 1 in each row\n",
    "data_f['Renovated'] = (data_f['yr_renovated'] > 1).astype(int)"
   ]
  },
  {
   "cell_type": "markdown",
   "metadata": {},
   "source": [
    "Dropping the original `yr_renovated` column."
   ]
  },
  {
   "cell_type": "code",
   "execution_count": 22,
   "metadata": {},
   "outputs": [],
   "source": [
    "data_f.drop(columns='yr_renovated', inplace=True)"
   ]
  },
  {
   "cell_type": "code",
   "execution_count": 23,
   "metadata": {},
   "outputs": [
    {
     "data": {
      "text/html": [
       "<div>\n",
       "<style scoped>\n",
       "    .dataframe tbody tr th:only-of-type {\n",
       "        vertical-align: middle;\n",
       "    }\n",
       "\n",
       "    .dataframe tbody tr th {\n",
       "        vertical-align: top;\n",
       "    }\n",
       "\n",
       "    .dataframe thead th {\n",
       "        text-align: right;\n",
       "    }\n",
       "</style>\n",
       "<table border=\"1\" class=\"dataframe\">\n",
       "  <thead>\n",
       "    <tr style=\"text-align: right;\">\n",
       "      <th></th>\n",
       "      <th>id</th>\n",
       "      <th>date</th>\n",
       "      <th>price</th>\n",
       "      <th>bedrooms</th>\n",
       "      <th>bathrooms</th>\n",
       "      <th>sqft_living</th>\n",
       "      <th>sqft_lot</th>\n",
       "      <th>floors</th>\n",
       "      <th>waterfront</th>\n",
       "      <th>view</th>\n",
       "      <th>condition</th>\n",
       "      <th>grade</th>\n",
       "      <th>sqft_above</th>\n",
       "      <th>sqft_basement</th>\n",
       "      <th>yr_built</th>\n",
       "      <th>zipcode</th>\n",
       "      <th>lat</th>\n",
       "      <th>long</th>\n",
       "      <th>sqft_living15</th>\n",
       "      <th>sqft_lot15</th>\n",
       "      <th>Renovated</th>\n",
       "    </tr>\n",
       "  </thead>\n",
       "  <tbody>\n",
       "    <tr>\n",
       "      <td>0</td>\n",
       "      <td>7129300520</td>\n",
       "      <td>10/13/2014</td>\n",
       "      <td>221900.0</td>\n",
       "      <td>3</td>\n",
       "      <td>1.00</td>\n",
       "      <td>1180</td>\n",
       "      <td>5650</td>\n",
       "      <td>1.0</td>\n",
       "      <td>0</td>\n",
       "      <td>0</td>\n",
       "      <td>3</td>\n",
       "      <td>7</td>\n",
       "      <td>1180</td>\n",
       "      <td>0.0</td>\n",
       "      <td>1955</td>\n",
       "      <td>98178</td>\n",
       "      <td>47.5112</td>\n",
       "      <td>-122.257</td>\n",
       "      <td>1340</td>\n",
       "      <td>5650</td>\n",
       "      <td>0</td>\n",
       "    </tr>\n",
       "    <tr>\n",
       "      <td>1</td>\n",
       "      <td>6414100192</td>\n",
       "      <td>12/9/2014</td>\n",
       "      <td>538000.0</td>\n",
       "      <td>3</td>\n",
       "      <td>2.25</td>\n",
       "      <td>2570</td>\n",
       "      <td>7242</td>\n",
       "      <td>2.0</td>\n",
       "      <td>0</td>\n",
       "      <td>0</td>\n",
       "      <td>3</td>\n",
       "      <td>7</td>\n",
       "      <td>2170</td>\n",
       "      <td>400.0</td>\n",
       "      <td>1951</td>\n",
       "      <td>98125</td>\n",
       "      <td>47.7210</td>\n",
       "      <td>-122.319</td>\n",
       "      <td>1690</td>\n",
       "      <td>7639</td>\n",
       "      <td>1</td>\n",
       "    </tr>\n",
       "    <tr>\n",
       "      <td>2</td>\n",
       "      <td>5631500400</td>\n",
       "      <td>2/25/2015</td>\n",
       "      <td>180000.0</td>\n",
       "      <td>2</td>\n",
       "      <td>1.00</td>\n",
       "      <td>770</td>\n",
       "      <td>10000</td>\n",
       "      <td>1.0</td>\n",
       "      <td>0</td>\n",
       "      <td>0</td>\n",
       "      <td>3</td>\n",
       "      <td>6</td>\n",
       "      <td>770</td>\n",
       "      <td>0.0</td>\n",
       "      <td>1933</td>\n",
       "      <td>98028</td>\n",
       "      <td>47.7379</td>\n",
       "      <td>-122.233</td>\n",
       "      <td>2720</td>\n",
       "      <td>8062</td>\n",
       "      <td>0</td>\n",
       "    </tr>\n",
       "    <tr>\n",
       "      <td>3</td>\n",
       "      <td>2487200875</td>\n",
       "      <td>12/9/2014</td>\n",
       "      <td>604000.0</td>\n",
       "      <td>4</td>\n",
       "      <td>3.00</td>\n",
       "      <td>1960</td>\n",
       "      <td>5000</td>\n",
       "      <td>1.0</td>\n",
       "      <td>0</td>\n",
       "      <td>0</td>\n",
       "      <td>5</td>\n",
       "      <td>7</td>\n",
       "      <td>1050</td>\n",
       "      <td>910.0</td>\n",
       "      <td>1965</td>\n",
       "      <td>98136</td>\n",
       "      <td>47.5208</td>\n",
       "      <td>-122.393</td>\n",
       "      <td>1360</td>\n",
       "      <td>5000</td>\n",
       "      <td>0</td>\n",
       "    </tr>\n",
       "    <tr>\n",
       "      <td>4</td>\n",
       "      <td>1954400510</td>\n",
       "      <td>2/18/2015</td>\n",
       "      <td>510000.0</td>\n",
       "      <td>3</td>\n",
       "      <td>2.00</td>\n",
       "      <td>1680</td>\n",
       "      <td>8080</td>\n",
       "      <td>1.0</td>\n",
       "      <td>0</td>\n",
       "      <td>0</td>\n",
       "      <td>3</td>\n",
       "      <td>8</td>\n",
       "      <td>1680</td>\n",
       "      <td>0.0</td>\n",
       "      <td>1987</td>\n",
       "      <td>98074</td>\n",
       "      <td>47.6168</td>\n",
       "      <td>-122.045</td>\n",
       "      <td>1800</td>\n",
       "      <td>7503</td>\n",
       "      <td>0</td>\n",
       "    </tr>\n",
       "  </tbody>\n",
       "</table>\n",
       "</div>"
      ],
      "text/plain": [
       "           id        date     price  bedrooms  bathrooms  sqft_living  \\\n",
       "0  7129300520  10/13/2014  221900.0         3       1.00         1180   \n",
       "1  6414100192   12/9/2014  538000.0         3       2.25         2570   \n",
       "2  5631500400   2/25/2015  180000.0         2       1.00          770   \n",
       "3  2487200875   12/9/2014  604000.0         4       3.00         1960   \n",
       "4  1954400510   2/18/2015  510000.0         3       2.00         1680   \n",
       "\n",
       "   sqft_lot  floors  waterfront  view  condition  grade  sqft_above  \\\n",
       "0      5650     1.0           0     0          3      7        1180   \n",
       "1      7242     2.0           0     0          3      7        2170   \n",
       "2     10000     1.0           0     0          3      6         770   \n",
       "3      5000     1.0           0     0          5      7        1050   \n",
       "4      8080     1.0           0     0          3      8        1680   \n",
       "\n",
       "  sqft_basement  yr_built  zipcode      lat     long  sqft_living15  \\\n",
       "0           0.0      1955    98178  47.5112 -122.257           1340   \n",
       "1         400.0      1951    98125  47.7210 -122.319           1690   \n",
       "2           0.0      1933    98028  47.7379 -122.233           2720   \n",
       "3         910.0      1965    98136  47.5208 -122.393           1360   \n",
       "4           0.0      1987    98074  47.6168 -122.045           1800   \n",
       "\n",
       "   sqft_lot15  Renovated  \n",
       "0        5650          0  \n",
       "1        7639          1  \n",
       "2        8062          0  \n",
       "3        5000          0  \n",
       "4        7503          0  "
      ]
     },
     "execution_count": 23,
     "metadata": {},
     "output_type": "execute_result"
    }
   ],
   "source": [
    "# inspecting dataframe with new `Renovated` column\n",
    "data_f.head()"
   ]
  },
  {
   "cell_type": "markdown",
   "metadata": {},
   "source": [
    "#### Miss anything?"
   ]
  },
  {
   "cell_type": "code",
   "execution_count": 24,
   "metadata": {},
   "outputs": [
    {
     "data": {
      "text/plain": [
       "<matplotlib.axes._subplots.AxesSubplot at 0x292bc5b6208>"
      ]
     },
     "execution_count": 24,
     "metadata": {},
     "output_type": "execute_result"
    },
    {
     "data": {
      "image/png": "[encoded data removed]",
      "text/plain": [
       "<Figure size 432x288 with 1 Axes>"
      ]
     },
     "metadata": {
      "needs_background": "light"
     },
     "output_type": "display_data"
    }
   ],
   "source": [
    "# using a heatmap to visualize where values are missing\n",
    "sns.heatmap(data_f.isnull(), yticklabels=False, cbar=False, cmap=\"YlGnBu\")"
   ]
  },
  {
   "cell_type": "markdown",
   "metadata": {},
   "source": [
    "All clear."
   ]
  },
  {
   "cell_type": "markdown",
   "metadata": {},
   "source": [
    "## Dealing with more Data Types"
   ]
  },
  {
   "cell_type": "markdown",
   "metadata": {},
   "source": [
    "`date`"
   ]
  },
  {
   "cell_type": "code",
   "execution_count": 25,
   "metadata": {},
   "outputs": [
    {
     "data": {
      "text/plain": [
       "dtype('O')"
      ]
     },
     "metadata": {},
     "output_type": "display_data"
    },
    {
     "data": {
      "text/plain": [
       "0    10/13/2014\n",
       "Name: date, dtype: object"
      ]
     },
     "execution_count": 25,
     "metadata": {},
     "output_type": "execute_result"
    }
   ],
   "source": [
    "display(data_f.date.dtype)\n",
    "data_f.date.head(1)"
   ]
  },
  {
   "cell_type": "code",
   "execution_count": 26,
   "metadata": {},
   "outputs": [
    {
     "data": {
      "text/plain": [
       "Timestamp('2014-05-02 00:00:00')"
      ]
     },
     "execution_count": 26,
     "metadata": {},
     "output_type": "execute_result"
    }
   ],
   "source": [
    "data_f.date = pd.to_datetime(data_f.date)\n",
    "data_f.date.min()"
   ]
  },
  {
   "cell_type": "markdown",
   "metadata": {},
   "source": [
    "> This data would be more interesting to me if the dates were spread over a longer period of time. As the dates only cover the span of about one year, First I will extract the year."
   ]
  },
  {
   "cell_type": "code",
   "execution_count": 27,
   "metadata": {},
   "outputs": [],
   "source": [
    "# convert the date to a year only integer\n",
    "data_f.date = data_f.date.map(lambda x: x.strftime('%Y')).astype(int)"
   ]
  },
  {
   "cell_type": "code",
   "execution_count": 28,
   "metadata": {},
   "outputs": [
    {
     "data": {
      "text/plain": [
       "0    2014\n",
       "1    2014\n",
       "Name: date, dtype: int32"
      ]
     },
     "execution_count": 28,
     "metadata": {},
     "output_type": "execute_result"
    }
   ],
   "source": [
    "data_f.date.dtype\n",
    "data_f.date.head(2)"
   ]
  },
  {
   "cell_type": "markdown",
   "metadata": {},
   "source": [
    "`condition`"
   ]
  },
  {
   "cell_type": "code",
   "execution_count": 29,
   "metadata": {},
   "outputs": [
    {
     "data": {
      "text/plain": [
       "dtype('int64')"
      ]
     },
     "execution_count": 29,
     "metadata": {},
     "output_type": "execute_result"
    }
   ],
   "source": [
    "data_f.condition.dtype"
   ]
  },
  {
   "cell_type": "markdown",
   "metadata": {},
   "source": [
    "`sqft_basement`"
   ]
  },
  {
   "cell_type": "code",
   "execution_count": 30,
   "metadata": {},
   "outputs": [
    {
     "name": "stdout",
     "output_type": "stream",
     "text": [
      "0       0.0\n",
      "1     400.0\n",
      "2       0.0\n",
      "3     910.0\n",
      "4       0.0\n",
      "5    1530.0\n",
      "6         ?\n",
      "7       0.0\n",
      "8     730.0\n",
      "9       0.0\n",
      "Name: sqft_basement, dtype: object \n",
      " ------------------------------------------------------------------------\n"
     ]
    },
    {
     "data": {
      "text/plain": [
       "count     21597\n",
       "unique      304\n",
       "top         0.0\n",
       "freq      12826\n",
       "Name: sqft_basement, dtype: object"
      ]
     },
     "execution_count": 30,
     "metadata": {},
     "output_type": "execute_result"
    }
   ],
   "source": [
    "# check the current type and first rows\n",
    "print(data_f.sqft_basement.head(10), \"\\n\", \"-\"*72)\n",
    "data_f.sqft_basement.describe()"
   ]
  },
  {
   "cell_type": "markdown",
   "metadata": {},
   "source": [
    "A question mark, indeed. Presuming that to be the only non - numerical data in this column and replacing it (them) with zeros."
   ]
  },
  {
   "cell_type": "code",
   "execution_count": 31,
   "metadata": {},
   "outputs": [
    {
     "data": {
      "text/plain": [
       "454"
      ]
     },
     "execution_count": 31,
     "metadata": {},
     "output_type": "execute_result"
    }
   ],
   "source": [
    "# counting question marks\n",
    "data_f.loc[(data_f['sqft_basement'] == '?'), 'sqft_basement'].count()"
   ]
  },
  {
   "cell_type": "code",
   "execution_count": 32,
   "metadata": {},
   "outputs": [
    {
     "name": "stdout",
     "output_type": "stream",
     "text": [
      "454  rows had ?s\n",
      "0  rows have ?s\n",
      "object\n"
     ]
    },
    {
     "data": {
      "text/plain": [
       "4       0.0\n",
       "5    1530.0\n",
       "6         1\n",
       "7       0.0\n",
       "Name: sqft_basement, dtype: object"
      ]
     },
     "execution_count": 32,
     "metadata": {},
     "output_type": "execute_result"
    }
   ],
   "source": [
    "# replacing question marks with zeros\n",
    "sb = data_f['sqft_basement']\n",
    "print(data_f.loc[(data_f['sqft_basement'] == '?'), 'sqft_basement'].count(),\n",
    "     \" rows had ?s\")\n",
    "\n",
    "# convert data type to int\n",
    "# sb = sb.astype(pd.Int64Dtype()) <-- would not convert directly\n",
    "\n",
    "# convert placeholder?s to placeholder 1.0 to avoid 0.0 issues\n",
    "data_f['sqft_basement'] = data_f['sqft_basement'].map(lambda x: 1.0 if x == '?' else x)\n",
    "\n",
    "pd.to_numeric(data_f['sqft_basement'])\n",
    "\n",
    "# printing number of ?s if any\n",
    "try:\n",
    "    print(data_f.loc[(data_f['sqft_basement'] == '?'), 'sqft_basement'].count(),\n",
    "     \" rows have ?s\")\n",
    "except: # if error from None, print that no rows have ?s\n",
    "    print(\"No rows have ?s\\n\")\n",
    "\n",
    "print(data_f['sqft_basement'].dtype)\n",
    "data_f['sqft_basement'][4:8]"
   ]
  },
  {
   "cell_type": "markdown",
   "metadata": {},
   "source": [
    "...Still an object!\n",
    "### Using a lambda function"
   ]
  },
  {
   "cell_type": "code",
   "execution_count": 33,
   "metadata": {},
   "outputs": [],
   "source": [
    "# converting one value at - a -time\n",
    "data_f['sqft_basement'] = data_f['sqft_basement'].map(lambda x: pd.to_numeric(x))"
   ]
  },
  {
   "cell_type": "code",
   "execution_count": 34,
   "metadata": {
    "scrolled": true
   },
   "outputs": [
    {
     "data": {
      "text/plain": [
       "dtype('float64')"
      ]
     },
     "metadata": {},
     "output_type": "display_data"
    },
    {
     "data": {
      "text/plain": [
       "4       0.0\n",
       "5    1530.0\n",
       "6       1.0\n",
       "7       0.0\n",
       "Name: sqft_basement, dtype: float64"
      ]
     },
     "execution_count": 34,
     "metadata": {},
     "output_type": "execute_result"
    }
   ],
   "source": [
    "display(data_f['sqft_basement'].dtype)\n",
    "data_f['sqft_basement'][4:8]"
   ]
  },
  {
   "cell_type": "markdown",
   "metadata": {},
   "source": [
    "### Using mask"
   ]
  },
  {
   "cell_type": "code",
   "execution_count": 35,
   "metadata": {},
   "outputs": [],
   "source": [
    "# getting those 1s back to 0s\n",
    "data_f['sqft_basement'].mask(lambda x : x == 1.0, other = 0, inplace=True)"
   ]
  },
  {
   "cell_type": "markdown",
   "metadata": {},
   "source": [
    "I could probably have used that much sooner."
   ]
  },
  {
   "cell_type": "code",
   "execution_count": 36,
   "metadata": {},
   "outputs": [
    {
     "data": {
      "text/plain": [
       "(0.0, dtype('float64'))"
      ]
     },
     "execution_count": 36,
     "metadata": {},
     "output_type": "execute_result"
    }
   ],
   "source": [
    "# checking the number of 0s and ensuring dtype is still float64\n",
    "data_f.loc[data_f['sqft_basement'] == 1]['sqft_basement'].sum(), data_f['sqft_basement'].dtype"
   ]
  },
  {
   "cell_type": "markdown",
   "metadata": {},
   "source": [
    "## Dealing with Duplicate Columns"
   ]
  },
  {
   "cell_type": "code",
   "execution_count": 37,
   "metadata": {
    "scrolled": true
   },
   "outputs": [
    {
     "name": "stdout",
     "output_type": "stream",
     "text": [
      "Duplicated IDs: \n",
      " (177, 21)\n",
      "--------------------------------------------------------------------------------\n",
      "Completely duplicated entries: \n",
      "\n",
      "--------------------------------------------------------------------------------\n"
     ]
    }
   ],
   "source": [
    "# checking for duplicate home IDs (we already created a slice for this)\n",
    "print(\"Duplicated IDs: \\n\", duplicate_ids_df.shape)\n",
    "print(\"-\"*80)\n",
    "\n",
    "# checking for complete row duplicates\n",
    "print(\"Completely duplicated entries: \\n\")\n",
    "print(\"-\"*80)"
   ]
  },
  {
   "cell_type": "markdown",
   "metadata": {},
   "source": [
    "There are no completely duplicated rows, though there are duplicate property IDs in the dataset.\n",
    "\n",
    "Since variables can change for a home from one sale to the next (eg., renovation, condition, et al.), we will not exclude these duplicate properties."
   ]
  },
  {
   "cell_type": "markdown",
   "metadata": {},
   "source": [
    "***\n",
    "## Dealing with Outliers"
   ]
  },
  {
   "cell_type": "markdown",
   "metadata": {},
   "source": [
    "Before we deal with categorical data, which will involve splitting categories into separate columns, we need to deal with outliers. This will prevent us from creating categorical columns for data we don't need and that we would then need to clean up. Of course, dealing with outliers should also help to make our distributions more normal, which in turn will make our model more reliable."
   ]
  },
  {
   "cell_type": "markdown",
   "metadata": {},
   "source": [
    "### Importing required libraries"
   ]
  },
  {
   "cell_type": "code",
   "execution_count": 38,
   "metadata": {},
   "outputs": [],
   "source": [
    "import matplotlib.pyplot as plt\n",
    "%matplotlib inline\n",
    "plt.rcdefaults() # set plt parameters to default\n",
    "\n",
    "from scipy import stats # using to find outliers by z - score"
   ]
  },
  {
   "cell_type": "markdown",
   "metadata": {},
   "source": [
    "#### Z-scores, IQRs, and Eyeballs\n",
    "\n",
    "There are a few ways to go about identifying and eliminating outliers.\n",
    "* The z - score indicates how many standard deviations from the mean is a data point. As we do not yet know whether our residual distributions are normal. it may be too soon to look at these scores to identify outliers.\n",
    "* The innerquartile range (IQR) rule identifies values that fall outside of the 25th and 75th percentiles by more than 1.5 - times the lower or upper boune.\n",
    "* We can look at visualizations to see how our data is distributed and make determinations about where should be our cut - off limits.\n",
    "\n",
    "Since we are still scrubbing our data, we can take a look at IQR for a few of our categorical explanatory variables."
   ]
  },
  {
   "cell_type": "markdown",
   "metadata": {},
   "source": [
    "### Categorical Outliers"
   ]
  },
  {
   "cell_type": "code",
   "execution_count": 39,
   "metadata": {},
   "outputs": [
    {
     "name": "stdout",
     "output_type": "stream",
     "text": [
      "['date', 'bedrooms', 'bathrooms', 'floors', 'view', 'condition', 'grade']\n"
     ]
    }
   ],
   "source": [
    "# most of our categorical variables comprise only a few unique values\n",
    "# we can add them to a list, leaving out boolean columns\n",
    "cat_list = [col for col in data_f.columns if (len(data_f[col].unique()\n",
    "                                      ) < 30) and (col not in ['waterfront', 'Renovated'])]\n",
    "\n",
    "# view the list\n",
    "print(cat_list)"
   ]
  },
  {
   "cell_type": "markdown",
   "metadata": {},
   "source": [
    "We really only need to take a look at `bedrooms`, `bathrooms`, and `floors` from this list."
   ]
  },
  {
   "cell_type": "code",
   "execution_count": 40,
   "metadata": {},
   "outputs": [
    {
     "data": {
      "text/plain": [
       "Text(0.0, 1.0, 'floors')"
      ]
     },
     "execution_count": 40,
     "metadata": {},
     "output_type": "execute_result"
    },
    {
     "data": {
      "image/png": "[encoded data removed]",
      "text/plain": [
       "<Figure size 640x480 with 3 Axes>"
      ]
     },
     "metadata": {},
     "output_type": "display_data"
    }
   ],
   "source": [
    "# Subplot 3 boxplots for 'bedrooms', 'bathrooms', and 'floors'\n",
    "fig, ax = plt.subplots(3, 1) # 3 columns, 1 row\n",
    "plt.subplots_adjust(wspace=.35, hspace=.8) # space between subplots\n",
    "\n",
    "plt.subplot(311)\n",
    "plt.suptitle(\"Categorical Univariate Distributions\", va='bottom')\n",
    "sns.violinplot( 'bedrooms', data=data_f, color=\"orange\", inner='quartiles')\n",
    "plt.title('bedrooms', fontsize=11, color='grey', loc='left', style='italic')\n",
    "\n",
    "plt.subplot(312)\n",
    "sns.violinplot( 'bathrooms', data=data_f, color=\"green\", inner='quartiles')\n",
    "plt.title('bathrooms', fontsize=11, color='grey', loc='left', style='italic')\n",
    "\n",
    "plt.subplot(313)\n",
    "sns.violinplot( 'floors', data=data_f, color=\"purple\", inner='quartiles')\n",
    "plt.title('floors', fontsize=11, color='grey', loc='left', style='italic')\n",
    "\n",
    "# plt.show()"
   ]
  },
  {
   "cell_type": "markdown",
   "metadata": {},
   "source": [
    "I would expect we could set a cut - off at about 6 bedrooms and 5 bathrooms. It doesn't look seem like `floors` would cause much of a problem. Let's see what the data tells us."
   ]
  },
  {
   "cell_type": "code",
   "execution_count": 41,
   "metadata": {},
   "outputs": [],
   "source": [
    "pd.set_option('display.max_rows', 30)\n",
    "\n",
    "# a function that takes a dataframe and a list of columns\n",
    "# to view outlier rows based on the IQR rule\n",
    "def show_iqr_out(data, col_list):\n",
    "    for cat in col_list:\n",
    "        q1 = data[cat].quantile(0.25) # 1st quantile\n",
    "        q3 = data[cat].quantile(0.75) # 2nd quantile\n",
    "        iqr = q3 - q1 # innerquantile range\n",
    "        lower_range = q1 - (1.5 * iqr)\n",
    "        upper_range = q3 + (1.5 * iqr)\n",
    "        below_lower = data[cat] < (lower_range) # below  lower range\n",
    "        above_upper = data[cat] > (upper_range) # above upper range\n",
    "        # print outliers\n",
    "        print(data[below_lower | above_upper][cat])"
   ]
  },
  {
   "cell_type": "code",
   "execution_count": 42,
   "metadata": {},
   "outputs": [
    {
     "name": "stdout",
     "output_type": "stream",
     "text": [
      "154      1\n",
      "209      6\n",
      "232      6\n",
      "239      6\n",
      "264      1\n",
      "        ..\n",
      "21359    6\n",
      "21427    1\n",
      "21503    1\n",
      "21506    6\n",
      "21536    1\n",
      "Name: bedrooms, Length: 530, dtype: int64\n",
      "5        4.50\n",
      "75       4.00\n",
      "235      4.00\n",
      "270      4.75\n",
      "300      5.00\n",
      "         ... \n",
      "21535    4.50\n",
      "21545    4.00\n",
      "21560    4.50\n",
      "21577    3.75\n",
      "21584    3.75\n",
      "Name: bathrooms, Length: 561, dtype: float64\n",
      "Series([], Name: floors, dtype: float64)\n"
     ]
    }
   ],
   "source": [
    "# pass a list of columns to the function\n",
    "show_iqr_out(data_f, ['bedrooms', 'bathrooms', 'floors'])"
   ]
  },
  {
   "cell_type": "markdown",
   "metadata": {},
   "source": [
    "So 6 beds and 4 baths, instead of 6 beds and 5 baths. Let's trim them, first preserving the dataframe in its current state."
   ]
  },
  {
   "cell_type": "markdown",
   "metadata": {},
   "source": [
    "***\n",
    "## Pickle the current - state dataframe"
   ]
  },
  {
   "cell_type": "code",
   "execution_count": 43,
   "metadata": {},
   "outputs": [],
   "source": [
    "import pickle"
   ]
  },
  {
   "cell_type": "markdown",
   "metadata": {},
   "source": [
    "Store the `data_f` dataframe in a sub - directory of the repository as data_f_all, before removing outliers."
   ]
  },
  {
   "cell_type": "code",
   "execution_count": 44,
   "metadata": {},
   "outputs": [],
   "source": [
    "with open('data/data_f_all.pickle', 'wb') as f:\n",
    "    # Pickling the 'data_f' dataframe using the highest protocol available.\n",
    "    pickle.dump(data_f, f, pickle.HIGHEST_PROTOCOL)"
   ]
  },
  {
   "cell_type": "markdown",
   "metadata": {},
   "source": [
    "### Remove outliers from `data_f`"
   ]
  },
  {
   "cell_type": "code",
   "execution_count": 45,
   "metadata": {},
   "outputs": [
    {
     "name": "stdout",
     "output_type": "stream",
     "text": [
      "shape before outlier removal:  (21597, 21) \n",
      " ------------------------------------------------------------------------\n",
      "\n",
      "shape after outlier removal:  (20606, 21)\n"
     ]
    }
   ],
   "source": [
    "# writing a loop based on `show_iqr_out` that drops rows\n",
    "# for IQR outliers\n",
    "col_list = ['bedrooms', 'bathrooms']\n",
    "\n",
    "print(\"shape before outlier removal: \", data_f.shape, \"\\n\", \"-\"*72)\n",
    "\n",
    "for cat in col_list:\n",
    "    q1 = data_f[cat].quantile(0.25)\n",
    "    q3 = data_f[cat].quantile(0.75)\n",
    "    iqr = q3 - q1\n",
    "    lower_range = q1 - (1.5 * iqr)\n",
    "    upper_range = q3 + (1.5 * iqr)\n",
    "    data_f.drop(data_f[ (data_f[cat] < (lower_range)\n",
    "                        ) | (data_f[cat] > (upper_range)\n",
    "                            ) ].index , inplace=True)\n",
    "\n",
    "print(\"\\nshape after outlier removal: \", data_f.shape)"
   ]
  },
  {
   "cell_type": "code",
   "execution_count": 46,
   "metadata": {},
   "outputs": [
    {
     "data": {
      "text/plain": [
       "Text(0.0, 1.0, 'bathrooms')"
      ]
     },
     "execution_count": 46,
     "metadata": {},
     "output_type": "execute_result"
    },
    {
     "data": {
      "image/png": "[encoded data removed]",
      "text/plain": [
       "<Figure size 640x480 with 2 Axes>"
      ]
     },
     "metadata": {},
     "output_type": "display_data"
    }
   ],
   "source": [
    "# review boxplots for the outlier - cleaned columns\n",
    "fig, ax = plt.subplots(2, 1)\n",
    "plt.subplots_adjust(wspace=.35, hspace=.8) # space between subplots\n",
    "\n",
    "plt.subplot(211)\n",
    "plt.suptitle(\"Categorical Univariate Distributions\", va='bottom')\n",
    "sns.violinplot( 'bedrooms', data=data_f, color=\"orange\", inner='quartiles')\n",
    "plt.title('bedrooms', fontsize=11, color='grey', loc='left', style='italic')\n",
    "plt.subplot(212)\n",
    "sns.violinplot( 'bathrooms', data=data_f, color=\"green\", inner='quartiles')\n",
    "plt.title('bathrooms', fontsize=11, color='grey', loc='left', style='italic')\n",
    "\n",
    "\n",
    "# plt.show()"
   ]
  },
  {
   "cell_type": "markdown",
   "metadata": {},
   "source": [
    "> Those appear to be a bit more central than before.\n",
    "\n",
    "That is all we will do for categorical outliers, at this point. We will address numerical, continuous data outliers in the exploratory notebook. In the meantime, we still have some scrubbing and feature engineering to do."
   ]
  },
  {
   "cell_type": "markdown",
   "metadata": {},
   "source": [
    "***\n",
    "## Dealing with categorical data\n",
    "\n",
    "Creating binary columns for categorical data: `Renovated` and `waterfront` are already binary, so we do not want to create new columns for them."
   ]
  },
  {
   "cell_type": "markdown",
   "metadata": {},
   "source": [
    "### Binning `bathrooms`\n",
    "\n",
    "To manage the half- and quarter- baths, we can bin this category in the style `baths_1_plus` for homes with at least one and fewer than two bathroom(s)."
   ]
  },
  {
   "cell_type": "code",
   "execution_count": 47,
   "metadata": {},
   "outputs": [
    {
     "data": {
      "text/plain": [
       "array([0.75, 1.  , 1.25, 1.5 , 1.75, 2.  , 2.25, 2.5 , 2.75, 3.  , 3.25,\n",
       "       3.5 ])"
      ]
     },
     "execution_count": 47,
     "metadata": {},
     "output_type": "execute_result"
    }
   ],
   "source": [
    "# how many unique values do we currently have?\n",
    "data_f.sort_values(by='bathrooms').bathrooms.unique()"
   ]
  },
  {
   "cell_type": "markdown",
   "metadata": {},
   "source": [
    "Currently, we have 12 unique values. Binning will reduce this to 4."
   ]
  },
  {
   "cell_type": "code",
   "execution_count": 48,
   "metadata": {},
   "outputs": [],
   "source": [
    "#adding a new bathroom category column next to the `bathrooms` group\n",
    "bath_cats = pd.cut(data_f.bathrooms, \n",
    "                   bins=[0, .9, 1.9, 2.9, 3.9], \n",
    "                   labels=['partial','1_plus',\n",
    "                           '2_plus','3_plus'])\n",
    "#insert next to `bathrooms` column\n",
    "data_f.insert(5,'Baths', bath_cats)"
   ]
  },
  {
   "cell_type": "code",
   "execution_count": 49,
   "metadata": {
    "scrolled": true
   },
   "outputs": [
    {
     "data": {
      "text/html": [
       "<div>\n",
       "<style scoped>\n",
       "    .dataframe tbody tr th:only-of-type {\n",
       "        vertical-align: middle;\n",
       "    }\n",
       "\n",
       "    .dataframe tbody tr th {\n",
       "        vertical-align: top;\n",
       "    }\n",
       "\n",
       "    .dataframe thead th {\n",
       "        text-align: right;\n",
       "    }\n",
       "</style>\n",
       "<table border=\"1\" class=\"dataframe\">\n",
       "  <thead>\n",
       "    <tr style=\"text-align: right;\">\n",
       "      <th></th>\n",
       "      <th>id</th>\n",
       "      <th>date</th>\n",
       "      <th>price</th>\n",
       "      <th>bedrooms</th>\n",
       "      <th>bathrooms</th>\n",
       "      <th>Baths</th>\n",
       "      <th>sqft_living</th>\n",
       "      <th>sqft_lot</th>\n",
       "      <th>floors</th>\n",
       "      <th>waterfront</th>\n",
       "      <th>view</th>\n",
       "      <th>condition</th>\n",
       "      <th>grade</th>\n",
       "      <th>sqft_above</th>\n",
       "      <th>sqft_basement</th>\n",
       "      <th>yr_built</th>\n",
       "      <th>zipcode</th>\n",
       "      <th>lat</th>\n",
       "      <th>long</th>\n",
       "      <th>sqft_living15</th>\n",
       "      <th>sqft_lot15</th>\n",
       "      <th>Renovated</th>\n",
       "    </tr>\n",
       "  </thead>\n",
       "  <tbody>\n",
       "    <tr>\n",
       "      <td>0</td>\n",
       "      <td>7129300520</td>\n",
       "      <td>2014</td>\n",
       "      <td>221900.0</td>\n",
       "      <td>3</td>\n",
       "      <td>1.00</td>\n",
       "      <td>1_plus</td>\n",
       "      <td>1180</td>\n",
       "      <td>5650</td>\n",
       "      <td>1.0</td>\n",
       "      <td>0</td>\n",
       "      <td>0</td>\n",
       "      <td>3</td>\n",
       "      <td>7</td>\n",
       "      <td>1180</td>\n",
       "      <td>0.0</td>\n",
       "      <td>1955</td>\n",
       "      <td>98178</td>\n",
       "      <td>47.5112</td>\n",
       "      <td>-122.257</td>\n",
       "      <td>1340</td>\n",
       "      <td>5650</td>\n",
       "      <td>0</td>\n",
       "    </tr>\n",
       "    <tr>\n",
       "      <td>1</td>\n",
       "      <td>6414100192</td>\n",
       "      <td>2014</td>\n",
       "      <td>538000.0</td>\n",
       "      <td>3</td>\n",
       "      <td>2.25</td>\n",
       "      <td>2_plus</td>\n",
       "      <td>2570</td>\n",
       "      <td>7242</td>\n",
       "      <td>2.0</td>\n",
       "      <td>0</td>\n",
       "      <td>0</td>\n",
       "      <td>3</td>\n",
       "      <td>7</td>\n",
       "      <td>2170</td>\n",
       "      <td>400.0</td>\n",
       "      <td>1951</td>\n",
       "      <td>98125</td>\n",
       "      <td>47.7210</td>\n",
       "      <td>-122.319</td>\n",
       "      <td>1690</td>\n",
       "      <td>7639</td>\n",
       "      <td>1</td>\n",
       "    </tr>\n",
       "    <tr>\n",
       "      <td>2</td>\n",
       "      <td>5631500400</td>\n",
       "      <td>2015</td>\n",
       "      <td>180000.0</td>\n",
       "      <td>2</td>\n",
       "      <td>1.00</td>\n",
       "      <td>1_plus</td>\n",
       "      <td>770</td>\n",
       "      <td>10000</td>\n",
       "      <td>1.0</td>\n",
       "      <td>0</td>\n",
       "      <td>0</td>\n",
       "      <td>3</td>\n",
       "      <td>6</td>\n",
       "      <td>770</td>\n",
       "      <td>0.0</td>\n",
       "      <td>1933</td>\n",
       "      <td>98028</td>\n",
       "      <td>47.7379</td>\n",
       "      <td>-122.233</td>\n",
       "      <td>2720</td>\n",
       "      <td>8062</td>\n",
       "      <td>0</td>\n",
       "    </tr>\n",
       "    <tr>\n",
       "      <td>3</td>\n",
       "      <td>2487200875</td>\n",
       "      <td>2014</td>\n",
       "      <td>604000.0</td>\n",
       "      <td>4</td>\n",
       "      <td>3.00</td>\n",
       "      <td>3_plus</td>\n",
       "      <td>1960</td>\n",
       "      <td>5000</td>\n",
       "      <td>1.0</td>\n",
       "      <td>0</td>\n",
       "      <td>0</td>\n",
       "      <td>5</td>\n",
       "      <td>7</td>\n",
       "      <td>1050</td>\n",
       "      <td>910.0</td>\n",
       "      <td>1965</td>\n",
       "      <td>98136</td>\n",
       "      <td>47.5208</td>\n",
       "      <td>-122.393</td>\n",
       "      <td>1360</td>\n",
       "      <td>5000</td>\n",
       "      <td>0</td>\n",
       "    </tr>\n",
       "    <tr>\n",
       "      <td>4</td>\n",
       "      <td>1954400510</td>\n",
       "      <td>2015</td>\n",
       "      <td>510000.0</td>\n",
       "      <td>3</td>\n",
       "      <td>2.00</td>\n",
       "      <td>2_plus</td>\n",
       "      <td>1680</td>\n",
       "      <td>8080</td>\n",
       "      <td>1.0</td>\n",
       "      <td>0</td>\n",
       "      <td>0</td>\n",
       "      <td>3</td>\n",
       "      <td>8</td>\n",
       "      <td>1680</td>\n",
       "      <td>0.0</td>\n",
       "      <td>1987</td>\n",
       "      <td>98074</td>\n",
       "      <td>47.6168</td>\n",
       "      <td>-122.045</td>\n",
       "      <td>1800</td>\n",
       "      <td>7503</td>\n",
       "      <td>0</td>\n",
       "    </tr>\n",
       "  </tbody>\n",
       "</table>\n",
       "</div>"
      ],
      "text/plain": [
       "           id  date     price  bedrooms  bathrooms   Baths  sqft_living  \\\n",
       "0  7129300520  2014  221900.0         3       1.00  1_plus         1180   \n",
       "1  6414100192  2014  538000.0         3       2.25  2_plus         2570   \n",
       "2  5631500400  2015  180000.0         2       1.00  1_plus          770   \n",
       "3  2487200875  2014  604000.0         4       3.00  3_plus         1960   \n",
       "4  1954400510  2015  510000.0         3       2.00  2_plus         1680   \n",
       "\n",
       "   sqft_lot  floors  waterfront  view  condition  grade  sqft_above  \\\n",
       "0      5650     1.0           0     0          3      7        1180   \n",
       "1      7242     2.0           0     0          3      7        2170   \n",
       "2     10000     1.0           0     0          3      6         770   \n",
       "3      5000     1.0           0     0          5      7        1050   \n",
       "4      8080     1.0           0     0          3      8        1680   \n",
       "\n",
       "   sqft_basement  yr_built  zipcode      lat     long  sqft_living15  \\\n",
       "0            0.0      1955    98178  47.5112 -122.257           1340   \n",
       "1          400.0      1951    98125  47.7210 -122.319           1690   \n",
       "2            0.0      1933    98028  47.7379 -122.233           2720   \n",
       "3          910.0      1965    98136  47.5208 -122.393           1360   \n",
       "4            0.0      1987    98074  47.6168 -122.045           1800   \n",
       "\n",
       "   sqft_lot15  Renovated  \n",
       "0        5650          0  \n",
       "1        7639          1  \n",
       "2        8062          0  \n",
       "3        5000          0  \n",
       "4        7503          0  "
      ]
     },
     "execution_count": 49,
     "metadata": {},
     "output_type": "execute_result"
    }
   ],
   "source": [
    "# view the first few rows\n",
    "data_f.head()"
   ]
  },
  {
   "cell_type": "markdown",
   "metadata": {},
   "source": [
    "### Feature Engineering\n",
    "#### Getting Dummies"
   ]
  },
  {
   "cell_type": "markdown",
   "metadata": {},
   "source": [
    "Now we can create binary columns for our categorical variables (those that already are not)."
   ]
  },
  {
   "cell_type": "code",
   "execution_count": 50,
   "metadata": {},
   "outputs": [],
   "source": [
    "'''test creating a list of categorical columns with fewer than 15 and\n",
    "more than 2 unique values--verifying only categorical columns satisfy\n",
    "the condition and only those that are not already binary\n",
    "'''\n",
    "cat_list = []\n",
    "\n",
    "def build_cat(dframe): # so we can run after changing the dataframe's name\n",
    "    cat_pen = [col for col in dframe.columns if (2 < len(dframe[col].unique()) < 15)]\n",
    "    cat_list.extend(cat_pen)\n",
    "    return print(\"cat_list updated\")"
   ]
  },
  {
   "cell_type": "code",
   "execution_count": 51,
   "metadata": {},
   "outputs": [
    {
     "name": "stdout",
     "output_type": "stream",
     "text": [
      "cat_list updated\n",
      "\n",
      "Categorical variables:  ['bedrooms', 'bathrooms', 'Baths', 'floors', 'view', 'condition', 'grade']\n",
      "------------------------------------------------------------------------\n",
      "\n",
      "Remaining variables:  ['id', 'date', 'price', 'sqft_living', 'sqft_lot', 'waterfront', 'sqft_above', 'sqft_basement', 'yr_built', 'zipcode', 'lat', 'long', 'sqft_living15', 'sqft_lot15', 'Renovated']\n"
     ]
    }
   ],
   "source": [
    "# checking work: run the function\n",
    "build_cat(data_f)\n",
    "\n",
    "print(\"\\nCategorical variables: \", cat_list)\n",
    "print(\"-\"*72)\n",
    "no_cat = [col for col in data_f.columns if col not in cat_list]\n",
    "print(\"\\nRemaining variables: \", no_cat)"
   ]
  },
  {
   "cell_type": "markdown",
   "metadata": {},
   "source": [
    "That will work. Before we do our one - hot encoding, let's convert that zipcode."
   ]
  },
  {
   "cell_type": "markdown",
   "metadata": {},
   "source": [
    "`zip code`"
   ]
  },
  {
   "cell_type": "code",
   "execution_count": 52,
   "metadata": {},
   "outputs": [
    {
     "data": {
      "text/plain": [
       "0    98178\n",
       "Name: zipcode, dtype: object"
      ]
     },
     "execution_count": 52,
     "metadata": {},
     "output_type": "execute_result"
    }
   ],
   "source": [
    "# convert `zipcode` to string\n",
    "data_f['zipcode'] = data_f['zipcode'].astype(str)\n",
    "data_f['zipcode'].head(1)"
   ]
  },
  {
   "cell_type": "markdown",
   "metadata": {},
   "source": [
    "Since there are about to be a lot more columns in `data_f` as we expand those categorical variables, let's preserve this state of the dataframe and create a copy."
   ]
  },
  {
   "cell_type": "markdown",
   "metadata": {},
   "source": [
    "## Pickle the current - state dataframe"
   ]
  },
  {
   "cell_type": "markdown",
   "metadata": {},
   "source": [
    "Store the `data_f` dataframe in a sub - directory of the repository as `data_f_no_hots`."
   ]
  },
  {
   "cell_type": "code",
   "execution_count": 53,
   "metadata": {},
   "outputs": [],
   "source": [
    "with open('data/data_f_no_hots.pickle', 'wb') as f:\n",
    "    # Pickling the 'data_f' dataframe using the highest protocol available.\n",
    "    pickle.dump(data_f, f, pickle.HIGHEST_PROTOCOL)"
   ]
  },
  {
   "cell_type": "markdown",
   "metadata": {},
   "source": [
    "Making a copy of the dataframe with a new name `data_b`."
   ]
  },
  {
   "cell_type": "code",
   "execution_count": 54,
   "metadata": {
    "scrolled": true
   },
   "outputs": [
    {
     "data": {
      "text/html": [
       "<div>\n",
       "<style scoped>\n",
       "    .dataframe tbody tr th:only-of-type {\n",
       "        vertical-align: middle;\n",
       "    }\n",
       "\n",
       "    .dataframe tbody tr th {\n",
       "        vertical-align: top;\n",
       "    }\n",
       "\n",
       "    .dataframe thead th {\n",
       "        text-align: right;\n",
       "    }\n",
       "</style>\n",
       "<table border=\"1\" class=\"dataframe\">\n",
       "  <thead>\n",
       "    <tr style=\"text-align: right;\">\n",
       "      <th></th>\n",
       "      <th>id</th>\n",
       "      <th>date</th>\n",
       "      <th>price</th>\n",
       "      <th>bedrooms</th>\n",
       "      <th>bathrooms</th>\n",
       "      <th>Baths</th>\n",
       "      <th>sqft_living</th>\n",
       "      <th>sqft_lot</th>\n",
       "      <th>floors</th>\n",
       "      <th>waterfront</th>\n",
       "      <th>view</th>\n",
       "      <th>condition</th>\n",
       "      <th>grade</th>\n",
       "      <th>sqft_above</th>\n",
       "      <th>sqft_basement</th>\n",
       "      <th>yr_built</th>\n",
       "      <th>zipcode</th>\n",
       "      <th>lat</th>\n",
       "      <th>long</th>\n",
       "      <th>sqft_living15</th>\n",
       "      <th>sqft_lot15</th>\n",
       "      <th>Renovated</th>\n",
       "    </tr>\n",
       "  </thead>\n",
       "  <tbody>\n",
       "    <tr>\n",
       "      <td>0</td>\n",
       "      <td>7129300520</td>\n",
       "      <td>2014</td>\n",
       "      <td>221900.0</td>\n",
       "      <td>3</td>\n",
       "      <td>1.0</td>\n",
       "      <td>1_plus</td>\n",
       "      <td>1180</td>\n",
       "      <td>5650</td>\n",
       "      <td>1.0</td>\n",
       "      <td>0</td>\n",
       "      <td>0</td>\n",
       "      <td>3</td>\n",
       "      <td>7</td>\n",
       "      <td>1180</td>\n",
       "      <td>0.0</td>\n",
       "      <td>1955</td>\n",
       "      <td>98178</td>\n",
       "      <td>47.5112</td>\n",
       "      <td>-122.257</td>\n",
       "      <td>1340</td>\n",
       "      <td>5650</td>\n",
       "      <td>0</td>\n",
       "    </tr>\n",
       "  </tbody>\n",
       "</table>\n",
       "</div>"
      ],
      "text/plain": [
       "           id  date     price  bedrooms  bathrooms   Baths  sqft_living  \\\n",
       "0  7129300520  2014  221900.0         3        1.0  1_plus         1180   \n",
       "\n",
       "   sqft_lot  floors  waterfront  view  condition  grade  sqft_above  \\\n",
       "0      5650     1.0           0     0          3      7        1180   \n",
       "\n",
       "   sqft_basement  yr_built zipcode      lat     long  sqft_living15  \\\n",
       "0            0.0      1955   98178  47.5112 -122.257           1340   \n",
       "\n",
       "   sqft_lot15  Renovated  \n",
       "0        5650          0  "
      ]
     },
     "execution_count": 54,
     "metadata": {},
     "output_type": "execute_result"
    }
   ],
   "source": [
    "# copy the dataframe\n",
    "data_b = data_f.copy()\n",
    "\n",
    "# view the first row of the dataframe copy\n",
    "data_b.head(1)"
   ]
  },
  {
   "cell_type": "code",
   "execution_count": 55,
   "metadata": {},
   "outputs": [],
   "source": [
    "# dropingp the original `bathrooms` column\n",
    "data_b.drop(['bathrooms'], axis=1, inplace=True)"
   ]
  },
  {
   "cell_type": "markdown",
   "metadata": {},
   "source": [
    "### Buiding a list of categorical variables and one - hot encoding listed columns\n",
    "This may undo a couple of previous data - type changes. I don't mind that."
   ]
  },
  {
   "cell_type": "code",
   "execution_count": 56,
   "metadata": {},
   "outputs": [
    {
     "name": "stdout",
     "output_type": "stream",
     "text": [
      "(20606, 21)\n",
      "cat_list updated\n",
      "['bedrooms', 'Baths', 'floors', 'view', 'condition', 'grade']\n"
     ]
    }
   ],
   "source": [
    "# viewing dataframe shape before processing\n",
    "print(data_b.shape)\n",
    "\n",
    "# resetting our `cat_list`\n",
    "cat_list = []\n",
    "\n",
    "# runnning our function on the new dataframe\n",
    "build_cat(data_b)\n",
    "\n",
    "# vefify cat_list\n",
    "print(cat_list)"
   ]
  },
  {
   "cell_type": "markdown",
   "metadata": {},
   "source": [
    "The loop in the next cell will:\n",
    "* create dummies (boolean columns) for column names in our `cat_list`\n",
    "* concatenate each new column to the dataframe, and\n",
    "* drop the original columns.\n",
    "\n",
    "#### Here goes something..."
   ]
  },
  {
   "cell_type": "code",
   "execution_count": 57,
   "metadata": {},
   "outputs": [],
   "source": [
    "# generate dummies for listed columns\n",
    "for col in data_b.columns:\n",
    "    if col in cat_list:\n",
    "        data_b = pd.concat([data_b, pd.get_dummies(data_b[col], prefix=col,\n",
    "                                          # not treating nulls as a separate category\n",
    "                                          # since we no longer have any\n",
    "                                          dummy_na=False\n",
    "                                          # drop the original column\n",
    "                                          )], axis=1).drop([col], axis=1)"
   ]
  },
  {
   "cell_type": "code",
   "execution_count": 58,
   "metadata": {},
   "outputs": [
    {
     "data": {
      "text/html": [
       "<div>\n",
       "<style scoped>\n",
       "    .dataframe tbody tr th:only-of-type {\n",
       "        vertical-align: middle;\n",
       "    }\n",
       "\n",
       "    .dataframe tbody tr th {\n",
       "        vertical-align: top;\n",
       "    }\n",
       "\n",
       "    .dataframe thead th {\n",
       "        text-align: right;\n",
       "    }\n",
       "</style>\n",
       "<table border=\"1\" class=\"dataframe\">\n",
       "  <thead>\n",
       "    <tr style=\"text-align: right;\">\n",
       "      <th></th>\n",
       "      <th>id</th>\n",
       "      <th>date</th>\n",
       "      <th>price</th>\n",
       "      <th>sqft_living</th>\n",
       "      <th>sqft_lot</th>\n",
       "      <th>waterfront</th>\n",
       "      <th>sqft_above</th>\n",
       "      <th>sqft_basement</th>\n",
       "      <th>yr_built</th>\n",
       "      <th>zipcode</th>\n",
       "      <th>lat</th>\n",
       "      <th>long</th>\n",
       "      <th>sqft_living15</th>\n",
       "      <th>sqft_lot15</th>\n",
       "      <th>Renovated</th>\n",
       "      <th>bedrooms_2</th>\n",
       "      <th>bedrooms_3</th>\n",
       "      <th>bedrooms_4</th>\n",
       "      <th>bedrooms_5</th>\n",
       "      <th>Baths_partial</th>\n",
       "      <th>Baths_1_plus</th>\n",
       "      <th>Baths_2_plus</th>\n",
       "      <th>Baths_3_plus</th>\n",
       "      <th>floors_1.0</th>\n",
       "      <th>floors_1.5</th>\n",
       "      <th>floors_2.0</th>\n",
       "      <th>floors_2.5</th>\n",
       "      <th>floors_3.0</th>\n",
       "      <th>floors_3.5</th>\n",
       "      <th>view_0</th>\n",
       "      <th>view_1</th>\n",
       "      <th>view_2</th>\n",
       "      <th>view_3</th>\n",
       "      <th>view_4</th>\n",
       "      <th>condition_1</th>\n",
       "      <th>condition_2</th>\n",
       "      <th>condition_3</th>\n",
       "      <th>condition_4</th>\n",
       "      <th>condition_5</th>\n",
       "      <th>grade_4</th>\n",
       "      <th>grade_5</th>\n",
       "      <th>grade_6</th>\n",
       "      <th>grade_7</th>\n",
       "      <th>grade_8</th>\n",
       "      <th>grade_9</th>\n",
       "      <th>grade_10</th>\n",
       "      <th>grade_11</th>\n",
       "      <th>grade_12</th>\n",
       "      <th>grade_13</th>\n",
       "    </tr>\n",
       "  </thead>\n",
       "  <tbody>\n",
       "    <tr>\n",
       "      <td>0</td>\n",
       "      <td>7129300520</td>\n",
       "      <td>2014</td>\n",
       "      <td>221900.0</td>\n",
       "      <td>1180</td>\n",
       "      <td>5650</td>\n",
       "      <td>0</td>\n",
       "      <td>1180</td>\n",
       "      <td>0.0</td>\n",
       "      <td>1955</td>\n",
       "      <td>98178</td>\n",
       "      <td>47.5112</td>\n",
       "      <td>-122.257</td>\n",
       "      <td>1340</td>\n",
       "      <td>5650</td>\n",
       "      <td>0</td>\n",
       "      <td>0</td>\n",
       "      <td>1</td>\n",
       "      <td>0</td>\n",
       "      <td>0</td>\n",
       "      <td>0</td>\n",
       "      <td>1</td>\n",
       "      <td>0</td>\n",
       "      <td>0</td>\n",
       "      <td>1</td>\n",
       "      <td>0</td>\n",
       "      <td>0</td>\n",
       "      <td>0</td>\n",
       "      <td>0</td>\n",
       "      <td>0</td>\n",
       "      <td>1</td>\n",
       "      <td>0</td>\n",
       "      <td>0</td>\n",
       "      <td>0</td>\n",
       "      <td>0</td>\n",
       "      <td>0</td>\n",
       "      <td>0</td>\n",
       "      <td>1</td>\n",
       "      <td>0</td>\n",
       "      <td>0</td>\n",
       "      <td>0</td>\n",
       "      <td>0</td>\n",
       "      <td>0</td>\n",
       "      <td>1</td>\n",
       "      <td>0</td>\n",
       "      <td>0</td>\n",
       "      <td>0</td>\n",
       "      <td>0</td>\n",
       "      <td>0</td>\n",
       "      <td>0</td>\n",
       "    </tr>\n",
       "  </tbody>\n",
       "</table>\n",
       "</div>"
      ],
      "text/plain": [
       "           id  date     price  sqft_living  sqft_lot  waterfront  sqft_above  \\\n",
       "0  7129300520  2014  221900.0         1180      5650           0        1180   \n",
       "\n",
       "   sqft_basement  yr_built zipcode      lat     long  sqft_living15  \\\n",
       "0            0.0      1955   98178  47.5112 -122.257           1340   \n",
       "\n",
       "   sqft_lot15  Renovated  bedrooms_2  bedrooms_3  bedrooms_4  bedrooms_5  \\\n",
       "0        5650          0           0           1           0           0   \n",
       "\n",
       "   Baths_partial  Baths_1_plus  Baths_2_plus  Baths_3_plus  floors_1.0  \\\n",
       "0              0             1             0             0           1   \n",
       "\n",
       "   floors_1.5  floors_2.0  floors_2.5  floors_3.0  floors_3.5  view_0  view_1  \\\n",
       "0           0           0           0           0           0       1       0   \n",
       "\n",
       "   view_2  view_3  view_4  condition_1  condition_2  condition_3  condition_4  \\\n",
       "0       0       0       0            0            0            1            0   \n",
       "\n",
       "   condition_5  grade_4  grade_5  grade_6  grade_7  grade_8  grade_9  \\\n",
       "0            0        0        0        0        1        0        0   \n",
       "\n",
       "   grade_10  grade_11  grade_12  grade_13  \n",
       "0         0         0         0         0  "
      ]
     },
     "execution_count": 58,
     "metadata": {},
     "output_type": "execute_result"
    }
   ],
   "source": [
    "# view the first row of the dataframe\n",
    "data_b.head(1)"
   ]
  },
  {
   "cell_type": "code",
   "execution_count": 59,
   "metadata": {},
   "outputs": [
    {
     "data": {
      "text/plain": [
       "(20606, 49)"
      ]
     },
     "metadata": {},
     "output_type": "display_data"
    },
    {
     "data": {
      "text/plain": [
       "id               int64\n",
       "date             int32\n",
       "price          float64\n",
       "sqft_living      int64\n",
       "sqft_lot         int64\n",
       "                ...   \n",
       "grade_9          uint8\n",
       "grade_10         uint8\n",
       "grade_11         uint8\n",
       "grade_12         uint8\n",
       "grade_13         uint8\n",
       "Length: 49, dtype: object"
      ]
     },
     "metadata": {},
     "output_type": "display_data"
    }
   ],
   "source": [
    "display(data_b.shape)\n",
    "display(data_b.dtypes)"
   ]
  },
  {
   "cell_type": "markdown",
   "metadata": {},
   "source": [
    "### One more nulls check for the road"
   ]
  },
  {
   "cell_type": "code",
   "execution_count": 60,
   "metadata": {
    "scrolled": true
   },
   "outputs": [
    {
     "data": {
      "text/plain": [
       "0"
      ]
     },
     "execution_count": 60,
     "metadata": {},
     "output_type": "execute_result"
    }
   ],
   "source": [
    "# How many values are null in the database\n",
    "data_b.isna().sum().sum()"
   ]
  },
  {
   "cell_type": "code",
   "execution_count": 61,
   "metadata": {},
   "outputs": [
    {
     "data": {
      "text/html": [
       "<div>\n",
       "<style scoped>\n",
       "    .dataframe tbody tr th:only-of-type {\n",
       "        vertical-align: middle;\n",
       "    }\n",
       "\n",
       "    .dataframe tbody tr th {\n",
       "        vertical-align: top;\n",
       "    }\n",
       "\n",
       "    .dataframe thead th {\n",
       "        text-align: right;\n",
       "    }\n",
       "</style>\n",
       "<table border=\"1\" class=\"dataframe\">\n",
       "  <thead>\n",
       "    <tr style=\"text-align: right;\">\n",
       "      <th></th>\n",
       "      <th>id</th>\n",
       "      <th>date</th>\n",
       "      <th>price</th>\n",
       "      <th>sqft_living</th>\n",
       "      <th>sqft_lot</th>\n",
       "      <th>waterfront</th>\n",
       "      <th>sqft_above</th>\n",
       "      <th>sqft_basement</th>\n",
       "      <th>yr_built</th>\n",
       "      <th>lat</th>\n",
       "      <th>long</th>\n",
       "      <th>sqft_living15</th>\n",
       "      <th>sqft_lot15</th>\n",
       "      <th>Renovated</th>\n",
       "      <th>bedrooms_2</th>\n",
       "      <th>bedrooms_3</th>\n",
       "      <th>bedrooms_4</th>\n",
       "      <th>bedrooms_5</th>\n",
       "      <th>Baths_partial</th>\n",
       "      <th>Baths_1_plus</th>\n",
       "      <th>Baths_2_plus</th>\n",
       "      <th>Baths_3_plus</th>\n",
       "      <th>floors_1.0</th>\n",
       "      <th>floors_1.5</th>\n",
       "      <th>floors_2.0</th>\n",
       "      <th>floors_2.5</th>\n",
       "      <th>floors_3.0</th>\n",
       "      <th>floors_3.5</th>\n",
       "      <th>view_0</th>\n",
       "      <th>view_1</th>\n",
       "      <th>view_2</th>\n",
       "      <th>view_3</th>\n",
       "      <th>view_4</th>\n",
       "      <th>condition_1</th>\n",
       "      <th>condition_2</th>\n",
       "      <th>condition_3</th>\n",
       "      <th>condition_4</th>\n",
       "      <th>condition_5</th>\n",
       "      <th>grade_4</th>\n",
       "      <th>grade_5</th>\n",
       "      <th>grade_6</th>\n",
       "      <th>grade_7</th>\n",
       "      <th>grade_8</th>\n",
       "      <th>grade_9</th>\n",
       "      <th>grade_10</th>\n",
       "      <th>grade_11</th>\n",
       "      <th>grade_12</th>\n",
       "      <th>grade_13</th>\n",
       "    </tr>\n",
       "  </thead>\n",
       "  <tbody>\n",
       "    <tr>\n",
       "      <td>count</td>\n",
       "      <td>2.060600e+04</td>\n",
       "      <td>20606.000000</td>\n",
       "      <td>2.060600e+04</td>\n",
       "      <td>20606.00000</td>\n",
       "      <td>2.060600e+04</td>\n",
       "      <td>20606.000000</td>\n",
       "      <td>20606.000000</td>\n",
       "      <td>20606.000000</td>\n",
       "      <td>20606.000000</td>\n",
       "      <td>20606.000000</td>\n",
       "      <td>20606.000000</td>\n",
       "      <td>20606.000000</td>\n",
       "      <td>20606.000000</td>\n",
       "      <td>20606.000000</td>\n",
       "      <td>20606.000000</td>\n",
       "      <td>20606.000000</td>\n",
       "      <td>20606.000000</td>\n",
       "      <td>20606.000000</td>\n",
       "      <td>20606.000000</td>\n",
       "      <td>20606.000000</td>\n",
       "      <td>20606.000000</td>\n",
       "      <td>20606.000000</td>\n",
       "      <td>20606.000000</td>\n",
       "      <td>20606.000000</td>\n",
       "      <td>20606.000000</td>\n",
       "      <td>20606.000000</td>\n",
       "      <td>20606.000000</td>\n",
       "      <td>20606.000000</td>\n",
       "      <td>20606.000000</td>\n",
       "      <td>20606.000000</td>\n",
       "      <td>20606.000000</td>\n",
       "      <td>20606.000000</td>\n",
       "      <td>20606.000000</td>\n",
       "      <td>20606.000000</td>\n",
       "      <td>20606.000000</td>\n",
       "      <td>20606.000000</td>\n",
       "      <td>20606.000000</td>\n",
       "      <td>20606.000000</td>\n",
       "      <td>20606.000000</td>\n",
       "      <td>20606.000000</td>\n",
       "      <td>20606.000000</td>\n",
       "      <td>20606.000000</td>\n",
       "      <td>20606.000000</td>\n",
       "      <td>20606.000000</td>\n",
       "      <td>20606.000000</td>\n",
       "      <td>20606.000000</td>\n",
       "      <td>20606.000000</td>\n",
       "      <td>20606.000000</td>\n",
       "    </tr>\n",
       "    <tr>\n",
       "      <td>mean</td>\n",
       "      <td>4.604752e+09</td>\n",
       "      <td>2014.323061</td>\n",
       "      <td>5.165850e+05</td>\n",
       "      <td>2019.30991</td>\n",
       "      <td>1.460028e+04</td>\n",
       "      <td>0.005629</td>\n",
       "      <td>1742.742793</td>\n",
       "      <td>270.984568</td>\n",
       "      <td>1971.027953</td>\n",
       "      <td>47.558729</td>\n",
       "      <td>-122.213985</td>\n",
       "      <td>1961.011987</td>\n",
       "      <td>12411.105018</td>\n",
       "      <td>0.032563</td>\n",
       "      <td>0.133845</td>\n",
       "      <td>0.474862</td>\n",
       "      <td>0.322722</td>\n",
       "      <td>0.068572</td>\n",
       "      <td>0.002135</td>\n",
       "      <td>0.396244</td>\n",
       "      <td>0.505435</td>\n",
       "      <td>0.096186</td>\n",
       "      <td>0.502184</td>\n",
       "      <td>0.088955</td>\n",
       "      <td>0.374357</td>\n",
       "      <td>0.006066</td>\n",
       "      <td>0.028147</td>\n",
       "      <td>0.000291</td>\n",
       "      <td>0.908861</td>\n",
       "      <td>0.014899</td>\n",
       "      <td>0.042415</td>\n",
       "      <td>0.021547</td>\n",
       "      <td>0.012278</td>\n",
       "      <td>0.001165</td>\n",
       "      <td>0.007619</td>\n",
       "      <td>0.646996</td>\n",
       "      <td>0.265165</td>\n",
       "      <td>0.079055</td>\n",
       "      <td>0.000728</td>\n",
       "      <td>0.009754</td>\n",
       "      <td>0.094633</td>\n",
       "      <td>0.425992</td>\n",
       "      <td>0.286421</td>\n",
       "      <td>0.121664</td>\n",
       "      <td>0.046249</td>\n",
       "      <td>0.012327</td>\n",
       "      <td>0.002135</td>\n",
       "      <td>0.000097</td>\n",
       "    </tr>\n",
       "    <tr>\n",
       "      <td>std</td>\n",
       "      <td>2.878285e+09</td>\n",
       "      <td>0.467657</td>\n",
       "      <td>3.040036e+05</td>\n",
       "      <td>806.92837</td>\n",
       "      <td>3.987629e+04</td>\n",
       "      <td>0.074820</td>\n",
       "      <td>749.540819</td>\n",
       "      <td>416.943930</td>\n",
       "      <td>29.130022</td>\n",
       "      <td>0.139774</td>\n",
       "      <td>0.140712</td>\n",
       "      <td>651.280904</td>\n",
       "      <td>25375.239893</td>\n",
       "      <td>0.177495</td>\n",
       "      <td>0.340493</td>\n",
       "      <td>0.499380</td>\n",
       "      <td>0.467529</td>\n",
       "      <td>0.252731</td>\n",
       "      <td>0.046161</td>\n",
       "      <td>0.489128</td>\n",
       "      <td>0.499983</td>\n",
       "      <td>0.294853</td>\n",
       "      <td>0.500007</td>\n",
       "      <td>0.284685</td>\n",
       "      <td>0.483968</td>\n",
       "      <td>0.077651</td>\n",
       "      <td>0.165397</td>\n",
       "      <td>0.017062</td>\n",
       "      <td>0.287813</td>\n",
       "      <td>0.121150</td>\n",
       "      <td>0.201539</td>\n",
       "      <td>0.145203</td>\n",
       "      <td>0.110126</td>\n",
       "      <td>0.034109</td>\n",
       "      <td>0.086957</td>\n",
       "      <td>0.477916</td>\n",
       "      <td>0.441432</td>\n",
       "      <td>0.269831</td>\n",
       "      <td>0.026971</td>\n",
       "      <td>0.098284</td>\n",
       "      <td>0.292714</td>\n",
       "      <td>0.494505</td>\n",
       "      <td>0.452100</td>\n",
       "      <td>0.326905</td>\n",
       "      <td>0.210028</td>\n",
       "      <td>0.110341</td>\n",
       "      <td>0.046161</td>\n",
       "      <td>0.009852</td>\n",
       "    </tr>\n",
       "    <tr>\n",
       "      <td>min</td>\n",
       "      <td>1.200019e+06</td>\n",
       "      <td>2014.000000</td>\n",
       "      <td>7.800000e+04</td>\n",
       "      <td>440.00000</td>\n",
       "      <td>5.200000e+02</td>\n",
       "      <td>0.000000</td>\n",
       "      <td>440.000000</td>\n",
       "      <td>0.000000</td>\n",
       "      <td>1900.000000</td>\n",
       "      <td>47.155900</td>\n",
       "      <td>-122.519000</td>\n",
       "      <td>399.000000</td>\n",
       "      <td>651.000000</td>\n",
       "      <td>0.000000</td>\n",
       "      <td>0.000000</td>\n",
       "      <td>0.000000</td>\n",
       "      <td>0.000000</td>\n",
       "      <td>0.000000</td>\n",
       "      <td>0.000000</td>\n",
       "      <td>0.000000</td>\n",
       "      <td>0.000000</td>\n",
       "      <td>0.000000</td>\n",
       "      <td>0.000000</td>\n",
       "      <td>0.000000</td>\n",
       "      <td>0.000000</td>\n",
       "      <td>0.000000</td>\n",
       "      <td>0.000000</td>\n",
       "      <td>0.000000</td>\n",
       "      <td>0.000000</td>\n",
       "      <td>0.000000</td>\n",
       "      <td>0.000000</td>\n",
       "      <td>0.000000</td>\n",
       "      <td>0.000000</td>\n",
       "      <td>0.000000</td>\n",
       "      <td>0.000000</td>\n",
       "      <td>0.000000</td>\n",
       "      <td>0.000000</td>\n",
       "      <td>0.000000</td>\n",
       "      <td>0.000000</td>\n",
       "      <td>0.000000</td>\n",
       "      <td>0.000000</td>\n",
       "      <td>0.000000</td>\n",
       "      <td>0.000000</td>\n",
       "      <td>0.000000</td>\n",
       "      <td>0.000000</td>\n",
       "      <td>0.000000</td>\n",
       "      <td>0.000000</td>\n",
       "      <td>0.000000</td>\n",
       "    </tr>\n",
       "    <tr>\n",
       "      <td>25%</td>\n",
       "      <td>2.131201e+09</td>\n",
       "      <td>2014.000000</td>\n",
       "      <td>3.200000e+05</td>\n",
       "      <td>1420.00000</td>\n",
       "      <td>5.015000e+03</td>\n",
       "      <td>0.000000</td>\n",
       "      <td>1190.000000</td>\n",
       "      <td>0.000000</td>\n",
       "      <td>1952.000000</td>\n",
       "      <td>47.465525</td>\n",
       "      <td>-122.329000</td>\n",
       "      <td>1480.000000</td>\n",
       "      <td>5100.000000</td>\n",
       "      <td>0.000000</td>\n",
       "      <td>0.000000</td>\n",
       "      <td>0.000000</td>\n",
       "      <td>0.000000</td>\n",
       "      <td>0.000000</td>\n",
       "      <td>0.000000</td>\n",
       "      <td>0.000000</td>\n",
       "      <td>0.000000</td>\n",
       "      <td>0.000000</td>\n",
       "      <td>0.000000</td>\n",
       "      <td>0.000000</td>\n",
       "      <td>0.000000</td>\n",
       "      <td>0.000000</td>\n",
       "      <td>0.000000</td>\n",
       "      <td>0.000000</td>\n",
       "      <td>1.000000</td>\n",
       "      <td>0.000000</td>\n",
       "      <td>0.000000</td>\n",
       "      <td>0.000000</td>\n",
       "      <td>0.000000</td>\n",
       "      <td>0.000000</td>\n",
       "      <td>0.000000</td>\n",
       "      <td>0.000000</td>\n",
       "      <td>0.000000</td>\n",
       "      <td>0.000000</td>\n",
       "      <td>0.000000</td>\n",
       "      <td>0.000000</td>\n",
       "      <td>0.000000</td>\n",
       "      <td>0.000000</td>\n",
       "      <td>0.000000</td>\n",
       "      <td>0.000000</td>\n",
       "      <td>0.000000</td>\n",
       "      <td>0.000000</td>\n",
       "      <td>0.000000</td>\n",
       "      <td>0.000000</td>\n",
       "    </tr>\n",
       "    <tr>\n",
       "      <td>50%</td>\n",
       "      <td>3.905101e+09</td>\n",
       "      <td>2014.000000</td>\n",
       "      <td>4.455000e+05</td>\n",
       "      <td>1890.00000</td>\n",
       "      <td>7.560000e+03</td>\n",
       "      <td>0.000000</td>\n",
       "      <td>1540.000000</td>\n",
       "      <td>0.000000</td>\n",
       "      <td>1975.000000</td>\n",
       "      <td>47.570300</td>\n",
       "      <td>-122.231000</td>\n",
       "      <td>1830.000000</td>\n",
       "      <td>7600.000000</td>\n",
       "      <td>0.000000</td>\n",
       "      <td>0.000000</td>\n",
       "      <td>0.000000</td>\n",
       "      <td>0.000000</td>\n",
       "      <td>0.000000</td>\n",
       "      <td>0.000000</td>\n",
       "      <td>0.000000</td>\n",
       "      <td>1.000000</td>\n",
       "      <td>0.000000</td>\n",
       "      <td>1.000000</td>\n",
       "      <td>0.000000</td>\n",
       "      <td>0.000000</td>\n",
       "      <td>0.000000</td>\n",
       "      <td>0.000000</td>\n",
       "      <td>0.000000</td>\n",
       "      <td>1.000000</td>\n",
       "      <td>0.000000</td>\n",
       "      <td>0.000000</td>\n",
       "      <td>0.000000</td>\n",
       "      <td>0.000000</td>\n",
       "      <td>0.000000</td>\n",
       "      <td>0.000000</td>\n",
       "      <td>1.000000</td>\n",
       "      <td>0.000000</td>\n",
       "      <td>0.000000</td>\n",
       "      <td>0.000000</td>\n",
       "      <td>0.000000</td>\n",
       "      <td>0.000000</td>\n",
       "      <td>0.000000</td>\n",
       "      <td>0.000000</td>\n",
       "      <td>0.000000</td>\n",
       "      <td>0.000000</td>\n",
       "      <td>0.000000</td>\n",
       "      <td>0.000000</td>\n",
       "      <td>0.000000</td>\n",
       "    </tr>\n",
       "    <tr>\n",
       "      <td>75%</td>\n",
       "      <td>7.338356e+09</td>\n",
       "      <td>2015.000000</td>\n",
       "      <td>6.250000e+05</td>\n",
       "      <td>2480.00000</td>\n",
       "      <td>1.048875e+04</td>\n",
       "      <td>0.000000</td>\n",
       "      <td>2150.000000</td>\n",
       "      <td>520.000000</td>\n",
       "      <td>1996.000000</td>\n",
       "      <td>47.678600</td>\n",
       "      <td>-122.125000</td>\n",
       "      <td>2330.000000</td>\n",
       "      <td>10000.000000</td>\n",
       "      <td>0.000000</td>\n",
       "      <td>0.000000</td>\n",
       "      <td>1.000000</td>\n",
       "      <td>1.000000</td>\n",
       "      <td>0.000000</td>\n",
       "      <td>0.000000</td>\n",
       "      <td>1.000000</td>\n",
       "      <td>1.000000</td>\n",
       "      <td>0.000000</td>\n",
       "      <td>1.000000</td>\n",
       "      <td>0.000000</td>\n",
       "      <td>1.000000</td>\n",
       "      <td>0.000000</td>\n",
       "      <td>0.000000</td>\n",
       "      <td>0.000000</td>\n",
       "      <td>1.000000</td>\n",
       "      <td>0.000000</td>\n",
       "      <td>0.000000</td>\n",
       "      <td>0.000000</td>\n",
       "      <td>0.000000</td>\n",
       "      <td>0.000000</td>\n",
       "      <td>0.000000</td>\n",
       "      <td>1.000000</td>\n",
       "      <td>1.000000</td>\n",
       "      <td>0.000000</td>\n",
       "      <td>0.000000</td>\n",
       "      <td>0.000000</td>\n",
       "      <td>0.000000</td>\n",
       "      <td>1.000000</td>\n",
       "      <td>1.000000</td>\n",
       "      <td>0.000000</td>\n",
       "      <td>0.000000</td>\n",
       "      <td>0.000000</td>\n",
       "      <td>0.000000</td>\n",
       "      <td>0.000000</td>\n",
       "    </tr>\n",
       "    <tr>\n",
       "      <td>max</td>\n",
       "      <td>9.900000e+09</td>\n",
       "      <td>2015.000000</td>\n",
       "      <td>4.490000e+06</td>\n",
       "      <td>7420.00000</td>\n",
       "      <td>1.651359e+06</td>\n",
       "      <td>1.000000</td>\n",
       "      <td>7420.000000</td>\n",
       "      <td>3500.000000</td>\n",
       "      <td>2015.000000</td>\n",
       "      <td>47.777600</td>\n",
       "      <td>-121.315000</td>\n",
       "      <td>5790.000000</td>\n",
       "      <td>560617.000000</td>\n",
       "      <td>1.000000</td>\n",
       "      <td>1.000000</td>\n",
       "      <td>1.000000</td>\n",
       "      <td>1.000000</td>\n",
       "      <td>1.000000</td>\n",
       "      <td>1.000000</td>\n",
       "      <td>1.000000</td>\n",
       "      <td>1.000000</td>\n",
       "      <td>1.000000</td>\n",
       "      <td>1.000000</td>\n",
       "      <td>1.000000</td>\n",
       "      <td>1.000000</td>\n",
       "      <td>1.000000</td>\n",
       "      <td>1.000000</td>\n",
       "      <td>1.000000</td>\n",
       "      <td>1.000000</td>\n",
       "      <td>1.000000</td>\n",
       "      <td>1.000000</td>\n",
       "      <td>1.000000</td>\n",
       "      <td>1.000000</td>\n",
       "      <td>1.000000</td>\n",
       "      <td>1.000000</td>\n",
       "      <td>1.000000</td>\n",
       "      <td>1.000000</td>\n",
       "      <td>1.000000</td>\n",
       "      <td>1.000000</td>\n",
       "      <td>1.000000</td>\n",
       "      <td>1.000000</td>\n",
       "      <td>1.000000</td>\n",
       "      <td>1.000000</td>\n",
       "      <td>1.000000</td>\n",
       "      <td>1.000000</td>\n",
       "      <td>1.000000</td>\n",
       "      <td>1.000000</td>\n",
       "      <td>1.000000</td>\n",
       "    </tr>\n",
       "  </tbody>\n",
       "</table>\n",
       "</div>"
      ],
      "text/plain": [
       "                 id          date         price  sqft_living      sqft_lot  \\\n",
       "count  2.060600e+04  20606.000000  2.060600e+04  20606.00000  2.060600e+04   \n",
       "mean   4.604752e+09   2014.323061  5.165850e+05   2019.30991  1.460028e+04   \n",
       "std    2.878285e+09      0.467657  3.040036e+05    806.92837  3.987629e+04   \n",
       "min    1.200019e+06   2014.000000  7.800000e+04    440.00000  5.200000e+02   \n",
       "25%    2.131201e+09   2014.000000  3.200000e+05   1420.00000  5.015000e+03   \n",
       "50%    3.905101e+09   2014.000000  4.455000e+05   1890.00000  7.560000e+03   \n",
       "75%    7.338356e+09   2015.000000  6.250000e+05   2480.00000  1.048875e+04   \n",
       "max    9.900000e+09   2015.000000  4.490000e+06   7420.00000  1.651359e+06   \n",
       "\n",
       "         waterfront    sqft_above  sqft_basement      yr_built           lat  \\\n",
       "count  20606.000000  20606.000000   20606.000000  20606.000000  20606.000000   \n",
       "mean       0.005629   1742.742793     270.984568   1971.027953     47.558729   \n",
       "std        0.074820    749.540819     416.943930     29.130022      0.139774   \n",
       "min        0.000000    440.000000       0.000000   1900.000000     47.155900   \n",
       "25%        0.000000   1190.000000       0.000000   1952.000000     47.465525   \n",
       "50%        0.000000   1540.000000       0.000000   1975.000000     47.570300   \n",
       "75%        0.000000   2150.000000     520.000000   1996.000000     47.678600   \n",
       "max        1.000000   7420.000000    3500.000000   2015.000000     47.777600   \n",
       "\n",
       "               long  sqft_living15     sqft_lot15     Renovated    bedrooms_2  \\\n",
       "count  20606.000000   20606.000000   20606.000000  20606.000000  20606.000000   \n",
       "mean    -122.213985    1961.011987   12411.105018      0.032563      0.133845   \n",
       "std        0.140712     651.280904   25375.239893      0.177495      0.340493   \n",
       "min     -122.519000     399.000000     651.000000      0.000000      0.000000   \n",
       "25%     -122.329000    1480.000000    5100.000000      0.000000      0.000000   \n",
       "50%     -122.231000    1830.000000    7600.000000      0.000000      0.000000   \n",
       "75%     -122.125000    2330.000000   10000.000000      0.000000      0.000000   \n",
       "max     -121.315000    5790.000000  560617.000000      1.000000      1.000000   \n",
       "\n",
       "         bedrooms_3    bedrooms_4    bedrooms_5  Baths_partial  Baths_1_plus  \\\n",
       "count  20606.000000  20606.000000  20606.000000   20606.000000  20606.000000   \n",
       "mean       0.474862      0.322722      0.068572       0.002135      0.396244   \n",
       "std        0.499380      0.467529      0.252731       0.046161      0.489128   \n",
       "min        0.000000      0.000000      0.000000       0.000000      0.000000   \n",
       "25%        0.000000      0.000000      0.000000       0.000000      0.000000   \n",
       "50%        0.000000      0.000000      0.000000       0.000000      0.000000   \n",
       "75%        1.000000      1.000000      0.000000       0.000000      1.000000   \n",
       "max        1.000000      1.000000      1.000000       1.000000      1.000000   \n",
       "\n",
       "       Baths_2_plus  Baths_3_plus    floors_1.0    floors_1.5    floors_2.0  \\\n",
       "count  20606.000000  20606.000000  20606.000000  20606.000000  20606.000000   \n",
       "mean       0.505435      0.096186      0.502184      0.088955      0.374357   \n",
       "std        0.499983      0.294853      0.500007      0.284685      0.483968   \n",
       "min        0.000000      0.000000      0.000000      0.000000      0.000000   \n",
       "25%        0.000000      0.000000      0.000000      0.000000      0.000000   \n",
       "50%        1.000000      0.000000      1.000000      0.000000      0.000000   \n",
       "75%        1.000000      0.000000      1.000000      0.000000      1.000000   \n",
       "max        1.000000      1.000000      1.000000      1.000000      1.000000   \n",
       "\n",
       "         floors_2.5    floors_3.0    floors_3.5        view_0        view_1  \\\n",
       "count  20606.000000  20606.000000  20606.000000  20606.000000  20606.000000   \n",
       "mean       0.006066      0.028147      0.000291      0.908861      0.014899   \n",
       "std        0.077651      0.165397      0.017062      0.287813      0.121150   \n",
       "min        0.000000      0.000000      0.000000      0.000000      0.000000   \n",
       "25%        0.000000      0.000000      0.000000      1.000000      0.000000   \n",
       "50%        0.000000      0.000000      0.000000      1.000000      0.000000   \n",
       "75%        0.000000      0.000000      0.000000      1.000000      0.000000   \n",
       "max        1.000000      1.000000      1.000000      1.000000      1.000000   \n",
       "\n",
       "             view_2        view_3        view_4   condition_1   condition_2  \\\n",
       "count  20606.000000  20606.000000  20606.000000  20606.000000  20606.000000   \n",
       "mean       0.042415      0.021547      0.012278      0.001165      0.007619   \n",
       "std        0.201539      0.145203      0.110126      0.034109      0.086957   \n",
       "min        0.000000      0.000000      0.000000      0.000000      0.000000   \n",
       "25%        0.000000      0.000000      0.000000      0.000000      0.000000   \n",
       "50%        0.000000      0.000000      0.000000      0.000000      0.000000   \n",
       "75%        0.000000      0.000000      0.000000      0.000000      0.000000   \n",
       "max        1.000000      1.000000      1.000000      1.000000      1.000000   \n",
       "\n",
       "        condition_3   condition_4   condition_5       grade_4       grade_5  \\\n",
       "count  20606.000000  20606.000000  20606.000000  20606.000000  20606.000000   \n",
       "mean       0.646996      0.265165      0.079055      0.000728      0.009754   \n",
       "std        0.477916      0.441432      0.269831      0.026971      0.098284   \n",
       "min        0.000000      0.000000      0.000000      0.000000      0.000000   \n",
       "25%        0.000000      0.000000      0.000000      0.000000      0.000000   \n",
       "50%        1.000000      0.000000      0.000000      0.000000      0.000000   \n",
       "75%        1.000000      1.000000      0.000000      0.000000      0.000000   \n",
       "max        1.000000      1.000000      1.000000      1.000000      1.000000   \n",
       "\n",
       "            grade_6       grade_7       grade_8       grade_9      grade_10  \\\n",
       "count  20606.000000  20606.000000  20606.000000  20606.000000  20606.000000   \n",
       "mean       0.094633      0.425992      0.286421      0.121664      0.046249   \n",
       "std        0.292714      0.494505      0.452100      0.326905      0.210028   \n",
       "min        0.000000      0.000000      0.000000      0.000000      0.000000   \n",
       "25%        0.000000      0.000000      0.000000      0.000000      0.000000   \n",
       "50%        0.000000      0.000000      0.000000      0.000000      0.000000   \n",
       "75%        0.000000      1.000000      1.000000      0.000000      0.000000   \n",
       "max        1.000000      1.000000      1.000000      1.000000      1.000000   \n",
       "\n",
       "           grade_11      grade_12      grade_13  \n",
       "count  20606.000000  20606.000000  20606.000000  \n",
       "mean       0.012327      0.002135      0.000097  \n",
       "std        0.110341      0.046161      0.009852  \n",
       "min        0.000000      0.000000      0.000000  \n",
       "25%        0.000000      0.000000      0.000000  \n",
       "50%        0.000000      0.000000      0.000000  \n",
       "75%        0.000000      0.000000      0.000000  \n",
       "max        1.000000      1.000000      1.000000  "
      ]
     },
     "execution_count": 61,
     "metadata": {},
     "output_type": "execute_result"
    }
   ],
   "source": [
    "data_b.describe()"
   ]
  },
  {
   "cell_type": "markdown",
   "metadata": {},
   "source": [
    "## Pickle the current - state dataframe for use in the next notebook"
   ]
  },
  {
   "cell_type": "code",
   "execution_count": 62,
   "metadata": {},
   "outputs": [],
   "source": [
    "with open('data/data_b.pickle', 'wb') as f:\n",
    "    # Pickling the 'data_b' dataframe using the highest protocol available.\n",
    "    pickle.dump(data_b, f, pickle.HIGHEST_PROTOCOL)"
   ]
  },
  {
   "cell_type": "markdown",
   "metadata": {},
   "source": [
    "#### Parking Lot"
   ]
  },
  {
   "cell_type": "code",
   "execution_count": 63,
   "metadata": {},
   "outputs": [],
   "source": [
    "# using scipy's z-score function to detect outliers\n",
    "#z = np.abs(stats.zscore(_df))\n",
    "\n",
    "# setting a threshold for a z-score of 3\n",
    "#display(np.where(z > 3))"
   ]
  },
  {
   "cell_type": "code",
   "execution_count": 64,
   "metadata": {
    "scrolled": true
   },
   "outputs": [],
   "source": [
    "# the first outlier is in row 1 at column 18\n",
    "# display(out_df.iloc[1:2, 17:18]) # \n",
    "# display(out_df.loc[1, 'sqft_lot15'])\n",
    "# print(z[1][18])"
   ]
  }
 ],
 "metadata": {
  "kernelspec": {
   "display_name": "Python [conda env:learn-env] *",
   "language": "python",
   "name": "conda-env-learn-env-py"
  },
  "language_info": {
   "codemirror_mode": {
    "name": "ipython",
    "version": 3
   },
   "file_extension": ".py",
   "mimetype": "text/x-python",
   "name": "python",
   "nbconvert_exporter": "python",
   "pygments_lexer": "ipython3",
   "version": "3.6.9"
  },
  "toc": {
   "base_numbering": 1,
   "nav_menu": {},
   "number_sections": false,
   "sideBar": true,
   "skip_h1_title": false,
   "title_cell": "Table of Contents",
   "title_sidebar": "Contents",
   "toc_cell": false,
   "toc_position": {},
   "toc_section_display": true,
   "toc_window_display": true
  }
 },
 "nbformat": 4,
 "nbformat_minor": 2
}
