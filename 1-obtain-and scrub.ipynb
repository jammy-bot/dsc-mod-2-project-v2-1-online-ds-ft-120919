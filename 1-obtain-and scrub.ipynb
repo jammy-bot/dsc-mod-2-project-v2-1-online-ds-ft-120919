{
 "cells": [
  {
   "cell_type": "markdown",
   "metadata": {},
   "source": [
    "##### data-conditioning notebook--obtain and scrub\n",
    "***"
   ]
  },
  {
   "cell_type": "markdown",
   "metadata": {},
   "source": [
    "## Final Project Submission\n",
    "\n",
    "Please fill out:\n",
    "* Student name: Jamel Dargan\n",
    "* Student pace: full - time\n",
    "* Scheduled project review date/time: \n",
    "* Instructor name: Carrasco\n",
    "* Blog post URL:\n"
   ]
  },
  {
   "cell_type": "markdown",
   "metadata": {},
   "source": [
    "****\n",
    "#### --Obtaining the Data--\n",
    "\n",
    "# Importing Libraries and Data"
   ]
  },
  {
   "cell_type": "markdown",
   "metadata": {},
   "source": [
    "## Previewing Column Names and Descriptions for King County Data Set\n",
    "* **id** - unique identified for a house\n",
    "* **date** - house was sold\n",
    "* **price** -  is prediction target\n",
    "* **bedrooms** -  Number of Bedrooms/House\n",
    "* **bathrooms** -  Number of bathrooms/bedrooms\n",
    "* **sqft_living** - square footage of the home\n",
    "* **sqft_lot** - square footage of the lot\n",
    "* **floors** -  floors (levels) in house\n",
    "* **waterfront** - House which has a view to a waterfront\n",
    "* **view** - Has been viewed\n",
    "* **condition** - How good the condition is ( Overall )\n",
    "* **grade** - overall grade given to the housing unit, based on King County grading system\n",
    "* **sqft_above** - square footage of house apart from basement\n",
    "* **sqft_basement** - square footage of the basement\n",
    "* **yr_built** - Built Year\n",
    "* **yr_renovated** - Year when house was renovated\n",
    "* **zipcode** - zip\n",
    "* **lat** - Latitude coordinate\n",
    "* **long** - Longitude coordinate\n",
    "* **sqft_living15** - The square footage of interior housing living space for the nearest 15 neighbors\n",
    "* **sqft_lot15** - The square footage of the land lots of the nearest 15 neighbors\n"
   ]
  },
  {
   "cell_type": "markdown",
   "metadata": {},
   "source": [
    "## Importing required libraries"
   ]
  },
  {
   "cell_type": "code",
   "execution_count": 1,
   "metadata": {},
   "outputs": [],
   "source": [
    "# Your code here - remember to use markdown cells for comments as well!\n",
    "import pandas as pd\n",
    "import numpy as np\n",
    "import seaborn as sns"
   ]
  },
  {
   "cell_type": "markdown",
   "metadata": {},
   "source": [
    "## Importing data"
   ]
  },
  {
   "cell_type": "code",
   "execution_count": 2,
   "metadata": {},
   "outputs": [],
   "source": [
    "data = pd.read_csv('kc_house_data.csv')"
   ]
  },
  {
   "cell_type": "markdown",
   "metadata": {},
   "source": [
    "## Viewing dataframe information"
   ]
  },
  {
   "cell_type": "code",
   "execution_count": 3,
   "metadata": {},
   "outputs": [
    {
     "name": "stdout",
     "output_type": "stream",
     "text": [
      "<class 'pandas.core.frame.DataFrame'>\n",
      "RangeIndex: 21597 entries, 0 to 21596\n",
      "Data columns (total 21 columns):\n",
      "id               21597 non-null int64\n",
      "date             21597 non-null object\n",
      "price            21597 non-null float64\n",
      "bedrooms         21597 non-null int64\n",
      "bathrooms        21597 non-null float64\n",
      "sqft_living      21597 non-null int64\n",
      "sqft_lot         21597 non-null int64\n",
      "floors           21597 non-null float64\n",
      "waterfront       19221 non-null float64\n",
      "view             21534 non-null float64\n",
      "condition        21597 non-null int64\n",
      "grade            21597 non-null int64\n",
      "sqft_above       21597 non-null int64\n",
      "sqft_basement    21597 non-null object\n",
      "yr_built         21597 non-null int64\n",
      "yr_renovated     17755 non-null float64\n",
      "zipcode          21597 non-null int64\n",
      "lat              21597 non-null float64\n",
      "long             21597 non-null float64\n",
      "sqft_living15    21597 non-null int64\n",
      "sqft_lot15       21597 non-null int64\n",
      "dtypes: float64(8), int64(11), object(2)\n",
      "memory usage: 3.5+ MB\n"
     ]
    }
   ],
   "source": [
    "data.info()"
   ]
  },
  {
   "cell_type": "markdown",
   "metadata": {},
   "source": [
    "> **Noting missing values in `waterfront`, `view`, and `yr_renovated`; data types for `date` and `sqft_basement` for further inspection**"
   ]
  },
  {
   "cell_type": "markdown",
   "metadata": {},
   "source": [
    "## Viewing first rows and data characteristics"
   ]
  },
  {
   "cell_type": "code",
   "execution_count": 4,
   "metadata": {
    "scrolled": true
   },
   "outputs": [
    {
     "data": {
      "text/html": [
       "<div>\n",
       "<style scoped>\n",
       "    .dataframe tbody tr th:only-of-type {\n",
       "        vertical-align: middle;\n",
       "    }\n",
       "\n",
       "    .dataframe tbody tr th {\n",
       "        vertical-align: top;\n",
       "    }\n",
       "\n",
       "    .dataframe thead th {\n",
       "        text-align: right;\n",
       "    }\n",
       "</style>\n",
       "<table border=\"1\" class=\"dataframe\">\n",
       "  <thead>\n",
       "    <tr style=\"text-align: right;\">\n",
       "      <th></th>\n",
       "      <th>id</th>\n",
       "      <th>date</th>\n",
       "      <th>price</th>\n",
       "      <th>bedrooms</th>\n",
       "      <th>bathrooms</th>\n",
       "      <th>sqft_living</th>\n",
       "      <th>sqft_lot</th>\n",
       "      <th>floors</th>\n",
       "      <th>waterfront</th>\n",
       "      <th>view</th>\n",
       "      <th>condition</th>\n",
       "      <th>grade</th>\n",
       "      <th>sqft_above</th>\n",
       "      <th>sqft_basement</th>\n",
       "      <th>yr_built</th>\n",
       "      <th>yr_renovated</th>\n",
       "      <th>zipcode</th>\n",
       "      <th>lat</th>\n",
       "      <th>long</th>\n",
       "      <th>sqft_living15</th>\n",
       "      <th>sqft_lot15</th>\n",
       "    </tr>\n",
       "  </thead>\n",
       "  <tbody>\n",
       "    <tr>\n",
       "      <td>0</td>\n",
       "      <td>7129300520</td>\n",
       "      <td>10/13/2014</td>\n",
       "      <td>221900.0</td>\n",
       "      <td>3</td>\n",
       "      <td>1.00</td>\n",
       "      <td>1180</td>\n",
       "      <td>5650</td>\n",
       "      <td>1.0</td>\n",
       "      <td>NaN</td>\n",
       "      <td>0.0</td>\n",
       "      <td>3</td>\n",
       "      <td>7</td>\n",
       "      <td>1180</td>\n",
       "      <td>0.0</td>\n",
       "      <td>1955</td>\n",
       "      <td>0.0</td>\n",
       "      <td>98178</td>\n",
       "      <td>47.5112</td>\n",
       "      <td>-122.257</td>\n",
       "      <td>1340</td>\n",
       "      <td>5650</td>\n",
       "    </tr>\n",
       "    <tr>\n",
       "      <td>1</td>\n",
       "      <td>6414100192</td>\n",
       "      <td>12/9/2014</td>\n",
       "      <td>538000.0</td>\n",
       "      <td>3</td>\n",
       "      <td>2.25</td>\n",
       "      <td>2570</td>\n",
       "      <td>7242</td>\n",
       "      <td>2.0</td>\n",
       "      <td>0.0</td>\n",
       "      <td>0.0</td>\n",
       "      <td>3</td>\n",
       "      <td>7</td>\n",
       "      <td>2170</td>\n",
       "      <td>400.0</td>\n",
       "      <td>1951</td>\n",
       "      <td>1991.0</td>\n",
       "      <td>98125</td>\n",
       "      <td>47.7210</td>\n",
       "      <td>-122.319</td>\n",
       "      <td>1690</td>\n",
       "      <td>7639</td>\n",
       "    </tr>\n",
       "    <tr>\n",
       "      <td>2</td>\n",
       "      <td>5631500400</td>\n",
       "      <td>2/25/2015</td>\n",
       "      <td>180000.0</td>\n",
       "      <td>2</td>\n",
       "      <td>1.00</td>\n",
       "      <td>770</td>\n",
       "      <td>10000</td>\n",
       "      <td>1.0</td>\n",
       "      <td>0.0</td>\n",
       "      <td>0.0</td>\n",
       "      <td>3</td>\n",
       "      <td>6</td>\n",
       "      <td>770</td>\n",
       "      <td>0.0</td>\n",
       "      <td>1933</td>\n",
       "      <td>NaN</td>\n",
       "      <td>98028</td>\n",
       "      <td>47.7379</td>\n",
       "      <td>-122.233</td>\n",
       "      <td>2720</td>\n",
       "      <td>8062</td>\n",
       "    </tr>\n",
       "    <tr>\n",
       "      <td>3</td>\n",
       "      <td>2487200875</td>\n",
       "      <td>12/9/2014</td>\n",
       "      <td>604000.0</td>\n",
       "      <td>4</td>\n",
       "      <td>3.00</td>\n",
       "      <td>1960</td>\n",
       "      <td>5000</td>\n",
       "      <td>1.0</td>\n",
       "      <td>0.0</td>\n",
       "      <td>0.0</td>\n",
       "      <td>5</td>\n",
       "      <td>7</td>\n",
       "      <td>1050</td>\n",
       "      <td>910.0</td>\n",
       "      <td>1965</td>\n",
       "      <td>0.0</td>\n",
       "      <td>98136</td>\n",
       "      <td>47.5208</td>\n",
       "      <td>-122.393</td>\n",
       "      <td>1360</td>\n",
       "      <td>5000</td>\n",
       "    </tr>\n",
       "    <tr>\n",
       "      <td>4</td>\n",
       "      <td>1954400510</td>\n",
       "      <td>2/18/2015</td>\n",
       "      <td>510000.0</td>\n",
       "      <td>3</td>\n",
       "      <td>2.00</td>\n",
       "      <td>1680</td>\n",
       "      <td>8080</td>\n",
       "      <td>1.0</td>\n",
       "      <td>0.0</td>\n",
       "      <td>0.0</td>\n",
       "      <td>3</td>\n",
       "      <td>8</td>\n",
       "      <td>1680</td>\n",
       "      <td>0.0</td>\n",
       "      <td>1987</td>\n",
       "      <td>0.0</td>\n",
       "      <td>98074</td>\n",
       "      <td>47.6168</td>\n",
       "      <td>-122.045</td>\n",
       "      <td>1800</td>\n",
       "      <td>7503</td>\n",
       "    </tr>\n",
       "  </tbody>\n",
       "</table>\n",
       "</div>"
      ],
      "text/plain": [
       "           id        date     price  bedrooms  bathrooms  sqft_living  \\\n",
       "0  7129300520  10/13/2014  221900.0         3       1.00         1180   \n",
       "1  6414100192   12/9/2014  538000.0         3       2.25         2570   \n",
       "2  5631500400   2/25/2015  180000.0         2       1.00          770   \n",
       "3  2487200875   12/9/2014  604000.0         4       3.00         1960   \n",
       "4  1954400510   2/18/2015  510000.0         3       2.00         1680   \n",
       "\n",
       "   sqft_lot  floors  waterfront  view  condition  grade  sqft_above  \\\n",
       "0      5650     1.0         NaN   0.0          3      7        1180   \n",
       "1      7242     2.0         0.0   0.0          3      7        2170   \n",
       "2     10000     1.0         0.0   0.0          3      6         770   \n",
       "3      5000     1.0         0.0   0.0          5      7        1050   \n",
       "4      8080     1.0         0.0   0.0          3      8        1680   \n",
       "\n",
       "  sqft_basement  yr_built  yr_renovated  zipcode      lat     long  \\\n",
       "0           0.0      1955           0.0    98178  47.5112 -122.257   \n",
       "1         400.0      1951        1991.0    98125  47.7210 -122.319   \n",
       "2           0.0      1933           NaN    98028  47.7379 -122.233   \n",
       "3         910.0      1965           0.0    98136  47.5208 -122.393   \n",
       "4           0.0      1987           0.0    98074  47.6168 -122.045   \n",
       "\n",
       "   sqft_living15  sqft_lot15  \n",
       "0           1340        5650  \n",
       "1           1690        7639  \n",
       "2           2720        8062  \n",
       "3           1360        5000  \n",
       "4           1800        7503  "
      ]
     },
     "execution_count": 4,
     "metadata": {},
     "output_type": "execute_result"
    }
   ],
   "source": [
    "# setting to view all columns\n",
    "pd.set_option('display.max_columns', 999)\n",
    "\n",
    "# viewing the first rows\n",
    "data.head()"
   ]
  },
  {
   "cell_type": "markdown",
   "metadata": {},
   "source": [
    "> Noting decimals in `floors`, `waterfront`, `view`, and `yr_renovated` for further inspection.\n",
    "We also have some missing data and basements with 0 square feet."
   ]
  },
  {
   "cell_type": "code",
   "execution_count": 5,
   "metadata": {},
   "outputs": [
    {
     "data": {
      "text/html": [
       "<div>\n",
       "<style scoped>\n",
       "    .dataframe tbody tr th:only-of-type {\n",
       "        vertical-align: middle;\n",
       "    }\n",
       "\n",
       "    .dataframe tbody tr th {\n",
       "        vertical-align: top;\n",
       "    }\n",
       "\n",
       "    .dataframe thead th {\n",
       "        text-align: right;\n",
       "    }\n",
       "</style>\n",
       "<table border=\"1\" class=\"dataframe\">\n",
       "  <thead>\n",
       "    <tr style=\"text-align: right;\">\n",
       "      <th></th>\n",
       "      <th>id</th>\n",
       "      <th>price</th>\n",
       "      <th>bedrooms</th>\n",
       "      <th>bathrooms</th>\n",
       "      <th>sqft_living</th>\n",
       "      <th>sqft_lot</th>\n",
       "      <th>floors</th>\n",
       "      <th>waterfront</th>\n",
       "      <th>view</th>\n",
       "      <th>condition</th>\n",
       "      <th>grade</th>\n",
       "      <th>sqft_above</th>\n",
       "      <th>yr_built</th>\n",
       "      <th>yr_renovated</th>\n",
       "      <th>zipcode</th>\n",
       "      <th>lat</th>\n",
       "      <th>long</th>\n",
       "      <th>sqft_living15</th>\n",
       "      <th>sqft_lot15</th>\n",
       "    </tr>\n",
       "  </thead>\n",
       "  <tbody>\n",
       "    <tr>\n",
       "      <td>count</td>\n",
       "      <td>2.159700e+04</td>\n",
       "      <td>2.159700e+04</td>\n",
       "      <td>21597.000000</td>\n",
       "      <td>21597.000000</td>\n",
       "      <td>21597.000000</td>\n",
       "      <td>2.159700e+04</td>\n",
       "      <td>21597.000000</td>\n",
       "      <td>19221.000000</td>\n",
       "      <td>21534.000000</td>\n",
       "      <td>21597.000000</td>\n",
       "      <td>21597.000000</td>\n",
       "      <td>21597.000000</td>\n",
       "      <td>21597.000000</td>\n",
       "      <td>17755.000000</td>\n",
       "      <td>21597.000000</td>\n",
       "      <td>21597.000000</td>\n",
       "      <td>21597.000000</td>\n",
       "      <td>21597.000000</td>\n",
       "      <td>21597.000000</td>\n",
       "    </tr>\n",
       "    <tr>\n",
       "      <td>mean</td>\n",
       "      <td>4.580474e+09</td>\n",
       "      <td>5.402966e+05</td>\n",
       "      <td>3.373200</td>\n",
       "      <td>2.115826</td>\n",
       "      <td>2080.321850</td>\n",
       "      <td>1.509941e+04</td>\n",
       "      <td>1.494096</td>\n",
       "      <td>0.007596</td>\n",
       "      <td>0.233863</td>\n",
       "      <td>3.409825</td>\n",
       "      <td>7.657915</td>\n",
       "      <td>1788.596842</td>\n",
       "      <td>1970.999676</td>\n",
       "      <td>83.636778</td>\n",
       "      <td>98077.951845</td>\n",
       "      <td>47.560093</td>\n",
       "      <td>-122.213982</td>\n",
       "      <td>1986.620318</td>\n",
       "      <td>12758.283512</td>\n",
       "    </tr>\n",
       "    <tr>\n",
       "      <td>std</td>\n",
       "      <td>2.876736e+09</td>\n",
       "      <td>3.673681e+05</td>\n",
       "      <td>0.926299</td>\n",
       "      <td>0.768984</td>\n",
       "      <td>918.106125</td>\n",
       "      <td>4.141264e+04</td>\n",
       "      <td>0.539683</td>\n",
       "      <td>0.086825</td>\n",
       "      <td>0.765686</td>\n",
       "      <td>0.650546</td>\n",
       "      <td>1.173200</td>\n",
       "      <td>827.759761</td>\n",
       "      <td>29.375234</td>\n",
       "      <td>399.946414</td>\n",
       "      <td>53.513072</td>\n",
       "      <td>0.138552</td>\n",
       "      <td>0.140724</td>\n",
       "      <td>685.230472</td>\n",
       "      <td>27274.441950</td>\n",
       "    </tr>\n",
       "    <tr>\n",
       "      <td>min</td>\n",
       "      <td>1.000102e+06</td>\n",
       "      <td>7.800000e+04</td>\n",
       "      <td>1.000000</td>\n",
       "      <td>0.500000</td>\n",
       "      <td>370.000000</td>\n",
       "      <td>5.200000e+02</td>\n",
       "      <td>1.000000</td>\n",
       "      <td>0.000000</td>\n",
       "      <td>0.000000</td>\n",
       "      <td>1.000000</td>\n",
       "      <td>3.000000</td>\n",
       "      <td>370.000000</td>\n",
       "      <td>1900.000000</td>\n",
       "      <td>0.000000</td>\n",
       "      <td>98001.000000</td>\n",
       "      <td>47.155900</td>\n",
       "      <td>-122.519000</td>\n",
       "      <td>399.000000</td>\n",
       "      <td>651.000000</td>\n",
       "    </tr>\n",
       "    <tr>\n",
       "      <td>25%</td>\n",
       "      <td>2.123049e+09</td>\n",
       "      <td>3.220000e+05</td>\n",
       "      <td>3.000000</td>\n",
       "      <td>1.750000</td>\n",
       "      <td>1430.000000</td>\n",
       "      <td>5.040000e+03</td>\n",
       "      <td>1.000000</td>\n",
       "      <td>0.000000</td>\n",
       "      <td>0.000000</td>\n",
       "      <td>3.000000</td>\n",
       "      <td>7.000000</td>\n",
       "      <td>1190.000000</td>\n",
       "      <td>1951.000000</td>\n",
       "      <td>0.000000</td>\n",
       "      <td>98033.000000</td>\n",
       "      <td>47.471100</td>\n",
       "      <td>-122.328000</td>\n",
       "      <td>1490.000000</td>\n",
       "      <td>5100.000000</td>\n",
       "    </tr>\n",
       "    <tr>\n",
       "      <td>50%</td>\n",
       "      <td>3.904930e+09</td>\n",
       "      <td>4.500000e+05</td>\n",
       "      <td>3.000000</td>\n",
       "      <td>2.250000</td>\n",
       "      <td>1910.000000</td>\n",
       "      <td>7.618000e+03</td>\n",
       "      <td>1.500000</td>\n",
       "      <td>0.000000</td>\n",
       "      <td>0.000000</td>\n",
       "      <td>3.000000</td>\n",
       "      <td>7.000000</td>\n",
       "      <td>1560.000000</td>\n",
       "      <td>1975.000000</td>\n",
       "      <td>0.000000</td>\n",
       "      <td>98065.000000</td>\n",
       "      <td>47.571800</td>\n",
       "      <td>-122.231000</td>\n",
       "      <td>1840.000000</td>\n",
       "      <td>7620.000000</td>\n",
       "    </tr>\n",
       "    <tr>\n",
       "      <td>75%</td>\n",
       "      <td>7.308900e+09</td>\n",
       "      <td>6.450000e+05</td>\n",
       "      <td>4.000000</td>\n",
       "      <td>2.500000</td>\n",
       "      <td>2550.000000</td>\n",
       "      <td>1.068500e+04</td>\n",
       "      <td>2.000000</td>\n",
       "      <td>0.000000</td>\n",
       "      <td>0.000000</td>\n",
       "      <td>4.000000</td>\n",
       "      <td>8.000000</td>\n",
       "      <td>2210.000000</td>\n",
       "      <td>1997.000000</td>\n",
       "      <td>0.000000</td>\n",
       "      <td>98118.000000</td>\n",
       "      <td>47.678000</td>\n",
       "      <td>-122.125000</td>\n",
       "      <td>2360.000000</td>\n",
       "      <td>10083.000000</td>\n",
       "    </tr>\n",
       "    <tr>\n",
       "      <td>max</td>\n",
       "      <td>9.900000e+09</td>\n",
       "      <td>7.700000e+06</td>\n",
       "      <td>33.000000</td>\n",
       "      <td>8.000000</td>\n",
       "      <td>13540.000000</td>\n",
       "      <td>1.651359e+06</td>\n",
       "      <td>3.500000</td>\n",
       "      <td>1.000000</td>\n",
       "      <td>4.000000</td>\n",
       "      <td>5.000000</td>\n",
       "      <td>13.000000</td>\n",
       "      <td>9410.000000</td>\n",
       "      <td>2015.000000</td>\n",
       "      <td>2015.000000</td>\n",
       "      <td>98199.000000</td>\n",
       "      <td>47.777600</td>\n",
       "      <td>-121.315000</td>\n",
       "      <td>6210.000000</td>\n",
       "      <td>871200.000000</td>\n",
       "    </tr>\n",
       "  </tbody>\n",
       "</table>\n",
       "</div>"
      ],
      "text/plain": [
       "                 id         price      bedrooms     bathrooms   sqft_living  \\\n",
       "count  2.159700e+04  2.159700e+04  21597.000000  21597.000000  21597.000000   \n",
       "mean   4.580474e+09  5.402966e+05      3.373200      2.115826   2080.321850   \n",
       "std    2.876736e+09  3.673681e+05      0.926299      0.768984    918.106125   \n",
       "min    1.000102e+06  7.800000e+04      1.000000      0.500000    370.000000   \n",
       "25%    2.123049e+09  3.220000e+05      3.000000      1.750000   1430.000000   \n",
       "50%    3.904930e+09  4.500000e+05      3.000000      2.250000   1910.000000   \n",
       "75%    7.308900e+09  6.450000e+05      4.000000      2.500000   2550.000000   \n",
       "max    9.900000e+09  7.700000e+06     33.000000      8.000000  13540.000000   \n",
       "\n",
       "           sqft_lot        floors    waterfront          view     condition  \\\n",
       "count  2.159700e+04  21597.000000  19221.000000  21534.000000  21597.000000   \n",
       "mean   1.509941e+04      1.494096      0.007596      0.233863      3.409825   \n",
       "std    4.141264e+04      0.539683      0.086825      0.765686      0.650546   \n",
       "min    5.200000e+02      1.000000      0.000000      0.000000      1.000000   \n",
       "25%    5.040000e+03      1.000000      0.000000      0.000000      3.000000   \n",
       "50%    7.618000e+03      1.500000      0.000000      0.000000      3.000000   \n",
       "75%    1.068500e+04      2.000000      0.000000      0.000000      4.000000   \n",
       "max    1.651359e+06      3.500000      1.000000      4.000000      5.000000   \n",
       "\n",
       "              grade    sqft_above      yr_built  yr_renovated       zipcode  \\\n",
       "count  21597.000000  21597.000000  21597.000000  17755.000000  21597.000000   \n",
       "mean       7.657915   1788.596842   1970.999676     83.636778  98077.951845   \n",
       "std        1.173200    827.759761     29.375234    399.946414     53.513072   \n",
       "min        3.000000    370.000000   1900.000000      0.000000  98001.000000   \n",
       "25%        7.000000   1190.000000   1951.000000      0.000000  98033.000000   \n",
       "50%        7.000000   1560.000000   1975.000000      0.000000  98065.000000   \n",
       "75%        8.000000   2210.000000   1997.000000      0.000000  98118.000000   \n",
       "max       13.000000   9410.000000   2015.000000   2015.000000  98199.000000   \n",
       "\n",
       "                lat          long  sqft_living15     sqft_lot15  \n",
       "count  21597.000000  21597.000000   21597.000000   21597.000000  \n",
       "mean      47.560093   -122.213982    1986.620318   12758.283512  \n",
       "std        0.138552      0.140724     685.230472   27274.441950  \n",
       "min       47.155900   -122.519000     399.000000     651.000000  \n",
       "25%       47.471100   -122.328000    1490.000000    5100.000000  \n",
       "50%       47.571800   -122.231000    1840.000000    7620.000000  \n",
       "75%       47.678000   -122.125000    2360.000000   10083.000000  \n",
       "max       47.777600   -121.315000    6210.000000  871200.000000  "
      ]
     },
     "execution_count": 5,
     "metadata": {},
     "output_type": "execute_result"
    }
   ],
   "source": [
    "# understanding the data\n",
    "data.describe()"
   ]
  },
  {
   "cell_type": "markdown",
   "metadata": {},
   "source": [
    "> Noting that `sqft_basement` and `date` are not described, since they are not being treated as numeric."
   ]
  },
  {
   "cell_type": "markdown",
   "metadata": {},
   "source": [
    "## Inspecting possible categorical data data - types"
   ]
  },
  {
   "cell_type": "code",
   "execution_count": 6,
   "metadata": {
    "scrolled": false
   },
   "outputs": [
    {
     "data": {
      "text/plain": [
       "3     9824\n",
       "4     6882\n",
       "2     2760\n",
       "5     1601\n",
       "6      272\n",
       "1      196\n",
       "7       38\n",
       "8       13\n",
       "9        6\n",
       "10       3\n",
       "11       1\n",
       "33       1\n",
       "Name: bedrooms, dtype: int64"
      ]
     },
     "metadata": {},
     "output_type": "display_data"
    },
    {
     "name": "stdout",
     "output_type": "stream",
     "text": [
      "--------------------------------------------------------------------------------\n"
     ]
    },
    {
     "data": {
      "text/plain": [
       "2.50    5377\n",
       "1.00    3851\n",
       "1.75    3048\n",
       "2.25    2047\n",
       "2.00    1930\n",
       "1.50    1445\n",
       "2.75    1185\n",
       "3.00     753\n",
       "3.50     731\n",
       "3.25     589\n",
       "3.75     155\n",
       "4.00     136\n",
       "4.50     100\n",
       "4.25      79\n",
       "0.75      71\n",
       "4.75      23\n",
       "5.00      21\n",
       "5.25      13\n",
       "5.50      10\n",
       "1.25       9\n",
       "6.00       6\n",
       "5.75       4\n",
       "0.50       4\n",
       "8.00       2\n",
       "6.25       2\n",
       "6.75       2\n",
       "6.50       2\n",
       "7.50       1\n",
       "7.75       1\n",
       "Name: bathrooms, dtype: int64"
      ]
     },
     "metadata": {},
     "output_type": "display_data"
    },
    {
     "name": "stdout",
     "output_type": "stream",
     "text": [
      "--------------------------------------------------------------------------------\n"
     ]
    },
    {
     "data": {
      "text/plain": [
       "0.0    19075\n",
       "1.0      146\n",
       "Name: waterfront, dtype: int64"
      ]
     },
     "metadata": {},
     "output_type": "display_data"
    },
    {
     "name": "stdout",
     "output_type": "stream",
     "text": [
      "--------------------------------------------------------------------------------\n"
     ]
    },
    {
     "data": {
      "text/plain": [
       "0.0    19422\n",
       "2.0      957\n",
       "3.0      508\n",
       "1.0      330\n",
       "4.0      317\n",
       "Name: view, dtype: int64"
      ]
     },
     "metadata": {},
     "output_type": "display_data"
    },
    {
     "name": "stdout",
     "output_type": "stream",
     "text": [
      "--------------------------------------------------------------------------------\n"
     ]
    },
    {
     "data": {
      "text/plain": [
       "3    14020\n",
       "4     5677\n",
       "5     1701\n",
       "2      170\n",
       "1       29\n",
       "Name: condition, dtype: int64"
      ]
     },
     "metadata": {},
     "output_type": "display_data"
    },
    {
     "name": "stdout",
     "output_type": "stream",
     "text": [
      "--------------------------------------------------------------------------------\n"
     ]
    },
    {
     "data": {
      "text/plain": [
       "7     8974\n",
       "8     6065\n",
       "9     2615\n",
       "6     2038\n",
       "10    1134\n",
       "11     399\n",
       "5      242\n",
       "12      89\n",
       "4       27\n",
       "13      13\n",
       "3        1\n",
       "Name: grade, dtype: int64"
      ]
     },
     "metadata": {},
     "output_type": "display_data"
    },
    {
     "name": "stdout",
     "output_type": "stream",
     "text": [
      "--------------------------------------------------------------------------------\n"
     ]
    },
    {
     "data": {
      "text/plain": [
       "2014    559\n",
       "2006    453\n",
       "2005    450\n",
       "2004    433\n",
       "2003    420\n",
       "       ... \n",
       "1933     30\n",
       "1901     29\n",
       "1902     27\n",
       "1935     24\n",
       "1934     21\n",
       "Name: yr_built, Length: 116, dtype: int64"
      ]
     },
     "metadata": {},
     "output_type": "display_data"
    },
    {
     "name": "stdout",
     "output_type": "stream",
     "text": [
      "--------------------------------------------------------------------------------\n"
     ]
    },
    {
     "data": {
      "text/plain": [
       "0.0       17011\n",
       "2014.0       73\n",
       "2003.0       31\n",
       "2013.0       31\n",
       "2007.0       30\n",
       "          ...  \n",
       "1946.0        1\n",
       "1959.0        1\n",
       "1971.0        1\n",
       "1951.0        1\n",
       "1954.0        1\n",
       "Name: yr_renovated, Length: 70, dtype: int64"
      ]
     },
     "metadata": {},
     "output_type": "display_data"
    },
    {
     "name": "stdout",
     "output_type": "stream",
     "text": [
      "--------------------------------------------------------------------------------\n"
     ]
    },
    {
     "data": {
      "text/plain": [
       "98103    602\n",
       "98038    589\n",
       "98115    583\n",
       "98052    574\n",
       "98117    553\n",
       "        ... \n",
       "98102    104\n",
       "98010    100\n",
       "98024     80\n",
       "98148     57\n",
       "98039     50\n",
       "Name: zipcode, Length: 70, dtype: int64"
      ]
     },
     "metadata": {},
     "output_type": "display_data"
    },
    {
     "name": "stdout",
     "output_type": "stream",
     "text": [
      "--------------------------------------------------------------------------------\n",
      "yr_built:  1900 --> 2015 int64\n",
      "--------------------------------------------------------------------------------\n",
      "yr_renovated:  0.0 --> 2015.0 float64\n",
      "--------------------------------------------------------------------------------\n",
      "Zip codes: \n",
      "\n",
      " [98178 98125 98028 98136 98074 98053 98003 98198 98146 98038 98007 98115\n",
      " 98107 98126 98019 98103 98002 98133 98040 98092 98030 98119 98112 98052\n",
      " 98027 98117 98058 98001 98056 98166 98023 98070 98148 98105 98042 98008\n",
      " 98059 98122 98144 98004 98005 98034 98075 98116 98010 98118 98199 98032\n",
      " 98045 98102 98077 98108 98168 98177 98065 98029 98006 98109 98022 98033\n",
      " 98155 98024 98011 98031 98106 98072 98188 98014 98055 98039] int64\n"
     ]
    }
   ],
   "source": [
    "# setting to view all columns\n",
    "pd.set_option('display.max_rows', 30)\n",
    "\n",
    "# checking values\n",
    "for col in data.columns:\n",
    "    if col in ['bedrooms', 'bathrooms', 'waterfront', 'view', 'condition', 'grade',\n",
    "               'yr_built', 'yr_renovated', 'zipcode']:\n",
    "        display(data[col].value_counts())\n",
    "        print(\"-\"*80)\n",
    "        \n",
    "print(\"yr_built: \", data.yr_built.min(), \"-->\",\n",
    "      data.yr_built.max(), data.yr_built.dtype)\n",
    "print(\"-\"*80)\n",
    "\n",
    "print(\"yr_renovated: \", data.yr_renovated.min(), \"-->\",\n",
    "      data.yr_renovated.max(), data.yr_renovated.dtype)\n",
    "print(\"-\"*80)\n",
    "\n",
    "print(\"Zip codes: \\n\\n\", data.zipcode.unique(), data.zipcode.dtype)"
   ]
  },
  {
   "cell_type": "markdown",
   "metadata": {},
   "source": [
    "### Inspection Notes:\n",
    "\n",
    "* waterfront:  boolean (0 or 1)\n",
    "* view:  possibly the number of times the property was viewed prior to most recent sale (0-4)\n",
    "* condition: (1-5)\n",
    "* grade: (1-13)\n",
    "* yr_built:  ___convert from int___ to datetime or not?\n",
    "* yr_renovated:  ___convert from float___ to int or datetime?\n",
    "* zipcode: ___convert from float to int___"
   ]
  },
  {
   "cell_type": "markdown",
   "metadata": {},
   "source": [
    "*****\n",
    "#### --Scrubbing the Data--"
   ]
  },
  {
   "cell_type": "markdown",
   "metadata": {},
   "source": [
    "## Dealing with Missing Values"
   ]
  },
  {
   "cell_type": "code",
   "execution_count": 7,
   "metadata": {},
   "outputs": [
    {
     "data": {
      "text/plain": [
       "<matplotlib.axes._subplots.AxesSubplot at 0x1f8c916b940>"
      ]
     },
     "execution_count": 7,
     "metadata": {},
     "output_type": "execute_result"
    },
    {
     "data": {
      "image/png": "[encoded data removed]",
      "text/plain": [
       "<Figure size 432x288 with 1 Axes>"
      ]
     },
     "metadata": {
      "needs_background": "light"
     },
     "output_type": "display_data"
    }
   ],
   "source": [
    "# using a heatmap to visualize where values are missing\n",
    "sns.heatmap(data.isnull(), yticklabels=False, cbar=False, cmap=\"YlGnBu\")"
   ]
  },
  {
   "cell_type": "markdown",
   "metadata": {},
   "source": [
    "`waterfront` and `yr_renovated` clearly need some attention."
   ]
  },
  {
   "cell_type": "code",
   "execution_count": 8,
   "metadata": {},
   "outputs": [],
   "source": [
    "# creating a copy of the dataframe for cleaning\n",
    "data_f = data.copy()"
   ]
  },
  {
   "cell_type": "markdown",
   "metadata": {},
   "source": [
    "### `waterfront`"
   ]
  },
  {
   "cell_type": "code",
   "execution_count": 9,
   "metadata": {},
   "outputs": [
    {
     "data": {
      "text/html": [
       "<div>\n",
       "<style scoped>\n",
       "    .dataframe tbody tr th:only-of-type {\n",
       "        vertical-align: middle;\n",
       "    }\n",
       "\n",
       "    .dataframe tbody tr th {\n",
       "        vertical-align: top;\n",
       "    }\n",
       "\n",
       "    .dataframe thead th {\n",
       "        text-align: right;\n",
       "    }\n",
       "</style>\n",
       "<table border=\"1\" class=\"dataframe\">\n",
       "  <thead>\n",
       "    <tr style=\"text-align: right;\">\n",
       "      <th></th>\n",
       "      <th>id</th>\n",
       "      <th>date</th>\n",
       "      <th>price</th>\n",
       "      <th>bedrooms</th>\n",
       "      <th>bathrooms</th>\n",
       "      <th>sqft_living</th>\n",
       "      <th>sqft_lot</th>\n",
       "      <th>floors</th>\n",
       "      <th>waterfront</th>\n",
       "      <th>view</th>\n",
       "      <th>condition</th>\n",
       "      <th>grade</th>\n",
       "      <th>sqft_above</th>\n",
       "      <th>sqft_basement</th>\n",
       "      <th>yr_built</th>\n",
       "      <th>yr_renovated</th>\n",
       "      <th>zipcode</th>\n",
       "      <th>lat</th>\n",
       "      <th>long</th>\n",
       "      <th>sqft_living15</th>\n",
       "      <th>sqft_lot15</th>\n",
       "    </tr>\n",
       "  </thead>\n",
       "  <tbody>\n",
       "    <tr>\n",
       "      <td>21578</td>\n",
       "      <td>5087900040</td>\n",
       "      <td>10/17/2014</td>\n",
       "      <td>350000.0</td>\n",
       "      <td>4</td>\n",
       "      <td>2.75</td>\n",
       "      <td>2500</td>\n",
       "      <td>5995</td>\n",
       "      <td>2.0</td>\n",
       "      <td>NaN</td>\n",
       "      <td>0.0</td>\n",
       "      <td>3</td>\n",
       "      <td>8</td>\n",
       "      <td>2500</td>\n",
       "      <td>0.0</td>\n",
       "      <td>2008</td>\n",
       "      <td>0.0</td>\n",
       "      <td>98042</td>\n",
       "      <td>47.3749</td>\n",
       "      <td>-122.107</td>\n",
       "      <td>2530</td>\n",
       "      <td>5988</td>\n",
       "    </tr>\n",
       "    <tr>\n",
       "      <td>21582</td>\n",
       "      <td>8956200760</td>\n",
       "      <td>10/13/2014</td>\n",
       "      <td>541800.0</td>\n",
       "      <td>4</td>\n",
       "      <td>2.50</td>\n",
       "      <td>3118</td>\n",
       "      <td>7866</td>\n",
       "      <td>2.0</td>\n",
       "      <td>NaN</td>\n",
       "      <td>2.0</td>\n",
       "      <td>3</td>\n",
       "      <td>9</td>\n",
       "      <td>3118</td>\n",
       "      <td>0.0</td>\n",
       "      <td>2014</td>\n",
       "      <td>0.0</td>\n",
       "      <td>98001</td>\n",
       "      <td>47.2931</td>\n",
       "      <td>-122.264</td>\n",
       "      <td>2673</td>\n",
       "      <td>6500</td>\n",
       "    </tr>\n",
       "    <tr>\n",
       "      <td>21586</td>\n",
       "      <td>844000965</td>\n",
       "      <td>6/26/2014</td>\n",
       "      <td>224000.0</td>\n",
       "      <td>3</td>\n",
       "      <td>1.75</td>\n",
       "      <td>1500</td>\n",
       "      <td>11968</td>\n",
       "      <td>1.0</td>\n",
       "      <td>NaN</td>\n",
       "      <td>0.0</td>\n",
       "      <td>3</td>\n",
       "      <td>6</td>\n",
       "      <td>1500</td>\n",
       "      <td>0.0</td>\n",
       "      <td>2014</td>\n",
       "      <td>0.0</td>\n",
       "      <td>98010</td>\n",
       "      <td>47.3095</td>\n",
       "      <td>-122.002</td>\n",
       "      <td>1320</td>\n",
       "      <td>11303</td>\n",
       "    </tr>\n",
       "    <tr>\n",
       "      <td>21587</td>\n",
       "      <td>7852140040</td>\n",
       "      <td>8/25/2014</td>\n",
       "      <td>507250.0</td>\n",
       "      <td>3</td>\n",
       "      <td>2.50</td>\n",
       "      <td>2270</td>\n",
       "      <td>5536</td>\n",
       "      <td>2.0</td>\n",
       "      <td>NaN</td>\n",
       "      <td>0.0</td>\n",
       "      <td>3</td>\n",
       "      <td>8</td>\n",
       "      <td>2270</td>\n",
       "      <td>0.0</td>\n",
       "      <td>2003</td>\n",
       "      <td>0.0</td>\n",
       "      <td>98065</td>\n",
       "      <td>47.5389</td>\n",
       "      <td>-121.881</td>\n",
       "      <td>2270</td>\n",
       "      <td>5731</td>\n",
       "    </tr>\n",
       "    <tr>\n",
       "      <td>21595</td>\n",
       "      <td>291310100</td>\n",
       "      <td>1/16/2015</td>\n",
       "      <td>400000.0</td>\n",
       "      <td>3</td>\n",
       "      <td>2.50</td>\n",
       "      <td>1600</td>\n",
       "      <td>2388</td>\n",
       "      <td>2.0</td>\n",
       "      <td>NaN</td>\n",
       "      <td>0.0</td>\n",
       "      <td>3</td>\n",
       "      <td>8</td>\n",
       "      <td>1600</td>\n",
       "      <td>0.0</td>\n",
       "      <td>2004</td>\n",
       "      <td>0.0</td>\n",
       "      <td>98027</td>\n",
       "      <td>47.5345</td>\n",
       "      <td>-122.069</td>\n",
       "      <td>1410</td>\n",
       "      <td>1287</td>\n",
       "    </tr>\n",
       "  </tbody>\n",
       "</table>\n",
       "</div>"
      ],
      "text/plain": [
       "               id        date     price  bedrooms  bathrooms  sqft_living  \\\n",
       "21578  5087900040  10/17/2014  350000.0         4       2.75         2500   \n",
       "21582  8956200760  10/13/2014  541800.0         4       2.50         3118   \n",
       "21586   844000965   6/26/2014  224000.0         3       1.75         1500   \n",
       "21587  7852140040   8/25/2014  507250.0         3       2.50         2270   \n",
       "21595   291310100   1/16/2015  400000.0         3       2.50         1600   \n",
       "\n",
       "       sqft_lot  floors  waterfront  view  condition  grade  sqft_above  \\\n",
       "21578      5995     2.0         NaN   0.0          3      8        2500   \n",
       "21582      7866     2.0         NaN   2.0          3      9        3118   \n",
       "21586     11968     1.0         NaN   0.0          3      6        1500   \n",
       "21587      5536     2.0         NaN   0.0          3      8        2270   \n",
       "21595      2388     2.0         NaN   0.0          3      8        1600   \n",
       "\n",
       "      sqft_basement  yr_built  yr_renovated  zipcode      lat     long  \\\n",
       "21578           0.0      2008           0.0    98042  47.3749 -122.107   \n",
       "21582           0.0      2014           0.0    98001  47.2931 -122.264   \n",
       "21586           0.0      2014           0.0    98010  47.3095 -122.002   \n",
       "21587           0.0      2003           0.0    98065  47.5389 -121.881   \n",
       "21595           0.0      2004           0.0    98027  47.5345 -122.069   \n",
       "\n",
       "       sqft_living15  sqft_lot15  \n",
       "21578           2530        5988  \n",
       "21582           2673        6500  \n",
       "21586           1320       11303  \n",
       "21587           2270        5731  \n",
       "21595           1410        1287  "
      ]
     },
     "execution_count": 9,
     "metadata": {},
     "output_type": "execute_result"
    }
   ],
   "source": [
    "# viewing a sampling of rows with null `waterfront` values\n",
    "data_f[data_f['waterfront'].isna()].tail()"
   ]
  },
  {
   "cell_type": "markdown",
   "metadata": {},
   "source": [
    "We can inspect a selection of these properties using the `folium` library to verify their proximity to waterfront locations. Plan to convert nulls to 0s, barring controverting discovery."
   ]
  },
  {
   "cell_type": "code",
   "execution_count": 10,
   "metadata": {},
   "outputs": [],
   "source": [
    "# Random sampling 5 properties where `waterfront` is null\n",
    "# wf_nulls = data_f.loc[data_f['waterfront'].isna(), {'waterfront', 'lat', 'long'}]\n",
    "# random_waterfront = wf_nulls.sample(n=5)\n",
    "# random_waterfront\n",
    "\n",
    "\"\"\"\n",
    "\twaterfront\tlat\tlong\n",
    "6159\tNaN\t47.6058\t-122.300\n",
    "9425\tNaN\t47.4862\t-121.718\n",
    "12203\tNaN\t47.6819\t-122.389\n",
    "3677\tNaN\t47.3357\t-122.175\n",
    "2887\tNaN\t47.4487\t-122.033\n",
    "\"\"\"\n",
    "\n",
    "# hard - coding to prevent re - sampling on notebook restarts after cleaning data\n",
    "wf_null_list = [[47.6058, -122.300], [47.4862, -121.718],\n",
    "                [47.6819, -122.389], [47.3357, -122.175],\n",
    "                [47.4487, -122.033]]"
   ]
  },
  {
   "cell_type": "markdown",
   "metadata": {},
   "source": [
    "### Importing necessary libraries"
   ]
  },
  {
   "cell_type": "code",
   "execution_count": 11,
   "metadata": {},
   "outputs": [],
   "source": [
    "# King County lat./ Long. coordinates: 47.5480° N, -121.9836° W\n",
    "import os # for access to file directories\n",
    "\n",
    "import json\n",
    "import folium # mapping library\n",
    "\n",
    "# also importing folium's `MarkerCluster` plug-in to group map pins\n",
    "# when zoomed - out\n",
    "from folium.plugins import FastMarkerCluster"
   ]
  },
  {
   "cell_type": "markdown",
   "metadata": {},
   "source": [
    "### Mapping `waterfront` with Folium"
   ]
  },
  {
   "cell_type": "code",
   "execution_count": 12,
   "metadata": {},
   "outputs": [
    {
     "data": {
      "text/html": [
       "<div style=\"width:100%;\"><div style=\"position:relative;width:100%;height:0;padding-bottom:60%;\"><iframe src=\"data:text/html;charset=utf-8;base64,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\" style=\"position:absolute;width:100%;height:100%;left:0;top:0;border:none !important;\" allowfullscreen webkitallowfullscreen mozallowfullscreen></iframe></div></div>"
      ],
      "text/plain": [
       "<folium.folium.Map at 0x1f8cbccfba8>"
      ]
     },
     "execution_count": 12,
     "metadata": {},
     "output_type": "execute_result"
    }
   ],
   "source": [
    "# using property coordinates for marker locations\n",
    "locations = wf_null_list\n",
    "\n",
    "# getting residences' lat/ lon coordinates to separate lists\n",
    "lats = [location[0] for location in locations]\n",
    "lons = [location[1] for location in locations]\n",
    "\n",
    "# create a map object, centered on the mean coordinates for the residences\n",
    "m = folium.Map(\n",
    "    location=[np.mean(lats), np.mean(lons)],\n",
    "    tiles='Cartodb Positron',\n",
    "    zoom_start=7\n",
    ")\n",
    "\n",
    "# creating a cluster to group all markers on the zoomed - out map\n",
    "FastMarkerCluster(data=list(zip(lats, lons))).add_to(m)\n",
    "\n",
    "# adding markers to the map and saving\n",
    "folium.LayerControl().add_to(m)\n",
    "m.save(os.path.join('results', '5_MarkerCluster1.html'))\n",
    "\n",
    "m"
   ]
  },
  {
   "cell_type": "markdown",
   "metadata": {},
   "source": [
    "These properties are not on the waterfront"
   ]
  },
  {
   "cell_type": "code",
   "execution_count": 13,
   "metadata": {},
   "outputs": [
    {
     "data": {
      "text/plain": [
       "dtype('float64')"
      ]
     },
     "execution_count": 13,
     "metadata": {},
     "output_type": "execute_result"
    }
   ],
   "source": [
    "# fill `waterfront` nulls with 0s to indicate\n",
    "# they are not on the waterrfront\n",
    "data_f.waterfront.fillna(value=0, inplace=True)\n",
    "data_f.waterfront.dtype"
   ]
  },
  {
   "cell_type": "markdown",
   "metadata": {},
   "source": [
    "This column does not need decimals.\n",
    "Rounding `waterfront` to a single digit and casting as a 'category' data type."
   ]
  },
  {
   "cell_type": "code",
   "execution_count": 14,
   "metadata": {},
   "outputs": [],
   "source": [
    "# rounding the column down and casting as an integer\n",
    "data_f.waterfront = data_f.waterfront.round(0).astype('int64').astype('category')"
   ]
  },
  {
   "cell_type": "code",
   "execution_count": 15,
   "metadata": {},
   "outputs": [
    {
     "data": {
      "text/plain": [
       "CategoricalDtype(categories=[0, 1], ordered=False)"
      ]
     },
     "metadata": {},
     "output_type": "display_data"
    },
    {
     "data": {
      "text/html": [
       "<div>\n",
       "<style scoped>\n",
       "    .dataframe tbody tr th:only-of-type {\n",
       "        vertical-align: middle;\n",
       "    }\n",
       "\n",
       "    .dataframe tbody tr th {\n",
       "        vertical-align: top;\n",
       "    }\n",
       "\n",
       "    .dataframe thead th {\n",
       "        text-align: right;\n",
       "    }\n",
       "</style>\n",
       "<table border=\"1\" class=\"dataframe\">\n",
       "  <thead>\n",
       "    <tr style=\"text-align: right;\">\n",
       "      <th></th>\n",
       "      <th>id</th>\n",
       "      <th>date</th>\n",
       "      <th>price</th>\n",
       "      <th>bedrooms</th>\n",
       "      <th>bathrooms</th>\n",
       "      <th>sqft_living</th>\n",
       "      <th>sqft_lot</th>\n",
       "      <th>floors</th>\n",
       "      <th>waterfront</th>\n",
       "      <th>view</th>\n",
       "      <th>condition</th>\n",
       "      <th>grade</th>\n",
       "      <th>sqft_above</th>\n",
       "      <th>sqft_basement</th>\n",
       "      <th>yr_built</th>\n",
       "      <th>yr_renovated</th>\n",
       "      <th>zipcode</th>\n",
       "      <th>lat</th>\n",
       "      <th>long</th>\n",
       "      <th>sqft_living15</th>\n",
       "      <th>sqft_lot15</th>\n",
       "    </tr>\n",
       "  </thead>\n",
       "  <tbody>\n",
       "    <tr>\n",
       "      <td>49</td>\n",
       "      <td>822039084</td>\n",
       "      <td>3/11/2015</td>\n",
       "      <td>1350000.0</td>\n",
       "      <td>3</td>\n",
       "      <td>2.5</td>\n",
       "      <td>2753</td>\n",
       "      <td>65005</td>\n",
       "      <td>1.0</td>\n",
       "      <td>1</td>\n",
       "      <td>2.0</td>\n",
       "      <td>5</td>\n",
       "      <td>9</td>\n",
       "      <td>2165</td>\n",
       "      <td>588.0</td>\n",
       "      <td>1953</td>\n",
       "      <td>0.0</td>\n",
       "      <td>98070</td>\n",
       "      <td>47.4041</td>\n",
       "      <td>-122.451</td>\n",
       "      <td>2680</td>\n",
       "      <td>72513</td>\n",
       "    </tr>\n",
       "  </tbody>\n",
       "</table>\n",
       "</div>"
      ],
      "text/plain": [
       "           id       date      price  bedrooms  bathrooms  sqft_living  \\\n",
       "49  822039084  3/11/2015  1350000.0         3        2.5         2753   \n",
       "\n",
       "    sqft_lot  floors waterfront  view  condition  grade  sqft_above  \\\n",
       "49     65005     1.0          1   2.0          5      9        2165   \n",
       "\n",
       "   sqft_basement  yr_built  yr_renovated  zipcode      lat     long  \\\n",
       "49         588.0      1953           0.0    98070  47.4041 -122.451   \n",
       "\n",
       "    sqft_living15  sqft_lot15  \n",
       "49           2680       72513  "
      ]
     },
     "execution_count": 15,
     "metadata": {},
     "output_type": "execute_result"
    }
   ],
   "source": [
    "display(data_f.waterfront.dtype)\n",
    "data_f[data_f['waterfront'] == 1].head(1)"
   ]
  },
  {
   "cell_type": "markdown",
   "metadata": {},
   "source": [
    "### `view`\n",
    "\n",
    "Searching for commonalities among NaN entries for this feature"
   ]
  },
  {
   "cell_type": "code",
   "execution_count": 16,
   "metadata": {},
   "outputs": [
    {
     "data": {
      "text/html": [
       "<div>\n",
       "<style scoped>\n",
       "    .dataframe tbody tr th:only-of-type {\n",
       "        vertical-align: middle;\n",
       "    }\n",
       "\n",
       "    .dataframe tbody tr th {\n",
       "        vertical-align: top;\n",
       "    }\n",
       "\n",
       "    .dataframe thead th {\n",
       "        text-align: right;\n",
       "    }\n",
       "</style>\n",
       "<table border=\"1\" class=\"dataframe\">\n",
       "  <thead>\n",
       "    <tr style=\"text-align: right;\">\n",
       "      <th></th>\n",
       "      <th>id</th>\n",
       "      <th>date</th>\n",
       "      <th>grade</th>\n",
       "      <th>view</th>\n",
       "    </tr>\n",
       "  </thead>\n",
       "  <tbody>\n",
       "    <tr>\n",
       "      <td>7</td>\n",
       "      <td>2008000270</td>\n",
       "      <td>1/15/2015</td>\n",
       "      <td>7</td>\n",
       "      <td>NaN</td>\n",
       "    </tr>\n",
       "    <tr>\n",
       "      <td>114</td>\n",
       "      <td>8961960160</td>\n",
       "      <td>10/28/2014</td>\n",
       "      <td>9</td>\n",
       "      <td>NaN</td>\n",
       "    </tr>\n",
       "    <tr>\n",
       "      <td>129</td>\n",
       "      <td>7853210060</td>\n",
       "      <td>4/6/2015</td>\n",
       "      <td>7</td>\n",
       "      <td>NaN</td>\n",
       "    </tr>\n",
       "    <tr>\n",
       "      <td>205</td>\n",
       "      <td>3456000310</td>\n",
       "      <td>8/4/2014</td>\n",
       "      <td>9</td>\n",
       "      <td>NaN</td>\n",
       "    </tr>\n",
       "    <tr>\n",
       "      <td>487</td>\n",
       "      <td>1895000260</td>\n",
       "      <td>7/21/2014</td>\n",
       "      <td>6</td>\n",
       "      <td>NaN</td>\n",
       "    </tr>\n",
       "    <tr>\n",
       "      <td>590</td>\n",
       "      <td>2525069041</td>\n",
       "      <td>9/4/2014</td>\n",
       "      <td>7</td>\n",
       "      <td>NaN</td>\n",
       "    </tr>\n",
       "    <tr>\n",
       "      <td>938</td>\n",
       "      <td>1324079046</td>\n",
       "      <td>1/20/2015</td>\n",
       "      <td>7</td>\n",
       "      <td>NaN</td>\n",
       "    </tr>\n",
       "    <tr>\n",
       "      <td>1313</td>\n",
       "      <td>7558700030</td>\n",
       "      <td>4/13/2015</td>\n",
       "      <td>12</td>\n",
       "      <td>NaN</td>\n",
       "    </tr>\n",
       "    <tr>\n",
       "      <td>1364</td>\n",
       "      <td>9468200140</td>\n",
       "      <td>8/19/2014</td>\n",
       "      <td>7</td>\n",
       "      <td>NaN</td>\n",
       "    </tr>\n",
       "    <tr>\n",
       "      <td>1701</td>\n",
       "      <td>3121069036</td>\n",
       "      <td>12/8/2014</td>\n",
       "      <td>8</td>\n",
       "      <td>NaN</td>\n",
       "    </tr>\n",
       "    <tr>\n",
       "      <td>2415</td>\n",
       "      <td>8924100111</td>\n",
       "      <td>4/24/2015</td>\n",
       "      <td>8</td>\n",
       "      <td>NaN</td>\n",
       "    </tr>\n",
       "    <tr>\n",
       "      <td>2833</td>\n",
       "      <td>2710600025</td>\n",
       "      <td>11/3/2014</td>\n",
       "      <td>7</td>\n",
       "      <td>NaN</td>\n",
       "    </tr>\n",
       "    <tr>\n",
       "      <td>3150</td>\n",
       "      <td>1336800015</td>\n",
       "      <td>5/21/2014</td>\n",
       "      <td>10</td>\n",
       "      <td>NaN</td>\n",
       "    </tr>\n",
       "    <tr>\n",
       "      <td>3237</td>\n",
       "      <td>5259800090</td>\n",
       "      <td>4/27/2015</td>\n",
       "      <td>7</td>\n",
       "      <td>NaN</td>\n",
       "    </tr>\n",
       "    <tr>\n",
       "      <td>4533</td>\n",
       "      <td>7280300042</td>\n",
       "      <td>4/1/2015</td>\n",
       "      <td>8</td>\n",
       "      <td>NaN</td>\n",
       "    </tr>\n",
       "    <tr>\n",
       "      <td>4740</td>\n",
       "      <td>4123810090</td>\n",
       "      <td>9/9/2014</td>\n",
       "      <td>8</td>\n",
       "      <td>NaN</td>\n",
       "    </tr>\n",
       "    <tr>\n",
       "      <td>5196</td>\n",
       "      <td>8857600680</td>\n",
       "      <td>3/13/2015</td>\n",
       "      <td>7</td>\n",
       "      <td>NaN</td>\n",
       "    </tr>\n",
       "    <tr>\n",
       "      <td>5207</td>\n",
       "      <td>4031000290</td>\n",
       "      <td>4/8/2015</td>\n",
       "      <td>7</td>\n",
       "      <td>NaN</td>\n",
       "    </tr>\n",
       "    <tr>\n",
       "      <td>5393</td>\n",
       "      <td>2141330050</td>\n",
       "      <td>5/20/2014</td>\n",
       "      <td>9</td>\n",
       "      <td>NaN</td>\n",
       "    </tr>\n",
       "    <tr>\n",
       "      <td>5494</td>\n",
       "      <td>2338800161</td>\n",
       "      <td>1/6/2015</td>\n",
       "      <td>6</td>\n",
       "      <td>NaN</td>\n",
       "    </tr>\n",
       "    <tr>\n",
       "      <td>5585</td>\n",
       "      <td>5739600427</td>\n",
       "      <td>3/11/2015</td>\n",
       "      <td>7</td>\n",
       "      <td>NaN</td>\n",
       "    </tr>\n",
       "    <tr>\n",
       "      <td>5746</td>\n",
       "      <td>3630180500</td>\n",
       "      <td>10/6/2014</td>\n",
       "      <td>10</td>\n",
       "      <td>NaN</td>\n",
       "    </tr>\n",
       "    <tr>\n",
       "      <td>6391</td>\n",
       "      <td>1432400345</td>\n",
       "      <td>4/21/2015</td>\n",
       "      <td>6</td>\n",
       "      <td>NaN</td>\n",
       "    </tr>\n",
       "    <tr>\n",
       "      <td>7103</td>\n",
       "      <td>104540840</td>\n",
       "      <td>12/3/2014</td>\n",
       "      <td>7</td>\n",
       "      <td>NaN</td>\n",
       "    </tr>\n",
       "    <tr>\n",
       "      <td>7269</td>\n",
       "      <td>339200130</td>\n",
       "      <td>5/31/2014</td>\n",
       "      <td>9</td>\n",
       "      <td>NaN</td>\n",
       "    </tr>\n",
       "    <tr>\n",
       "      <td>7563</td>\n",
       "      <td>126059018</td>\n",
       "      <td>1/8/2015</td>\n",
       "      <td>8</td>\n",
       "      <td>NaN</td>\n",
       "    </tr>\n",
       "    <tr>\n",
       "      <td>7686</td>\n",
       "      <td>3579700100</td>\n",
       "      <td>5/27/2014</td>\n",
       "      <td>7</td>\n",
       "      <td>NaN</td>\n",
       "    </tr>\n",
       "    <tr>\n",
       "      <td>7716</td>\n",
       "      <td>3972900025</td>\n",
       "      <td>3/13/2015</td>\n",
       "      <td>7</td>\n",
       "      <td>NaN</td>\n",
       "    </tr>\n",
       "    <tr>\n",
       "      <td>8047</td>\n",
       "      <td>3530490031</td>\n",
       "      <td>9/24/2014</td>\n",
       "      <td>8</td>\n",
       "      <td>NaN</td>\n",
       "    </tr>\n",
       "    <tr>\n",
       "      <td>8066</td>\n",
       "      <td>8661000148</td>\n",
       "      <td>10/28/2014</td>\n",
       "      <td>7</td>\n",
       "      <td>NaN</td>\n",
       "    </tr>\n",
       "    <tr>\n",
       "      <td>8279</td>\n",
       "      <td>4358700141</td>\n",
       "      <td>4/27/2015</td>\n",
       "      <td>7</td>\n",
       "      <td>NaN</td>\n",
       "    </tr>\n",
       "    <tr>\n",
       "      <td>8575</td>\n",
       "      <td>2997800090</td>\n",
       "      <td>4/6/2015</td>\n",
       "      <td>6</td>\n",
       "      <td>NaN</td>\n",
       "    </tr>\n",
       "    <tr>\n",
       "      <td>9405</td>\n",
       "      <td>5700003630</td>\n",
       "      <td>6/30/2014</td>\n",
       "      <td>11</td>\n",
       "      <td>NaN</td>\n",
       "    </tr>\n",
       "    <tr>\n",
       "      <td>9853</td>\n",
       "      <td>2719100400</td>\n",
       "      <td>9/12/2014</td>\n",
       "      <td>7</td>\n",
       "      <td>NaN</td>\n",
       "    </tr>\n",
       "    <tr>\n",
       "      <td>10023</td>\n",
       "      <td>3423600060</td>\n",
       "      <td>12/2/2014</td>\n",
       "      <td>7</td>\n",
       "      <td>NaN</td>\n",
       "    </tr>\n",
       "    <tr>\n",
       "      <td>10174</td>\n",
       "      <td>806800400</td>\n",
       "      <td>2/9/2015</td>\n",
       "      <td>7</td>\n",
       "      <td>NaN</td>\n",
       "    </tr>\n",
       "    <tr>\n",
       "      <td>10339</td>\n",
       "      <td>6868200060</td>\n",
       "      <td>12/11/2014</td>\n",
       "      <td>8</td>\n",
       "      <td>NaN</td>\n",
       "    </tr>\n",
       "    <tr>\n",
       "      <td>10704</td>\n",
       "      <td>9269200831</td>\n",
       "      <td>8/25/2014</td>\n",
       "      <td>6</td>\n",
       "      <td>NaN</td>\n",
       "    </tr>\n",
       "    <tr>\n",
       "      <td>11305</td>\n",
       "      <td>1560100135</td>\n",
       "      <td>2/24/2015</td>\n",
       "      <td>7</td>\n",
       "      <td>NaN</td>\n",
       "    </tr>\n",
       "    <tr>\n",
       "      <td>11479</td>\n",
       "      <td>3214200070</td>\n",
       "      <td>4/29/2015</td>\n",
       "      <td>7</td>\n",
       "      <td>NaN</td>\n",
       "    </tr>\n",
       "    <tr>\n",
       "      <td>11634</td>\n",
       "      <td>1796200140</td>\n",
       "      <td>3/9/2015</td>\n",
       "      <td>7</td>\n",
       "      <td>NaN</td>\n",
       "    </tr>\n",
       "    <tr>\n",
       "      <td>11704</td>\n",
       "      <td>705710640</td>\n",
       "      <td>3/2/2015</td>\n",
       "      <td>7</td>\n",
       "      <td>NaN</td>\n",
       "    </tr>\n",
       "    <tr>\n",
       "      <td>12486</td>\n",
       "      <td>1088810040</td>\n",
       "      <td>3/20/2015</td>\n",
       "      <td>9</td>\n",
       "      <td>NaN</td>\n",
       "    </tr>\n",
       "    <tr>\n",
       "      <td>13456</td>\n",
       "      <td>871001085</td>\n",
       "      <td>1/29/2015</td>\n",
       "      <td>8</td>\n",
       "      <td>NaN</td>\n",
       "    </tr>\n",
       "    <tr>\n",
       "      <td>13539</td>\n",
       "      <td>8835350230</td>\n",
       "      <td>8/25/2014</td>\n",
       "      <td>9</td>\n",
       "      <td>NaN</td>\n",
       "    </tr>\n",
       "    <tr>\n",
       "      <td>13729</td>\n",
       "      <td>1895450230</td>\n",
       "      <td>2/18/2015</td>\n",
       "      <td>8</td>\n",
       "      <td>NaN</td>\n",
       "    </tr>\n",
       "    <tr>\n",
       "      <td>13863</td>\n",
       "      <td>6669240230</td>\n",
       "      <td>3/17/2015</td>\n",
       "      <td>8</td>\n",
       "      <td>NaN</td>\n",
       "    </tr>\n",
       "    <tr>\n",
       "      <td>14003</td>\n",
       "      <td>6303400150</td>\n",
       "      <td>9/29/2014</td>\n",
       "      <td>6</td>\n",
       "      <td>NaN</td>\n",
       "    </tr>\n",
       "    <tr>\n",
       "      <td>14526</td>\n",
       "      <td>3678900450</td>\n",
       "      <td>9/26/2014</td>\n",
       "      <td>7</td>\n",
       "      <td>NaN</td>\n",
       "    </tr>\n",
       "    <tr>\n",
       "      <td>14657</td>\n",
       "      <td>1954700365</td>\n",
       "      <td>3/17/2015</td>\n",
       "      <td>8</td>\n",
       "      <td>NaN</td>\n",
       "    </tr>\n",
       "    <tr>\n",
       "      <td>14975</td>\n",
       "      <td>8562740480</td>\n",
       "      <td>4/14/2015</td>\n",
       "      <td>9</td>\n",
       "      <td>NaN</td>\n",
       "    </tr>\n",
       "    <tr>\n",
       "      <td>15174</td>\n",
       "      <td>5706300020</td>\n",
       "      <td>11/25/2014</td>\n",
       "      <td>7</td>\n",
       "      <td>NaN</td>\n",
       "    </tr>\n",
       "    <tr>\n",
       "      <td>15809</td>\n",
       "      <td>5088500170</td>\n",
       "      <td>10/27/2014</td>\n",
       "      <td>9</td>\n",
       "      <td>NaN</td>\n",
       "    </tr>\n",
       "    <tr>\n",
       "      <td>15943</td>\n",
       "      <td>2162000190</td>\n",
       "      <td>12/15/2014</td>\n",
       "      <td>9</td>\n",
       "      <td>NaN</td>\n",
       "    </tr>\n",
       "    <tr>\n",
       "      <td>16748</td>\n",
       "      <td>6669080020</td>\n",
       "      <td>12/26/2014</td>\n",
       "      <td>7</td>\n",
       "      <td>NaN</td>\n",
       "    </tr>\n",
       "    <tr>\n",
       "      <td>17222</td>\n",
       "      <td>316000190</td>\n",
       "      <td>2/15/2015</td>\n",
       "      <td>6</td>\n",
       "      <td>NaN</td>\n",
       "    </tr>\n",
       "    <tr>\n",
       "      <td>18225</td>\n",
       "      <td>7625701386</td>\n",
       "      <td>5/16/2014</td>\n",
       "      <td>7</td>\n",
       "      <td>NaN</td>\n",
       "    </tr>\n",
       "    <tr>\n",
       "      <td>18611</td>\n",
       "      <td>2485000076</td>\n",
       "      <td>1/22/2015</td>\n",
       "      <td>10</td>\n",
       "      <td>NaN</td>\n",
       "    </tr>\n",
       "    <tr>\n",
       "      <td>19989</td>\n",
       "      <td>148000475</td>\n",
       "      <td>5/28/2014</td>\n",
       "      <td>11</td>\n",
       "      <td>NaN</td>\n",
       "    </tr>\n",
       "    <tr>\n",
       "      <td>20148</td>\n",
       "      <td>291310170</td>\n",
       "      <td>8/4/2014</td>\n",
       "      <td>8</td>\n",
       "      <td>NaN</td>\n",
       "    </tr>\n",
       "    <tr>\n",
       "      <td>20380</td>\n",
       "      <td>1196003740</td>\n",
       "      <td>9/24/2014</td>\n",
       "      <td>10</td>\n",
       "      <td>NaN</td>\n",
       "    </tr>\n",
       "    <tr>\n",
       "      <td>21057</td>\n",
       "      <td>3448900290</td>\n",
       "      <td>8/28/2014</td>\n",
       "      <td>9</td>\n",
       "      <td>NaN</td>\n",
       "    </tr>\n",
       "    <tr>\n",
       "      <td>21589</td>\n",
       "      <td>3448900210</td>\n",
       "      <td>10/14/2014</td>\n",
       "      <td>9</td>\n",
       "      <td>NaN</td>\n",
       "    </tr>\n",
       "  </tbody>\n",
       "</table>\n",
       "</div>"
      ],
      "text/plain": [
       "               id        date  grade  view\n",
       "7      2008000270   1/15/2015      7   NaN\n",
       "114    8961960160  10/28/2014      9   NaN\n",
       "129    7853210060    4/6/2015      7   NaN\n",
       "205    3456000310    8/4/2014      9   NaN\n",
       "487    1895000260   7/21/2014      6   NaN\n",
       "590    2525069041    9/4/2014      7   NaN\n",
       "938    1324079046   1/20/2015      7   NaN\n",
       "1313   7558700030   4/13/2015     12   NaN\n",
       "1364   9468200140   8/19/2014      7   NaN\n",
       "1701   3121069036   12/8/2014      8   NaN\n",
       "2415   8924100111   4/24/2015      8   NaN\n",
       "2833   2710600025   11/3/2014      7   NaN\n",
       "3150   1336800015   5/21/2014     10   NaN\n",
       "3237   5259800090   4/27/2015      7   NaN\n",
       "4533   7280300042    4/1/2015      8   NaN\n",
       "4740   4123810090    9/9/2014      8   NaN\n",
       "5196   8857600680   3/13/2015      7   NaN\n",
       "5207   4031000290    4/8/2015      7   NaN\n",
       "5393   2141330050   5/20/2014      9   NaN\n",
       "5494   2338800161    1/6/2015      6   NaN\n",
       "5585   5739600427   3/11/2015      7   NaN\n",
       "5746   3630180500   10/6/2014     10   NaN\n",
       "6391   1432400345   4/21/2015      6   NaN\n",
       "7103    104540840   12/3/2014      7   NaN\n",
       "7269    339200130   5/31/2014      9   NaN\n",
       "7563    126059018    1/8/2015      8   NaN\n",
       "7686   3579700100   5/27/2014      7   NaN\n",
       "7716   3972900025   3/13/2015      7   NaN\n",
       "8047   3530490031   9/24/2014      8   NaN\n",
       "8066   8661000148  10/28/2014      7   NaN\n",
       "8279   4358700141   4/27/2015      7   NaN\n",
       "8575   2997800090    4/6/2015      6   NaN\n",
       "9405   5700003630   6/30/2014     11   NaN\n",
       "9853   2719100400   9/12/2014      7   NaN\n",
       "10023  3423600060   12/2/2014      7   NaN\n",
       "10174   806800400    2/9/2015      7   NaN\n",
       "10339  6868200060  12/11/2014      8   NaN\n",
       "10704  9269200831   8/25/2014      6   NaN\n",
       "11305  1560100135   2/24/2015      7   NaN\n",
       "11479  3214200070   4/29/2015      7   NaN\n",
       "11634  1796200140    3/9/2015      7   NaN\n",
       "11704   705710640    3/2/2015      7   NaN\n",
       "12486  1088810040   3/20/2015      9   NaN\n",
       "13456   871001085   1/29/2015      8   NaN\n",
       "13539  8835350230   8/25/2014      9   NaN\n",
       "13729  1895450230   2/18/2015      8   NaN\n",
       "13863  6669240230   3/17/2015      8   NaN\n",
       "14003  6303400150   9/29/2014      6   NaN\n",
       "14526  3678900450   9/26/2014      7   NaN\n",
       "14657  1954700365   3/17/2015      8   NaN\n",
       "14975  8562740480   4/14/2015      9   NaN\n",
       "15174  5706300020  11/25/2014      7   NaN\n",
       "15809  5088500170  10/27/2014      9   NaN\n",
       "15943  2162000190  12/15/2014      9   NaN\n",
       "16748  6669080020  12/26/2014      7   NaN\n",
       "17222   316000190   2/15/2015      6   NaN\n",
       "18225  7625701386   5/16/2014      7   NaN\n",
       "18611  2485000076   1/22/2015     10   NaN\n",
       "19989   148000475   5/28/2014     11   NaN\n",
       "20148   291310170    8/4/2014      8   NaN\n",
       "20380  1196003740   9/24/2014     10   NaN\n",
       "21057  3448900290   8/28/2014      9   NaN\n",
       "21589  3448900210  10/14/2014      9   NaN"
      ]
     },
     "execution_count": 16,
     "metadata": {},
     "output_type": "execute_result"
    }
   ],
   "source": [
    "# setting to view all rows in this set (there are 63)\n",
    "pd.set_option('display.max_rows', 70)\n",
    "# viewing rows\n",
    "data_f.loc[data_f['view'].isna(), (['id', 'date', 'grade', 'view'])]"
   ]
  },
  {
   "cell_type": "markdown",
   "metadata": {},
   "source": [
    "These properties are highly rated, but have no recorded views. Perhaps they were purchased site - unseen, in the area's competitive market.\n",
    "\n",
    "I wonder whether any of them have previously been sold? Are any of the IDs duplicated (flipped in a short period of time)?"
   ]
  },
  {
   "cell_type": "code",
   "execution_count": 17,
   "metadata": {},
   "outputs": [
    {
     "data": {
      "text/plain": [
       "0"
      ]
     },
     "execution_count": 17,
     "metadata": {},
     "output_type": "execute_result"
    }
   ],
   "source": [
    "# instantiating a variable for the dataframe created above\n",
    "null_views_df = data_f.loc[data_f['view'].isna(), (['id', 'date', 'grade'])]\n",
    "\n",
    "# and a variable for duplicate property IDs\n",
    "duplicate_ids_df = data_f[data_f.duplicated(['id'])]\n",
    "\n",
    "# counting null views with duplicate IDs\n",
    "filter_1 = null_views_df.id.isin(duplicate_ids_df.id).sum()\n",
    "filter_1"
   ]
  },
  {
   "cell_type": "markdown",
   "metadata": {},
   "source": [
    "None of the homes with null views have duplicate IDs. This group makes me curious.\n",
    "\n",
    "Converting these values to 0s, but I may return to this group, depending on our central questions (to be developed in the next notebook section)."
   ]
  },
  {
   "cell_type": "code",
   "execution_count": 18,
   "metadata": {},
   "outputs": [
    {
     "name": "stdout",
     "output_type": "stream",
     "text": [
      "Column nulls before processing:  63\n",
      "------------------------------------------------------------------------ \n",
      "View column nulls after processing: \n",
      " 0\n"
     ]
    }
   ],
   "source": [
    "# now we can convert null values to 0s\n",
    "print(\"Column nulls before processing: \", data_f.view.isna().sum())\n",
    "data_f['view'].fillna(0, inplace=True)\n",
    "\n",
    "# verify no null values remain in `view`\n",
    "print(\"-\"*72, \"\\nView column nulls after processing: \\n\", data_f.view.isna().sum())"
   ]
  },
  {
   "cell_type": "code",
   "execution_count": 19,
   "metadata": {},
   "outputs": [
    {
     "name": "stdout",
     "output_type": "stream",
     "text": [
      "View - column nulls before processing:  0\n",
      "Converting from  float64 ------------------------------------------\n",
      "Converted to  category\n"
     ]
    }
   ],
   "source": [
    "print(\"View - column nulls before processing: \", data_f.view.isna().sum())\n",
    "print(\"Converting from \", data_f.view.dtype, \"-\"*42)\n",
    "\n",
    "# convert data type to category\n",
    "data_f['view'] = data_f['view'].astype('int64').astype('category')\n",
    "\n",
    "print(\"Converted to \", data_f.view.dtype)"
   ]
  },
  {
   "cell_type": "markdown",
   "metadata": {},
   "source": [
    "### `yr_renovated`"
   ]
  },
  {
   "cell_type": "markdown",
   "metadata": {},
   "source": [
    "* A null value in this column suggests no renovation has been done.\n",
    "* Boolean values are mixed with years"
   ]
  },
  {
   "cell_type": "code",
   "execution_count": 20,
   "metadata": {},
   "outputs": [
    {
     "name": "stdout",
     "output_type": "stream",
     "text": [
      "Year renovated null count:  3842\n",
      "Year renovated zero count:  17011\n",
      "Year renovated negative count:  0\n"
     ]
    },
    {
     "data": {
      "text/plain": [
       "0.0       17011\n",
       "2014.0       73\n",
       "2003.0       31\n",
       "2013.0       31\n",
       "2007.0       30\n",
       "          ...  \n",
       "1946.0        1\n",
       "1959.0        1\n",
       "1971.0        1\n",
       "1951.0        1\n",
       "1954.0        1\n",
       "Name: yr_renovated, Length: 70, dtype: int64"
      ]
     },
     "metadata": {},
     "output_type": "display_data"
    }
   ],
   "source": [
    "# limiting number of rows to view\n",
    "pd.set_option('display.max_rows', 10)\n",
    "\n",
    "# viewing counts for the column\n",
    "print(\"Year renovated null count: \", \n",
    "      data.yr_renovated.isna().sum())\n",
    "print(\"Year renovated zero count: \", \n",
    "      (data.yr_renovated == 0).sum())\n",
    "print(\"Year renovated negative count: \", \n",
    "      (data.yr_renovated < 0).sum())\n",
    "# check for oddities\n",
    "display(data_f.yr_renovated.value_counts())\n"
   ]
  },
  {
   "cell_type": "markdown",
   "metadata": {},
   "source": [
    "### Adding a column to indicate whether or not the home was renovated\n",
    "\n",
    "Whether the home was renovated interests me more than what year the home was renovated."
   ]
  },
  {
   "cell_type": "code",
   "execution_count": 21,
   "metadata": {},
   "outputs": [
    {
     "data": {
      "text/plain": [
       "0    0\n",
       "Name: Renovated, dtype: category\n",
       "Categories (2, int64): [0, 1]"
      ]
     },
     "metadata": {},
     "output_type": "display_data"
    }
   ],
   "source": [
    "# creating a new boolean column\n",
    "# returning True for `yr_renovated` > 1 in each row\n",
    "data_f['Renovated'] = (data_f['yr_renovated'].round() > 1).astype('int64').astype('category')\n",
    "display(data_f.Renovated.head(1))"
   ]
  },
  {
   "cell_type": "markdown",
   "metadata": {},
   "source": [
    "Dropping the original `yr_renovated` column."
   ]
  },
  {
   "cell_type": "code",
   "execution_count": 22,
   "metadata": {},
   "outputs": [],
   "source": [
    "data_f.drop(columns='yr_renovated', inplace=True)"
   ]
  },
  {
   "cell_type": "code",
   "execution_count": 23,
   "metadata": {},
   "outputs": [
    {
     "data": {
      "text/html": [
       "<div>\n",
       "<style scoped>\n",
       "    .dataframe tbody tr th:only-of-type {\n",
       "        vertical-align: middle;\n",
       "    }\n",
       "\n",
       "    .dataframe tbody tr th {\n",
       "        vertical-align: top;\n",
       "    }\n",
       "\n",
       "    .dataframe thead th {\n",
       "        text-align: right;\n",
       "    }\n",
       "</style>\n",
       "<table border=\"1\" class=\"dataframe\">\n",
       "  <thead>\n",
       "    <tr style=\"text-align: right;\">\n",
       "      <th></th>\n",
       "      <th>id</th>\n",
       "      <th>date</th>\n",
       "      <th>price</th>\n",
       "      <th>bedrooms</th>\n",
       "      <th>bathrooms</th>\n",
       "      <th>sqft_living</th>\n",
       "      <th>sqft_lot</th>\n",
       "      <th>floors</th>\n",
       "      <th>waterfront</th>\n",
       "      <th>view</th>\n",
       "      <th>condition</th>\n",
       "      <th>grade</th>\n",
       "      <th>sqft_above</th>\n",
       "      <th>sqft_basement</th>\n",
       "      <th>yr_built</th>\n",
       "      <th>zipcode</th>\n",
       "      <th>lat</th>\n",
       "      <th>long</th>\n",
       "      <th>sqft_living15</th>\n",
       "      <th>sqft_lot15</th>\n",
       "      <th>Renovated</th>\n",
       "    </tr>\n",
       "  </thead>\n",
       "  <tbody>\n",
       "    <tr>\n",
       "      <td>0</td>\n",
       "      <td>7129300520</td>\n",
       "      <td>10/13/2014</td>\n",
       "      <td>221900.0</td>\n",
       "      <td>3</td>\n",
       "      <td>1.0</td>\n",
       "      <td>1180</td>\n",
       "      <td>5650</td>\n",
       "      <td>1.0</td>\n",
       "      <td>0</td>\n",
       "      <td>0</td>\n",
       "      <td>3</td>\n",
       "      <td>7</td>\n",
       "      <td>1180</td>\n",
       "      <td>0.0</td>\n",
       "      <td>1955</td>\n",
       "      <td>98178</td>\n",
       "      <td>47.5112</td>\n",
       "      <td>-122.257</td>\n",
       "      <td>1340</td>\n",
       "      <td>5650</td>\n",
       "      <td>0</td>\n",
       "    </tr>\n",
       "  </tbody>\n",
       "</table>\n",
       "</div>"
      ],
      "text/plain": [
       "           id        date     price  bedrooms  bathrooms  sqft_living  \\\n",
       "0  7129300520  10/13/2014  221900.0         3        1.0         1180   \n",
       "\n",
       "   sqft_lot  floors waterfront view  condition  grade  sqft_above  \\\n",
       "0      5650     1.0          0    0          3      7        1180   \n",
       "\n",
       "  sqft_basement  yr_built  zipcode      lat     long  sqft_living15  \\\n",
       "0           0.0      1955    98178  47.5112 -122.257           1340   \n",
       "\n",
       "   sqft_lot15 Renovated  \n",
       "0        5650         0  "
      ]
     },
     "execution_count": 23,
     "metadata": {},
     "output_type": "execute_result"
    }
   ],
   "source": [
    "# inspecting dataframe with new `Renovated` column\n",
    "data_f.head(1)"
   ]
  },
  {
   "cell_type": "markdown",
   "metadata": {},
   "source": [
    "#### Miss anything that is missing?"
   ]
  },
  {
   "cell_type": "code",
   "execution_count": 24,
   "metadata": {},
   "outputs": [
    {
     "data": {
      "text/plain": [
       "<matplotlib.axes._subplots.AxesSubplot at 0x1f8cbd109b0>"
      ]
     },
     "execution_count": 24,
     "metadata": {},
     "output_type": "execute_result"
    },
    {
     "data": {
      "image/png": "[encoded data removed]",
      "text/plain": [
       "<Figure size 432x288 with 1 Axes>"
      ]
     },
     "metadata": {
      "needs_background": "light"
     },
     "output_type": "display_data"
    }
   ],
   "source": [
    "# using a heatmap to visualize where values are missing\n",
    "sns.heatmap(data_f.isnull(), yticklabels=False, cbar=False, cmap=\"YlGnBu\")"
   ]
  },
  {
   "cell_type": "markdown",
   "metadata": {},
   "source": [
    "All clear."
   ]
  },
  {
   "cell_type": "markdown",
   "metadata": {},
   "source": [
    "## Dealing with more Data Types"
   ]
  },
  {
   "cell_type": "markdown",
   "metadata": {},
   "source": [
    "`date`"
   ]
  },
  {
   "cell_type": "code",
   "execution_count": 25,
   "metadata": {},
   "outputs": [
    {
     "data": {
      "text/plain": [
       "dtype('O')"
      ]
     },
     "metadata": {},
     "output_type": "display_data"
    },
    {
     "data": {
      "text/plain": [
       "0    10/13/2014\n",
       "Name: date, dtype: object"
      ]
     },
     "execution_count": 25,
     "metadata": {},
     "output_type": "execute_result"
    }
   ],
   "source": [
    "display(data_f.date.dtype)\n",
    "data_f.date.head(1)"
   ]
  },
  {
   "cell_type": "code",
   "execution_count": 26,
   "metadata": {},
   "outputs": [
    {
     "data": {
      "text/plain": [
       "Timestamp('2014-05-02 00:00:00')"
      ]
     },
     "execution_count": 26,
     "metadata": {},
     "output_type": "execute_result"
    }
   ],
   "source": [
    "data_f.date = pd.to_datetime(data_f.date)\n",
    "data_f.date.min()"
   ]
  },
  {
   "cell_type": "markdown",
   "metadata": {},
   "source": [
    "> This data would be more interesting to me if the dates were spread over a longer period of time. As the dates only cover the span of about one year. I will extract the year and convert the column to a category."
   ]
  },
  {
   "cell_type": "code",
   "execution_count": 27,
   "metadata": {},
   "outputs": [],
   "source": [
    "# convert the date to a year only integer\n",
    "# data_f.date = data_f.date.map(lambda x: x.strftime('%Y')).astype(int)\n",
    "data_f.date = data_f.date.dt.year.astype('category')"
   ]
  },
  {
   "cell_type": "code",
   "execution_count": 28,
   "metadata": {},
   "outputs": [
    {
     "data": {
      "text/plain": [
       "0    2014\n",
       "1    2014\n",
       "Name: date, dtype: category\n",
       "Categories (2, int64): [2014, 2015]"
      ]
     },
     "execution_count": 28,
     "metadata": {},
     "output_type": "execute_result"
    }
   ],
   "source": [
    "data_f.date.dtype\n",
    "data_f.date.head(2)"
   ]
  },
  {
   "cell_type": "markdown",
   "metadata": {},
   "source": [
    "`grade`"
   ]
  },
  {
   "cell_type": "code",
   "execution_count": 29,
   "metadata": {},
   "outputs": [
    {
     "data": {
      "text/plain": [
       "dtype('int64')"
      ]
     },
     "metadata": {},
     "output_type": "display_data"
    },
    {
     "data": {
      "text/plain": [
       "array([ 7,  6,  8, 11,  9,  5, 10, 12,  4,  3, 13], dtype=int64)"
      ]
     },
     "execution_count": 29,
     "metadata": {},
     "output_type": "execute_result"
    }
   ],
   "source": [
    "display(data_f.grade.dtype)\n",
    "data_f.grade.unique()"
   ]
  },
  {
   "cell_type": "markdown",
   "metadata": {},
   "source": [
    "We can convert `grade` to an ordered category."
   ]
  },
  {
   "cell_type": "code",
   "execution_count": 30,
   "metadata": {},
   "outputs": [
    {
     "data": {
      "text/plain": [
       "0        7\n",
       "1        7\n",
       "2        6\n",
       "3        7\n",
       "4        8\n",
       "        ..\n",
       "21592    8\n",
       "21593    8\n",
       "21594    7\n",
       "21595    8\n",
       "21596    7\n",
       "Name: grade, Length: 21597, dtype: category\n",
       "Categories (11, int64): [3 < 4 < 5 < 6 ... 10 < 11 < 12 < 13]"
      ]
     },
     "execution_count": 30,
     "metadata": {},
     "output_type": "execute_result"
    }
   ],
   "source": [
    "grade_dtype = pd.api.types.CategoricalDtype(\n",
    "    categories=[3, 4, 5, 6, 7, 8, 9, 10, 11, 12, 13], ordered=True)\n",
    "\n",
    "# verify the category\n",
    "data_f.grade.astype(grade_dtype)"
   ]
  },
  {
   "cell_type": "code",
   "execution_count": 31,
   "metadata": {},
   "outputs": [
    {
     "data": {
      "text/plain": [
       "CategoricalDtype(categories=[3, 4, 5, 6, 7, 8, 9, 10, 11, 12, 13], ordered=True)"
      ]
     },
     "execution_count": 31,
     "metadata": {},
     "output_type": "execute_result"
    }
   ],
   "source": [
    "# category order is confirmed\n",
    "# convert `grade` to the ordered category\n",
    "data_f.grade = data_f.grade.astype(grade_dtype)\n",
    "data_f.grade.dtype"
   ]
  },
  {
   "cell_type": "markdown",
   "metadata": {},
   "source": [
    "`condition`"
   ]
  },
  {
   "cell_type": "code",
   "execution_count": 32,
   "metadata": {},
   "outputs": [
    {
     "name": "stdout",
     "output_type": "stream",
     "text": [
      "[3 5 4 1 2]\n"
     ]
    }
   ],
   "source": [
    "data_f.condition.dtype\n",
    "print(data_f.condition.unique())"
   ]
  },
  {
   "cell_type": "markdown",
   "metadata": {},
   "source": [
    "Convert `condition` to an ordered category."
   ]
  },
  {
   "cell_type": "code",
   "execution_count": 33,
   "metadata": {},
   "outputs": [
    {
     "data": {
      "text/plain": [
       "CategoricalDtype(categories=[1, 2, 3, 4, 5], ordered=True)"
      ]
     },
     "execution_count": 33,
     "metadata": {},
     "output_type": "execute_result"
    }
   ],
   "source": [
    "condition_dtype = pd.api.types.CategoricalDtype(\n",
    "    categories=[1, 2, 3, 4, 5], ordered=True)\n",
    "\n",
    "# convert `condition` to an ordered category\n",
    "data_f.condition = data_f.condition.astype(condition_dtype)\n",
    "data_f.condition.dtype"
   ]
  },
  {
   "cell_type": "markdown",
   "metadata": {},
   "source": [
    "`sqft_basement`"
   ]
  },
  {
   "cell_type": "code",
   "execution_count": 34,
   "metadata": {},
   "outputs": [
    {
     "name": "stdout",
     "output_type": "stream",
     "text": [
      "0       0.0\n",
      "1     400.0\n",
      "2       0.0\n",
      "3     910.0\n",
      "4       0.0\n",
      "5    1530.0\n",
      "6         ?\n",
      "7       0.0\n",
      "8     730.0\n",
      "9       0.0\n",
      "Name: sqft_basement, dtype: object \n",
      " ------------------------------------------------------------------------\n"
     ]
    },
    {
     "data": {
      "text/plain": [
       "count     21597\n",
       "unique      304\n",
       "top         0.0\n",
       "freq      12826\n",
       "Name: sqft_basement, dtype: object"
      ]
     },
     "execution_count": 34,
     "metadata": {},
     "output_type": "execute_result"
    }
   ],
   "source": [
    "# check the current type and first rows\n",
    "print(data_f.sqft_basement.head(10), \"\\n\", \"-\"*72)\n",
    "data_f.sqft_basement.describe()"
   ]
  },
  {
   "cell_type": "markdown",
   "metadata": {},
   "source": [
    "A question mark, indeed. Presuming that to be the only non - numerical data in this column and replacing it (them) with mode zero."
   ]
  },
  {
   "cell_type": "code",
   "execution_count": 35,
   "metadata": {},
   "outputs": [
    {
     "data": {
      "text/plain": [
       "454"
      ]
     },
     "execution_count": 35,
     "metadata": {},
     "output_type": "execute_result"
    }
   ],
   "source": [
    "# counting question marks\n",
    "data_f.loc[(data_f['sqft_basement'] == '?'), 'sqft_basement'].count()"
   ]
  },
  {
   "cell_type": "code",
   "execution_count": 36,
   "metadata": {},
   "outputs": [
    {
     "name": "stdout",
     "output_type": "stream",
     "text": [
      "454  rows had ?s\n",
      "0  rows have ?s\n",
      "object\n"
     ]
    },
    {
     "data": {
      "text/plain": [
       "4       0.0\n",
       "5    1530.0\n",
       "6         1\n",
       "7       0.0\n",
       "Name: sqft_basement, dtype: object"
      ]
     },
     "execution_count": 36,
     "metadata": {},
     "output_type": "execute_result"
    }
   ],
   "source": [
    "# replacing question marks with zeros\n",
    "sb = data_f['sqft_basement']\n",
    "print(data_f.loc[(data_f['sqft_basement'] == '?'), 'sqft_basement'].count(),\n",
    "     \" rows had ?s\")\n",
    "\n",
    "# convert data type to int\n",
    "# sb = sb.astype(pd.Int64Dtype()) <-- would not convert directly\n",
    "\n",
    "# convert placeholder?s to placeholder 1.0 to avoid 0.0 issues\n",
    "data_f['sqft_basement'] = data_f['sqft_basement'].map(lambda x: 1.0 if x == '?' else x)\n",
    "\n",
    "pd.to_numeric(data_f['sqft_basement'])\n",
    "\n",
    "# printing number of ?s if any\n",
    "try:\n",
    "    print(data_f.loc[(data_f['sqft_basement'] == '?'), 'sqft_basement'].count(),\n",
    "     \" rows have ?s\")\n",
    "except: # if error from None, print that no rows have ?s\n",
    "    print(\"No rows have ?s\\n\")\n",
    "\n",
    "print(data_f['sqft_basement'].dtype)\n",
    "data_f['sqft_basement'][4:8]"
   ]
  },
  {
   "cell_type": "markdown",
   "metadata": {},
   "source": [
    "...Still an object!\n",
    "### Using a lambda function"
   ]
  },
  {
   "cell_type": "code",
   "execution_count": 37,
   "metadata": {},
   "outputs": [],
   "source": [
    "# converting one value at - a -time\n",
    "data_f['sqft_basement'] = data_f['sqft_basement'].map(lambda x: pd.to_numeric(x))"
   ]
  },
  {
   "cell_type": "code",
   "execution_count": 38,
   "metadata": {
    "scrolled": true
   },
   "outputs": [
    {
     "data": {
      "text/plain": [
       "dtype('float64')"
      ]
     },
     "metadata": {},
     "output_type": "display_data"
    },
    {
     "data": {
      "text/plain": [
       "4       0.0\n",
       "5    1530.0\n",
       "6       1.0\n",
       "7       0.0\n",
       "Name: sqft_basement, dtype: float64"
      ]
     },
     "execution_count": 38,
     "metadata": {},
     "output_type": "execute_result"
    }
   ],
   "source": [
    "display(data_f['sqft_basement'].dtype)\n",
    "data_f['sqft_basement'][4:8]"
   ]
  },
  {
   "cell_type": "markdown",
   "metadata": {},
   "source": [
    "### Using mask"
   ]
  },
  {
   "cell_type": "code",
   "execution_count": 39,
   "metadata": {},
   "outputs": [],
   "source": [
    "# getting those 1s back to 0s\n",
    "data_f['sqft_basement'].mask(lambda x : x == 1.0, other = 0, inplace=True)"
   ]
  },
  {
   "cell_type": "markdown",
   "metadata": {},
   "source": [
    "I could probably have used that much sooner."
   ]
  },
  {
   "cell_type": "code",
   "execution_count": 40,
   "metadata": {},
   "outputs": [
    {
     "data": {
      "text/plain": [
       "(0.0, dtype('float64'))"
      ]
     },
     "execution_count": 40,
     "metadata": {},
     "output_type": "execute_result"
    }
   ],
   "source": [
    "# checking the number of 0s and ensuring dtype is still float64\n",
    "data_f.loc[data_f['sqft_basement'] == 1]['sqft_basement'].sum(), data_f['sqft_basement'].dtype"
   ]
  },
  {
   "cell_type": "markdown",
   "metadata": {},
   "source": [
    "## Dealing with Duplicate Columns"
   ]
  },
  {
   "cell_type": "code",
   "execution_count": 41,
   "metadata": {
    "scrolled": true
   },
   "outputs": [
    {
     "name": "stdout",
     "output_type": "stream",
     "text": [
      "Duplicated IDs: \n",
      " (177, 21)\n",
      "--------------------------------------------------------------------------------\n",
      "Completely duplicated entries: \n",
      " 0\n",
      "--------------------------------------------------------------------------------\n"
     ]
    }
   ],
   "source": [
    "# checking for duplicate home IDs (we already created a slice for this)\n",
    "print(\"Duplicated IDs: \\n\", \n",
    "      duplicate_ids_df.shape)\n",
    "print(\"-\"*80)\n",
    "\n",
    "# checking for complete row duplicates\n",
    "print(\"Completely duplicated entries: \\n\", \n",
    "      len(data_f) \n",
    "      - len(data_f.duplicated(subset=None, keep='first')))\n",
    "print(\"-\"*80)"
   ]
  },
  {
   "cell_type": "markdown",
   "metadata": {},
   "source": [
    "There are no completely duplicated rows, though there are duplicate property IDs in the dataset.\n",
    "\n",
    "Since variables can change for a home from one sale to the next (eg., renovation, condition, et al.), we will not exclude these duplicate properties."
   ]
  },
  {
   "cell_type": "markdown",
   "metadata": {},
   "source": [
    "***\n",
    "## Dealing with Outliers"
   ]
  },
  {
   "cell_type": "markdown",
   "metadata": {},
   "source": [
    "Dealing with outliers should help to make our distributions more normal, which in turn will make our model more reliable."
   ]
  },
  {
   "cell_type": "markdown",
   "metadata": {},
   "source": [
    "### Importing required libraries"
   ]
  },
  {
   "cell_type": "code",
   "execution_count": 42,
   "metadata": {},
   "outputs": [],
   "source": [
    "import matplotlib.pyplot as plt\n",
    "%matplotlib inline\n",
    "plt.rcdefaults() # set plt parameters to default"
   ]
  },
  {
   "cell_type": "markdown",
   "metadata": {},
   "source": [
    "#### Z-scores, IQRs, and Eyeballs\n",
    "\n",
    "There are a few ways to go about identifying and eliminating outliers.\n",
    "* The z - score indicates how many standard deviations from the mean is a data point. As we do not yet know whether our residual distributions are normal. it may be too soon to look at these scores to identify outliers.\n",
    "* The innerquartile range (IQR) rule identifies values that fall outside of the 25th and 75th percentiles by more than 1.5 - times the lower or upper boune.\n",
    "* We can look at visualizations to see how our data is distributed and make determinations about where should be our cut - off limits.\n",
    "\n",
    "Since we are still scrubbing our data, we can take a look at IQR for the 3 categorical variables we have not yet converted to dtype 'category."
   ]
  },
  {
   "cell_type": "markdown",
   "metadata": {},
   "source": [
    "### Categorical Outliers"
   ]
  },
  {
   "cell_type": "markdown",
   "metadata": {},
   "source": [
    "We need to take a look at `bedrooms`, `bathrooms`, and `floors`. These columns will need to be converted to categories, after dealing with their outlier values. \n",
    "\n",
    "First, we will view their distributions as violinplots."
   ]
  },
  {
   "cell_type": "code",
   "execution_count": 43,
   "metadata": {},
   "outputs": [
    {
     "data": {
      "image/png": "[encoded data removed]",
      "text/plain": [
       "<Figure size 640x480 with 3 Axes>"
      ]
     },
     "metadata": {},
     "output_type": "display_data"
    }
   ],
   "source": [
    "# create a list of the 3 column names\n",
    "out_list = ['bedrooms', 'bathrooms', 'floors']\n",
    "\n",
    "# Subplot 3 boxplots for 'bedrooms', 'bathrooms', and 'floors'\n",
    "fig, ax = plt.subplots(3, 1) # 3 columns, 1 row\n",
    "plt.suptitle(\n",
    "    \"Univariate Distributions for Categorical Outliers\", va='bottom')\n",
    "plt.subplots_adjust(wspace=.35, hspace=.8) # space between subplots\n",
    "plot_space = 311 # location of first plot\n",
    "\n",
    "for col in out_list:    \n",
    "    plt.subplot(plot_space)\n",
    "    sns.violinplot( col, data=data_f, color=\"orange\", inner='quartiles')\n",
    "    plt.title(col, fontsize=11, color='grey', loc='left', style='italic')\n",
    "    plot_space += 1 # increment to the next row\n",
    "\n",
    "# plt.show()"
   ]
  },
  {
   "cell_type": "markdown",
   "metadata": {},
   "source": [
    "I would expect we could set a cut - off at about 6 bedrooms and 5 bathrooms. It doesn't look seem like `floors` would cause much of a problem."
   ]
  },
  {
   "cell_type": "code",
   "execution_count": 44,
   "metadata": {},
   "outputs": [
    {
     "data": {
      "text/plain": [
       "id    43\n",
       "dtype: int64"
      ]
     },
     "metadata": {},
     "output_type": "display_data"
    },
    {
     "data": {
      "text/plain": [
       "id    62\n",
       "dtype: int64"
      ]
     },
     "execution_count": 44,
     "metadata": {},
     "output_type": "execute_result"
    }
   ],
   "source": [
    "# count of homes with more than 5 bathrooms\n",
    "display(data_f.loc[data_f['bathrooms'] > 5, ['id'] ].count())\n",
    "\n",
    "# count of homes with more than 6 bedrooms\n",
    "data_f.loc[data_f['bedrooms'] > 6, ['id'] ].count()"
   ]
  },
  {
   "cell_type": "markdown",
   "metadata": {},
   "source": [
    "So, that is what my eyes tell me. Let's see what the data tells us."
   ]
  },
  {
   "cell_type": "code",
   "execution_count": 45,
   "metadata": {},
   "outputs": [],
   "source": [
    "''' a function that takes a dataframe and a list of columns\n",
    "to view or count outlier rows based on the IQR rule\n",
    "we only need the upper - bound\n",
    "'''\n",
    "def show_iqr_out(data, col_list):\n",
    "    for cat in col_list:\n",
    "        q1 = data[cat].quantile(0.25) # 1st quantile\n",
    "        q3 = data[cat].quantile(0.75) # 2nd quantile\n",
    "        iqr = q3 - q1 # innerquantile range\n",
    "        #lower_range = q1 - (1.5 * iqr)\n",
    "        upper_range = q3 + (1.5 * iqr)\n",
    "        #below_lower = data[cat] < (lower_range) # below  lower range\n",
    "        above_upper = data[cat] > (upper_range) # above upper range\n",
    "        # print outliers\n",
    "        # print(data[below_lower | above_upper][cat], \"\\n\", \"-\"*72)\n",
    "        #print(f\"{cat} lower - bound {lower_range}:\", \n",
    "              #data[below_lower][cat].count(), \"\\n\", \"-\"*72)\n",
    "        print(f\"{cat} upper - bound {upper_range}:\", \n",
    "              data[above_upper][cat].count(), \"\\n\", \"-\"*72)"
   ]
  },
  {
   "cell_type": "code",
   "execution_count": 46,
   "metadata": {},
   "outputs": [
    {
     "name": "stdout",
     "output_type": "stream",
     "text": [
      "bedrooms upper - bound 5.5: 334 \n",
      " ------------------------------------------------------------------------\n",
      "bathrooms upper - bound 3.625: 557 \n",
      " ------------------------------------------------------------------------\n",
      "floors upper - bound 3.5: 0 \n",
      " ------------------------------------------------------------------------\n"
     ]
    }
   ],
   "source": [
    "# pass a list of columns to the function\n",
    "show_iqr_out(data_f, ['bedrooms', 'bathrooms', 'floors'])"
   ]
  },
  {
   "cell_type": "markdown",
   "metadata": {},
   "source": [
    "Dropping homes with just 4-or-more bathrooms is quite a bit less forgiving than my eyes. Oh, well.\n",
    "\n",
    "Let's trim them, first preserving the dataframe in its current state."
   ]
  },
  {
   "cell_type": "markdown",
   "metadata": {},
   "source": [
    "## Pickle the current - state dataframe"
   ]
  },
  {
   "cell_type": "code",
   "execution_count": 47,
   "metadata": {},
   "outputs": [],
   "source": [
    "import pickle"
   ]
  },
  {
   "cell_type": "markdown",
   "metadata": {},
   "source": [
    "Store the `data_f` dataframe in a sub - directory of the repository as data_f_all, before removing outliers."
   ]
  },
  {
   "cell_type": "code",
   "execution_count": 48,
   "metadata": {},
   "outputs": [],
   "source": [
    "with open('data/data_f_all.pickle', 'wb') as f:\n",
    "    # Pickling the 'data_f' dataframe using the highest protocol available.\n",
    "    pickle.dump(data_f, f, pickle.HIGHEST_PROTOCOL)"
   ]
  },
  {
   "cell_type": "markdown",
   "metadata": {},
   "source": [
    "### Remove outliers from `data_f`"
   ]
  },
  {
   "cell_type": "code",
   "execution_count": 49,
   "metadata": {},
   "outputs": [
    {
     "name": "stdout",
     "output_type": "stream",
     "text": [
      "shape before outlier removal:  (21597, 21) \n",
      " ------------------------------------------------------------------------\n",
      "\n",
      "shape after outlier removal:  (21061, 21)\n"
     ]
    }
   ],
   "source": [
    "# writing a loop based on `show_iqr_out` that drops rows\n",
    "# for IQR upper - bound outliers\n",
    "col_list = ['bedrooms', 'bathrooms']\n",
    "\n",
    "print(\"shape before outlier removal: \", data_f.shape, \"\\n\", \"-\"*72)\n",
    "\n",
    "for cat in col_list:\n",
    "    q1 = data_f[cat].quantile(0.25)\n",
    "    q3 = data_f[cat].quantile(0.75)\n",
    "    iqr = q3 - q1\n",
    "    upper_range = q3 + (1.5 * iqr)\n",
    "    data_f.drop(data_f[ data_f[cat] > (upper_range)\n",
    "                            ].index , inplace=True)\n",
    "\n",
    "print(\"\\nshape after outlier removal: \", data_f.shape)"
   ]
  },
  {
   "cell_type": "code",
   "execution_count": 50,
   "metadata": {},
   "outputs": [
    {
     "data": {
      "text/plain": [
       "Text(0.0, 1.0, 'bathrooms')"
      ]
     },
     "execution_count": 50,
     "metadata": {},
     "output_type": "execute_result"
    },
    {
     "data": {
      "image/png": "[encoded data removed]",
      "text/plain": [
       "<Figure size 640x480 with 2 Axes>"
      ]
     },
     "metadata": {},
     "output_type": "display_data"
    }
   ],
   "source": [
    "# review boxplots for the outlier - cleaned columns\n",
    "fig, ax = plt.subplots(2, 1)\n",
    "plt.subplots_adjust(wspace=.35, hspace=.8) # space between subplots\n",
    "\n",
    "plt.subplot(211)\n",
    "plt.suptitle(\"Categorical Univariate Distributions\", va='bottom')\n",
    "sns.violinplot( 'bedrooms', data=data_f, color=\"orange\", inner='quartiles')\n",
    "plt.title('bedrooms', fontsize=11, color='grey', loc='left', style='italic')\n",
    "plt.subplot(212)\n",
    "sns.violinplot( 'bathrooms', data=data_f, color=\"green\", inner='quartiles')\n",
    "plt.title('bathrooms', fontsize=11, color='grey', loc='left', style='italic')\n",
    "\n",
    "\n",
    "# plt.show()"
   ]
  },
  {
   "cell_type": "markdown",
   "metadata": {},
   "source": [
    "> Those appear to be a bit more central than before.\n",
    "\n",
    "Now, we can convert them to categories."
   ]
  },
  {
   "cell_type": "markdown",
   "metadata": {},
   "source": [
    "`bedrooms`"
   ]
  },
  {
   "cell_type": "code",
   "execution_count": 51,
   "metadata": {},
   "outputs": [
    {
     "data": {
      "text/plain": [
       "array([3, 2, 4, 5, 1], dtype=int64)"
      ]
     },
     "metadata": {},
     "output_type": "display_data"
    }
   ],
   "source": [
    "display(data_f.bedrooms.unique())"
   ]
  },
  {
   "cell_type": "code",
   "execution_count": 52,
   "metadata": {},
   "outputs": [
    {
     "data": {
      "text/plain": [
       "CategoricalDtype(categories=[1, 2, 3, 4, 5], ordered=True)"
      ]
     },
     "execution_count": 52,
     "metadata": {},
     "output_type": "execute_result"
    }
   ],
   "source": [
    "# create an ordered 'bedrooms' dtype\n",
    "bedrooms_dtype = pd.api.types.CategoricalDtype(\n",
    "    categories=[1,  2,  3,  4,  5], ordered=True)\n",
    "\n",
    "# convert `condition` to an ordered category\n",
    "data_f.bedrooms = data_f.bedrooms.astype(bedrooms_dtype)\n",
    "data_f.bedrooms.dtype"
   ]
  },
  {
   "cell_type": "markdown",
   "metadata": {},
   "source": [
    "`floors`"
   ]
  },
  {
   "cell_type": "code",
   "execution_count": 53,
   "metadata": {},
   "outputs": [
    {
     "data": {
      "text/plain": [
       "1.0    10537\n",
       "2.0     7916\n",
       "1.5     1869\n",
       "3.0      597\n",
       "2.5      136\n",
       "3.5        6\n",
       "Name: floors, dtype: int64"
      ]
     },
     "execution_count": 53,
     "metadata": {},
     "output_type": "execute_result"
    }
   ],
   "source": [
    "data_f.floors.value_counts()"
   ]
  },
  {
   "cell_type": "markdown",
   "metadata": {},
   "source": [
    "I am curious about those 3.5 floors homes. Let's take a look at them."
   ]
  },
  {
   "cell_type": "code",
   "execution_count": 54,
   "metadata": {
    "scrolled": true
   },
   "outputs": [
    {
     "data": {
      "text/html": [
       "<div>\n",
       "<style scoped>\n",
       "    .dataframe tbody tr th:only-of-type {\n",
       "        vertical-align: middle;\n",
       "    }\n",
       "\n",
       "    .dataframe tbody tr th {\n",
       "        vertical-align: top;\n",
       "    }\n",
       "\n",
       "    .dataframe thead th {\n",
       "        text-align: right;\n",
       "    }\n",
       "</style>\n",
       "<table border=\"1\" class=\"dataframe\">\n",
       "  <thead>\n",
       "    <tr style=\"text-align: right;\">\n",
       "      <th></th>\n",
       "      <th>id</th>\n",
       "      <th>date</th>\n",
       "      <th>price</th>\n",
       "      <th>bedrooms</th>\n",
       "      <th>bathrooms</th>\n",
       "      <th>sqft_living</th>\n",
       "      <th>sqft_lot</th>\n",
       "      <th>floors</th>\n",
       "      <th>waterfront</th>\n",
       "      <th>view</th>\n",
       "      <th>condition</th>\n",
       "      <th>grade</th>\n",
       "      <th>sqft_above</th>\n",
       "      <th>sqft_basement</th>\n",
       "      <th>yr_built</th>\n",
       "      <th>zipcode</th>\n",
       "      <th>lat</th>\n",
       "      <th>long</th>\n",
       "      <th>sqft_living15</th>\n",
       "      <th>sqft_lot15</th>\n",
       "      <th>Renovated</th>\n",
       "    </tr>\n",
       "  </thead>\n",
       "  <tbody>\n",
       "    <tr>\n",
       "      <td>10066</td>\n",
       "      <td>1972202010</td>\n",
       "      <td>2014</td>\n",
       "      <td>435000.0</td>\n",
       "      <td>3</td>\n",
       "      <td>3.00</td>\n",
       "      <td>1440</td>\n",
       "      <td>1350</td>\n",
       "      <td>3.5</td>\n",
       "      <td>0</td>\n",
       "      <td>2</td>\n",
       "      <td>3</td>\n",
       "      <td>8</td>\n",
       "      <td>1440</td>\n",
       "      <td>0.0</td>\n",
       "      <td>2005</td>\n",
       "      <td>98103</td>\n",
       "      <td>47.6525</td>\n",
       "      <td>-122.345</td>\n",
       "      <td>1440</td>\n",
       "      <td>1350</td>\n",
       "      <td>0</td>\n",
       "    </tr>\n",
       "    <tr>\n",
       "      <td>11582</td>\n",
       "      <td>3180100023</td>\n",
       "      <td>2015</td>\n",
       "      <td>544000.0</td>\n",
       "      <td>3</td>\n",
       "      <td>2.50</td>\n",
       "      <td>1760</td>\n",
       "      <td>1755</td>\n",
       "      <td>3.5</td>\n",
       "      <td>0</td>\n",
       "      <td>0</td>\n",
       "      <td>3</td>\n",
       "      <td>8</td>\n",
       "      <td>1760</td>\n",
       "      <td>0.0</td>\n",
       "      <td>1998</td>\n",
       "      <td>98105</td>\n",
       "      <td>47.6688</td>\n",
       "      <td>-122.279</td>\n",
       "      <td>1700</td>\n",
       "      <td>1721</td>\n",
       "      <td>0</td>\n",
       "    </tr>\n",
       "    <tr>\n",
       "      <td>14871</td>\n",
       "      <td>8673400177</td>\n",
       "      <td>2015</td>\n",
       "      <td>525000.0</td>\n",
       "      <td>3</td>\n",
       "      <td>3.00</td>\n",
       "      <td>1730</td>\n",
       "      <td>1074</td>\n",
       "      <td>3.5</td>\n",
       "      <td>0</td>\n",
       "      <td>0</td>\n",
       "      <td>3</td>\n",
       "      <td>8</td>\n",
       "      <td>1730</td>\n",
       "      <td>0.0</td>\n",
       "      <td>2006</td>\n",
       "      <td>98107</td>\n",
       "      <td>47.6692</td>\n",
       "      <td>-122.392</td>\n",
       "      <td>1370</td>\n",
       "      <td>1185</td>\n",
       "      <td>0</td>\n",
       "    </tr>\n",
       "    <tr>\n",
       "      <td>15410</td>\n",
       "      <td>1702900664</td>\n",
       "      <td>2015</td>\n",
       "      <td>479000.0</td>\n",
       "      <td>2</td>\n",
       "      <td>2.50</td>\n",
       "      <td>1730</td>\n",
       "      <td>1037</td>\n",
       "      <td>3.5</td>\n",
       "      <td>0</td>\n",
       "      <td>0</td>\n",
       "      <td>3</td>\n",
       "      <td>8</td>\n",
       "      <td>1730</td>\n",
       "      <td>0.0</td>\n",
       "      <td>2008</td>\n",
       "      <td>98118</td>\n",
       "      <td>47.5594</td>\n",
       "      <td>-122.285</td>\n",
       "      <td>1280</td>\n",
       "      <td>1026</td>\n",
       "      <td>0</td>\n",
       "    </tr>\n",
       "    <tr>\n",
       "      <td>20292</td>\n",
       "      <td>1972200426</td>\n",
       "      <td>2014</td>\n",
       "      <td>525000.0</td>\n",
       "      <td>2</td>\n",
       "      <td>2.75</td>\n",
       "      <td>1310</td>\n",
       "      <td>1268</td>\n",
       "      <td>3.5</td>\n",
       "      <td>0</td>\n",
       "      <td>0</td>\n",
       "      <td>3</td>\n",
       "      <td>8</td>\n",
       "      <td>1310</td>\n",
       "      <td>0.0</td>\n",
       "      <td>2007</td>\n",
       "      <td>98103</td>\n",
       "      <td>47.6534</td>\n",
       "      <td>-122.355</td>\n",
       "      <td>1350</td>\n",
       "      <td>1288</td>\n",
       "      <td>0</td>\n",
       "    </tr>\n",
       "    <tr>\n",
       "      <td>20756</td>\n",
       "      <td>1972200428</td>\n",
       "      <td>2014</td>\n",
       "      <td>563500.0</td>\n",
       "      <td>3</td>\n",
       "      <td>2.50</td>\n",
       "      <td>1400</td>\n",
       "      <td>1312</td>\n",
       "      <td>3.5</td>\n",
       "      <td>0</td>\n",
       "      <td>0</td>\n",
       "      <td>3</td>\n",
       "      <td>8</td>\n",
       "      <td>1400</td>\n",
       "      <td>0.0</td>\n",
       "      <td>2007</td>\n",
       "      <td>98103</td>\n",
       "      <td>47.6534</td>\n",
       "      <td>-122.355</td>\n",
       "      <td>1350</td>\n",
       "      <td>1312</td>\n",
       "      <td>0</td>\n",
       "    </tr>\n",
       "  </tbody>\n",
       "</table>\n",
       "</div>"
      ],
      "text/plain": [
       "               id  date     price bedrooms  bathrooms  sqft_living  sqft_lot  \\\n",
       "10066  1972202010  2014  435000.0        3       3.00         1440      1350   \n",
       "11582  3180100023  2015  544000.0        3       2.50         1760      1755   \n",
       "14871  8673400177  2015  525000.0        3       3.00         1730      1074   \n",
       "15410  1702900664  2015  479000.0        2       2.50         1730      1037   \n",
       "20292  1972200426  2014  525000.0        2       2.75         1310      1268   \n",
       "20756  1972200428  2014  563500.0        3       2.50         1400      1312   \n",
       "\n",
       "       floors waterfront view condition grade  sqft_above  sqft_basement  \\\n",
       "10066     3.5          0    2         3     8        1440            0.0   \n",
       "11582     3.5          0    0         3     8        1760            0.0   \n",
       "14871     3.5          0    0         3     8        1730            0.0   \n",
       "15410     3.5          0    0         3     8        1730            0.0   \n",
       "20292     3.5          0    0         3     8        1310            0.0   \n",
       "20756     3.5          0    0         3     8        1400            0.0   \n",
       "\n",
       "       yr_built  zipcode      lat     long  sqft_living15  sqft_lot15  \\\n",
       "10066      2005    98103  47.6525 -122.345           1440        1350   \n",
       "11582      1998    98105  47.6688 -122.279           1700        1721   \n",
       "14871      2006    98107  47.6692 -122.392           1370        1185   \n",
       "15410      2008    98118  47.5594 -122.285           1280        1026   \n",
       "20292      2007    98103  47.6534 -122.355           1350        1288   \n",
       "20756      2007    98103  47.6534 -122.355           1350        1312   \n",
       "\n",
       "      Renovated  \n",
       "10066         0  \n",
       "11582         0  \n",
       "14871         0  \n",
       "15410         0  \n",
       "20292         0  \n",
       "20756         0  "
      ]
     },
     "execution_count": 54,
     "metadata": {},
     "output_type": "execute_result"
    }
   ],
   "source": [
    "# view homes with 3.5 floors\n",
    "data_f[data_f.floors == 3.5]"
   ]
  },
  {
   "cell_type": "markdown",
   "metadata": {},
   "source": [
    "They seem valid enough.\n",
    "\n",
    "#### Converting `floors` to an ordered category."
   ]
  },
  {
   "cell_type": "code",
   "execution_count": 55,
   "metadata": {},
   "outputs": [
    {
     "data": {
      "text/plain": [
       "CategoricalDtype(categories=[1.0, 1.5, 2.0, 2.5, 3.0, 3.5], ordered=True)"
      ]
     },
     "execution_count": 55,
     "metadata": {},
     "output_type": "execute_result"
    }
   ],
   "source": [
    "# create an ordered 'floors' dtype\n",
    "floors_dtype = pd.api.types.CategoricalDtype(\n",
    "    categories=[1,  1.5,  2,  2.5,  3,  3.5], ordered=True)\n",
    "\n",
    "# convert `condition` to an ordered category\n",
    "data_f.floors = data_f.floors.astype(floors_dtype)\n",
    "data_f.floors.dtype"
   ]
  },
  {
   "cell_type": "markdown",
   "metadata": {},
   "source": [
    "`bathrooms`"
   ]
  },
  {
   "cell_type": "code",
   "execution_count": 56,
   "metadata": {},
   "outputs": [
    {
     "data": {
      "text/plain": [
       "dtype('float64')"
      ]
     },
     "metadata": {},
     "output_type": "display_data"
    },
    {
     "data": {
      "text/plain": [
       "array([1.  , 2.25, 3.  , 2.  , 1.5 , 2.5 , 1.75, 2.75, 3.25, 4.  , 3.5 ,\n",
       "       0.75, 3.75, 1.25, 0.5 ])"
      ]
     },
     "execution_count": 56,
     "metadata": {},
     "output_type": "execute_result"
    }
   ],
   "source": [
    "display(data_f.bathrooms.dtype)\n",
    "data_f.bathrooms.unique()"
   ]
  },
  {
   "cell_type": "markdown",
   "metadata": {},
   "source": [
    "> Instead of converting this column to a category data type, we will want to work on all of those partial baths."
   ]
  },
  {
   "cell_type": "markdown",
   "metadata": {},
   "source": [
    "## Dealing with Categorical Data Feature Engineering\n",
    "\n",
    "Creating binary columns for categorical data: `Renovated` and `waterfront` are already binary, so we do not want to create new columns for them."
   ]
  },
  {
   "cell_type": "markdown",
   "metadata": {},
   "source": [
    "### Binning `bathrooms`\n",
    "\n",
    "To manage the half- and quarter- baths, we can bin this category in the style '.5' for less than 1, '1' for homes with at least one and fewer than two bathroom(s), etc."
   ]
  },
  {
   "cell_type": "code",
   "execution_count": 57,
   "metadata": {},
   "outputs": [
    {
     "data": {
      "text/plain": [
       "array([0.5 , 0.75, 1.  , 1.25, 1.5 , 1.75, 2.  , 2.25, 2.5 , 2.75, 3.  ,\n",
       "       3.25, 3.5 , 3.75, 4.  ])"
      ]
     },
     "execution_count": 57,
     "metadata": {},
     "output_type": "execute_result"
    }
   ],
   "source": [
    "# what unique values do we currently have?\n",
    "data_f.sort_values(by='bathrooms').bathrooms.unique()"
   ]
  },
  {
   "cell_type": "markdown",
   "metadata": {},
   "source": [
    "Currently, we have 15 unique values. Binning should reduce this to 4."
   ]
  },
  {
   "cell_type": "code",
   "execution_count": 58,
   "metadata": {},
   "outputs": [],
   "source": [
    "# adding a new bathroom bins column next to the `bathrooms` group\n",
    "# bins are exclusive of 0 and inclusive of 4\n",
    "bath_cats = pd.cut(data_f.bathrooms, \n",
    "                   bins=[0, .9, 1.9, 2.9, 3.9, 4], \n",
    "                   labels=['.5','1',\n",
    "                           '2','3', '4'])\n",
    "#insert next to `bathrooms` column\n",
    "data_f.insert(5,'Full_baths', bath_cats)"
   ]
  },
  {
   "cell_type": "code",
   "execution_count": 59,
   "metadata": {},
   "outputs": [
    {
     "data": {
      "text/html": [
       "<div>\n",
       "<style scoped>\n",
       "    .dataframe tbody tr th:only-of-type {\n",
       "        vertical-align: middle;\n",
       "    }\n",
       "\n",
       "    .dataframe tbody tr th {\n",
       "        vertical-align: top;\n",
       "    }\n",
       "\n",
       "    .dataframe thead th {\n",
       "        text-align: right;\n",
       "    }\n",
       "</style>\n",
       "<table border=\"1\" class=\"dataframe\">\n",
       "  <thead>\n",
       "    <tr style=\"text-align: right;\">\n",
       "      <th></th>\n",
       "      <th>bathrooms</th>\n",
       "      <th>Full_baths</th>\n",
       "    </tr>\n",
       "  </thead>\n",
       "  <tbody>\n",
       "    <tr>\n",
       "      <td>71</td>\n",
       "      <td>2.00</td>\n",
       "      <td>2</td>\n",
       "    </tr>\n",
       "    <tr>\n",
       "      <td>72</td>\n",
       "      <td>2.00</td>\n",
       "      <td>2</td>\n",
       "    </tr>\n",
       "    <tr>\n",
       "      <td>73</td>\n",
       "      <td>2.50</td>\n",
       "      <td>2</td>\n",
       "    </tr>\n",
       "    <tr>\n",
       "      <td>74</td>\n",
       "      <td>1.75</td>\n",
       "      <td>1</td>\n",
       "    </tr>\n",
       "    <tr>\n",
       "      <td>75</td>\n",
       "      <td>4.00</td>\n",
       "      <td>4</td>\n",
       "    </tr>\n",
       "    <tr>\n",
       "      <td>76</td>\n",
       "      <td>1.75</td>\n",
       "      <td>1</td>\n",
       "    </tr>\n",
       "    <tr>\n",
       "      <td>77</td>\n",
       "      <td>1.00</td>\n",
       "      <td>1</td>\n",
       "    </tr>\n",
       "  </tbody>\n",
       "</table>\n",
       "</div>"
      ],
      "text/plain": [
       "    bathrooms Full_baths\n",
       "71       2.00          2\n",
       "72       2.00          2\n",
       "73       2.50          2\n",
       "74       1.75          1\n",
       "75       4.00          4\n",
       "76       1.75          1\n",
       "77       1.00          1"
      ]
     },
     "metadata": {},
     "output_type": "display_data"
    },
    {
     "data": {
      "text/plain": [
       "CategoricalDtype(categories=['.5', '1', '2', '3', '4'], ordered=True)"
      ]
     },
     "execution_count": 59,
     "metadata": {},
     "output_type": "execute_result"
    }
   ],
   "source": [
    "# view some rows with various bathroom counts\n",
    "pd.set_option('display.max_rows', 20)\n",
    "display(data_f.iloc[70:77, 4:6])\n",
    "\n",
    "# display bin column data type\n",
    "data_f.Full_baths.dtype"
   ]
  },
  {
   "cell_type": "markdown",
   "metadata": {
    "scrolled": true
   },
   "source": [
    "We see the bin labels have become categories for the new column."
   ]
  },
  {
   "cell_type": "code",
   "execution_count": 60,
   "metadata": {},
   "outputs": [
    {
     "data": {
      "text/html": [
       "<div>\n",
       "<style scoped>\n",
       "    .dataframe tbody tr th:only-of-type {\n",
       "        vertical-align: middle;\n",
       "    }\n",
       "\n",
       "    .dataframe tbody tr th {\n",
       "        vertical-align: top;\n",
       "    }\n",
       "\n",
       "    .dataframe thead th {\n",
       "        text-align: right;\n",
       "    }\n",
       "</style>\n",
       "<table border=\"1\" class=\"dataframe\">\n",
       "  <thead>\n",
       "    <tr style=\"text-align: right;\">\n",
       "      <th></th>\n",
       "      <th>id</th>\n",
       "      <th>date</th>\n",
       "      <th>price</th>\n",
       "      <th>bedrooms</th>\n",
       "      <th>bathrooms</th>\n",
       "      <th>Full_baths</th>\n",
       "      <th>sqft_living</th>\n",
       "      <th>sqft_lot</th>\n",
       "      <th>floors</th>\n",
       "      <th>waterfront</th>\n",
       "      <th>view</th>\n",
       "      <th>condition</th>\n",
       "      <th>grade</th>\n",
       "      <th>sqft_above</th>\n",
       "      <th>sqft_basement</th>\n",
       "      <th>yr_built</th>\n",
       "      <th>zipcode</th>\n",
       "      <th>lat</th>\n",
       "      <th>long</th>\n",
       "      <th>sqft_living15</th>\n",
       "      <th>sqft_lot15</th>\n",
       "      <th>Renovated</th>\n",
       "    </tr>\n",
       "  </thead>\n",
       "  <tbody>\n",
       "    <tr>\n",
       "      <td>208</td>\n",
       "      <td>1222000055</td>\n",
       "      <td>2014</td>\n",
       "      <td>180250.0</td>\n",
       "      <td>2</td>\n",
       "      <td>0.75</td>\n",
       "      <td>.5</td>\n",
       "      <td>900</td>\n",
       "      <td>9600</td>\n",
       "      <td>1.0</td>\n",
       "      <td>0</td>\n",
       "      <td>0</td>\n",
       "      <td>3</td>\n",
       "      <td>6</td>\n",
       "      <td>900</td>\n",
       "      <td>0.0</td>\n",
       "      <td>1941</td>\n",
       "      <td>98166</td>\n",
       "      <td>47.4604</td>\n",
       "      <td>-122.339</td>\n",
       "      <td>1250</td>\n",
       "      <td>14280</td>\n",
       "      <td>0</td>\n",
       "    </tr>\n",
       "    <tr>\n",
       "      <td>264</td>\n",
       "      <td>2123039032</td>\n",
       "      <td>2014</td>\n",
       "      <td>369900.0</td>\n",
       "      <td>1</td>\n",
       "      <td>0.75</td>\n",
       "      <td>.5</td>\n",
       "      <td>760</td>\n",
       "      <td>10079</td>\n",
       "      <td>1.0</td>\n",
       "      <td>1</td>\n",
       "      <td>4</td>\n",
       "      <td>5</td>\n",
       "      <td>5</td>\n",
       "      <td>760</td>\n",
       "      <td>0.0</td>\n",
       "      <td>1936</td>\n",
       "      <td>98070</td>\n",
       "      <td>47.4683</td>\n",
       "      <td>-122.438</td>\n",
       "      <td>1230</td>\n",
       "      <td>14267</td>\n",
       "      <td>0</td>\n",
       "    </tr>\n",
       "    <tr>\n",
       "      <td>350</td>\n",
       "      <td>7325600160</td>\n",
       "      <td>2014</td>\n",
       "      <td>299000.0</td>\n",
       "      <td>1</td>\n",
       "      <td>0.75</td>\n",
       "      <td>.5</td>\n",
       "      <td>560</td>\n",
       "      <td>12120</td>\n",
       "      <td>1.0</td>\n",
       "      <td>0</td>\n",
       "      <td>0</td>\n",
       "      <td>3</td>\n",
       "      <td>4</td>\n",
       "      <td>560</td>\n",
       "      <td>0.0</td>\n",
       "      <td>1967</td>\n",
       "      <td>98014</td>\n",
       "      <td>47.6750</td>\n",
       "      <td>-121.854</td>\n",
       "      <td>1300</td>\n",
       "      <td>19207</td>\n",
       "      <td>0</td>\n",
       "    </tr>\n",
       "    <tr>\n",
       "      <td>465</td>\n",
       "      <td>8658300340</td>\n",
       "      <td>2014</td>\n",
       "      <td>80000.0</td>\n",
       "      <td>1</td>\n",
       "      <td>0.75</td>\n",
       "      <td>.5</td>\n",
       "      <td>430</td>\n",
       "      <td>5050</td>\n",
       "      <td>1.0</td>\n",
       "      <td>0</td>\n",
       "      <td>0</td>\n",
       "      <td>2</td>\n",
       "      <td>4</td>\n",
       "      <td>430</td>\n",
       "      <td>0.0</td>\n",
       "      <td>1912</td>\n",
       "      <td>98014</td>\n",
       "      <td>47.6499</td>\n",
       "      <td>-121.909</td>\n",
       "      <td>1200</td>\n",
       "      <td>7500</td>\n",
       "      <td>0</td>\n",
       "    </tr>\n",
       "    <tr>\n",
       "      <td>569</td>\n",
       "      <td>4045500710</td>\n",
       "      <td>2014</td>\n",
       "      <td>405000.0</td>\n",
       "      <td>2</td>\n",
       "      <td>0.75</td>\n",
       "      <td>.5</td>\n",
       "      <td>1160</td>\n",
       "      <td>15029</td>\n",
       "      <td>1.0</td>\n",
       "      <td>0</td>\n",
       "      <td>0</td>\n",
       "      <td>4</td>\n",
       "      <td>6</td>\n",
       "      <td>870</td>\n",
       "      <td>290.0</td>\n",
       "      <td>1937</td>\n",
       "      <td>98014</td>\n",
       "      <td>47.6929</td>\n",
       "      <td>-121.870</td>\n",
       "      <td>1870</td>\n",
       "      <td>25346</td>\n",
       "      <td>0</td>\n",
       "    </tr>\n",
       "  </tbody>\n",
       "</table>\n",
       "</div>"
      ],
      "text/plain": [
       "             id  date     price bedrooms  bathrooms Full_baths  sqft_living  \\\n",
       "208  1222000055  2014  180250.0        2       0.75         .5          900   \n",
       "264  2123039032  2014  369900.0        1       0.75         .5          760   \n",
       "350  7325600160  2014  299000.0        1       0.75         .5          560   \n",
       "465  8658300340  2014   80000.0        1       0.75         .5          430   \n",
       "569  4045500710  2014  405000.0        2       0.75         .5         1160   \n",
       "\n",
       "     sqft_lot floors waterfront view condition grade  sqft_above  \\\n",
       "208      9600    1.0          0    0         3     6         900   \n",
       "264     10079    1.0          1    4         5     5         760   \n",
       "350     12120    1.0          0    0         3     4         560   \n",
       "465      5050    1.0          0    0         2     4         430   \n",
       "569     15029    1.0          0    0         4     6         870   \n",
       "\n",
       "     sqft_basement  yr_built  zipcode      lat     long  sqft_living15  \\\n",
       "208            0.0      1941    98166  47.4604 -122.339           1250   \n",
       "264            0.0      1936    98070  47.4683 -122.438           1230   \n",
       "350            0.0      1967    98014  47.6750 -121.854           1300   \n",
       "465            0.0      1912    98014  47.6499 -121.909           1200   \n",
       "569          290.0      1937    98014  47.6929 -121.870           1870   \n",
       "\n",
       "     sqft_lot15 Renovated  \n",
       "208       14280         0  \n",
       "264       14267         0  \n",
       "350       19207         0  \n",
       "465        7500         0  \n",
       "569       25346         0  "
      ]
     },
     "execution_count": 60,
     "metadata": {},
     "output_type": "execute_result"
    }
   ],
   "source": [
    "# view rows with partial bathrooms\n",
    "data_f.loc[data_f['bathrooms'] < 1].head()"
   ]
  },
  {
   "cell_type": "markdown",
   "metadata": {},
   "source": [
    "We can now drop the `baths` column."
   ]
  },
  {
   "cell_type": "code",
   "execution_count": 61,
   "metadata": {
    "scrolled": false
   },
   "outputs": [],
   "source": [
    "# drop `bathrooms`\n",
    "data_f.drop('bathrooms', axis=1, inplace=True)"
   ]
  },
  {
   "cell_type": "markdown",
   "metadata": {},
   "source": [
    "That is all we will do for categorical outliers, at this point. We will address numerical, continuous data outliers in the exploratory notebook. In the meantime, we still have some scrubbing and feature engineering to do."
   ]
  },
  {
   "cell_type": "markdown",
   "metadata": {},
   "source": [
    "### Getting Dummies"
   ]
  },
  {
   "cell_type": "code",
   "execution_count": 62,
   "metadata": {},
   "outputs": [
    {
     "name": "stdout",
     "output_type": "stream",
     "text": [
      "['date', 'bedrooms', 'Full_baths', 'floors', 'waterfront', 'view', 'condition', 'grade', 'Renovated']\n"
     ]
    }
   ],
   "source": [
    "# create a list of categorical column names\n",
    "cat_list = [col for col in data_f.select_dtypes(include=['category']).columns]\n",
    "\n",
    "print(cat_list)"
   ]
  },
  {
   "cell_type": "markdown",
   "metadata": {},
   "source": [
    "Now we can create binary columns for our categorical variables (those that already are not)."
   ]
  },
  {
   "cell_type": "code",
   "execution_count": 63,
   "metadata": {},
   "outputs": [
    {
     "name": "stdout",
     "output_type": "stream",
     "text": [
      "['bedrooms', 'Full_baths', 'floors', 'view', 'condition', 'grade']\n"
     ]
    }
   ],
   "source": [
    "print([col for col in data_f.columns if (\n",
    "        2 < len(data_f[col].unique()) < 15)])"
   ]
  },
  {
   "cell_type": "code",
   "execution_count": 64,
   "metadata": {},
   "outputs": [],
   "source": [
    "'''test creating a list of categorical columns \n",
    "with more than 2 unique values--verifying only categorical columns \n",
    "satisfy the condition and only those that are not already binary\n",
    "'''\n",
    "cat_list = []\n",
    "\n",
    "# run in a function, for use after changing the dataframe's name\n",
    "def build_cat(dframe): \n",
    "    cat_pen = [col for col in dframe.columns if (\n",
    "        2 < len(dframe[col].unique()) < 15)]\n",
    "    cat_list.extend(cat_pen)\n",
    "    return print(\"cat_list updated\")"
   ]
  },
  {
   "cell_type": "code",
   "execution_count": 65,
   "metadata": {},
   "outputs": [
    {
     "name": "stdout",
     "output_type": "stream",
     "text": [
      "cat_list updated\n",
      "\n",
      "Categorical variables:  ['bedrooms', 'Full_baths', 'floors', 'view', 'condition', 'grade']\n",
      "------------------------------------------------------------------------\n",
      "\n",
      "Remaining variables:  ['id', 'date', 'price', 'sqft_living', 'sqft_lot', 'waterfront', 'sqft_above', 'sqft_basement', 'yr_built', 'zipcode', 'lat', 'long', 'sqft_living15', 'sqft_lot15', 'Renovated']\n"
     ]
    }
   ],
   "source": [
    "# checking work: run the function\n",
    "build_cat(data_f)\n",
    "\n",
    "print(\"\\nCategorical variables: \", cat_list)\n",
    "print(\"-\"*72)\n",
    "no_cat = [col for col in data_f.columns if col not in cat_list]\n",
    "print(\"\\nRemaining variables: \", no_cat)"
   ]
  },
  {
   "cell_type": "markdown",
   "metadata": {},
   "source": [
    "That will work. Before we do our one - hot encoding, let's convert that zipcode."
   ]
  },
  {
   "cell_type": "markdown",
   "metadata": {},
   "source": [
    "`zip code`"
   ]
  },
  {
   "cell_type": "code",
   "execution_count": 66,
   "metadata": {},
   "outputs": [
    {
     "data": {
      "text/plain": [
       "0    98178\n",
       "Name: zipcode, dtype: category\n",
       "Categories (70, object): [98001, 98002, 98003, 98004, ..., 98178, 98188, 98198, 98199]"
      ]
     },
     "metadata": {},
     "output_type": "display_data"
    },
    {
     "data": {
      "text/plain": [
       "CategoricalDtype(categories=['98001', '98002', '98003', '98004', '98005', '98006',\n",
       "                  '98007', '98008', '98010', '98011', '98014', '98019',\n",
       "                  '98022', '98023', '98024', '98027', '98028', '98029',\n",
       "                  '98030', '98031', '98032', '98033', '98034', '98038',\n",
       "                  '98039', '98040', '98042', '98045', '98052', '98053',\n",
       "                  '98055', '98056', '98058', '98059', '98065', '98070',\n",
       "                  '98072', '98074', '98075', '98077', '98092', '98102',\n",
       "                  '98103', '98105', '98106', '98107', '98108', '98109',\n",
       "                  '98112', '98115', '98116', '98117', '98118', '98119',\n",
       "                  '98122', '98125', '98126', '98133', '98136', '98144',\n",
       "                  '98146', '98148', '98155', '98166', '98168', '98177',\n",
       "                  '98178', '98188', '98198', '98199'],\n",
       "                 ordered=False)"
      ]
     },
     "execution_count": 66,
     "metadata": {},
     "output_type": "execute_result"
    }
   ],
   "source": [
    "# convert `zipcode` to string and then to a category\n",
    "data_f['zipcode'] = data_f['zipcode'].astype(str).astype('category')\n",
    "display(data_f['zipcode'].head(1))\n",
    "\n",
    "# viewing all column data types\n",
    "data_f.zipcode.dtype"
   ]
  },
  {
   "cell_type": "markdown",
   "metadata": {},
   "source": [
    "Since there are about to be a lot more columns in `data_f` as we expand categorical variables, let's preserve this state of the dataframe and create a copy."
   ]
  },
  {
   "cell_type": "markdown",
   "metadata": {},
   "source": [
    "## Pickle the current - state dataframe"
   ]
  },
  {
   "cell_type": "markdown",
   "metadata": {},
   "source": [
    "Store the `data_f` dataframe in a sub - directory of the repository as `data_f_no_hots`."
   ]
  },
  {
   "cell_type": "code",
   "execution_count": 67,
   "metadata": {},
   "outputs": [],
   "source": [
    "with open('data/data_f_no_hots.pickle', 'wb') as f:\n",
    "    # Pickling the 'data_f' dataframe using the highest protocol available.\n",
    "    pickle.dump(data_f, f, pickle.HIGHEST_PROTOCOL)"
   ]
  },
  {
   "cell_type": "markdown",
   "metadata": {},
   "source": [
    "Making a copy of the dataframe with a new name `data_b`."
   ]
  },
  {
   "cell_type": "code",
   "execution_count": 68,
   "metadata": {
    "scrolled": true
   },
   "outputs": [
    {
     "data": {
      "text/html": [
       "<div>\n",
       "<style scoped>\n",
       "    .dataframe tbody tr th:only-of-type {\n",
       "        vertical-align: middle;\n",
       "    }\n",
       "\n",
       "    .dataframe tbody tr th {\n",
       "        vertical-align: top;\n",
       "    }\n",
       "\n",
       "    .dataframe thead th {\n",
       "        text-align: right;\n",
       "    }\n",
       "</style>\n",
       "<table border=\"1\" class=\"dataframe\">\n",
       "  <thead>\n",
       "    <tr style=\"text-align: right;\">\n",
       "      <th></th>\n",
       "      <th>id</th>\n",
       "      <th>date</th>\n",
       "      <th>price</th>\n",
       "      <th>bedrooms</th>\n",
       "      <th>Full_baths</th>\n",
       "      <th>sqft_living</th>\n",
       "      <th>sqft_lot</th>\n",
       "      <th>floors</th>\n",
       "      <th>waterfront</th>\n",
       "      <th>view</th>\n",
       "      <th>condition</th>\n",
       "      <th>grade</th>\n",
       "      <th>sqft_above</th>\n",
       "      <th>sqft_basement</th>\n",
       "      <th>yr_built</th>\n",
       "      <th>zipcode</th>\n",
       "      <th>lat</th>\n",
       "      <th>long</th>\n",
       "      <th>sqft_living15</th>\n",
       "      <th>sqft_lot15</th>\n",
       "      <th>Renovated</th>\n",
       "    </tr>\n",
       "  </thead>\n",
       "  <tbody>\n",
       "    <tr>\n",
       "      <td>0</td>\n",
       "      <td>7129300520</td>\n",
       "      <td>2014</td>\n",
       "      <td>221900.0</td>\n",
       "      <td>3</td>\n",
       "      <td>1</td>\n",
       "      <td>1180</td>\n",
       "      <td>5650</td>\n",
       "      <td>1.0</td>\n",
       "      <td>0</td>\n",
       "      <td>0</td>\n",
       "      <td>3</td>\n",
       "      <td>7</td>\n",
       "      <td>1180</td>\n",
       "      <td>0.0</td>\n",
       "      <td>1955</td>\n",
       "      <td>98178</td>\n",
       "      <td>47.5112</td>\n",
       "      <td>-122.257</td>\n",
       "      <td>1340</td>\n",
       "      <td>5650</td>\n",
       "      <td>0</td>\n",
       "    </tr>\n",
       "  </tbody>\n",
       "</table>\n",
       "</div>"
      ],
      "text/plain": [
       "           id  date     price bedrooms Full_baths  sqft_living  sqft_lot  \\\n",
       "0  7129300520  2014  221900.0        3          1         1180      5650   \n",
       "\n",
       "  floors waterfront view condition grade  sqft_above  sqft_basement  yr_built  \\\n",
       "0    1.0          0    0         3     7        1180            0.0      1955   \n",
       "\n",
       "  zipcode      lat     long  sqft_living15  sqft_lot15 Renovated  \n",
       "0   98178  47.5112 -122.257           1340        5650         0  "
      ]
     },
     "execution_count": 68,
     "metadata": {},
     "output_type": "execute_result"
    }
   ],
   "source": [
    "# copy the dataframe\n",
    "data_b = data_f.copy()\n",
    "\n",
    "# view the first row of the dataframe copy\n",
    "data_b.head(1)"
   ]
  },
  {
   "cell_type": "markdown",
   "metadata": {},
   "source": [
    "### Buiding a list of categorical variables and one - hot encoding listed columns"
   ]
  },
  {
   "cell_type": "code",
   "execution_count": 69,
   "metadata": {},
   "outputs": [
    {
     "name": "stdout",
     "output_type": "stream",
     "text": [
      "(21061, 21)\n",
      "cat_list updated\n",
      "['bedrooms', 'Full_baths', 'floors', 'view', 'condition', 'grade']\n"
     ]
    }
   ],
   "source": [
    "# viewing dataframe shape before processing\n",
    "print(data_b.shape)\n",
    "\n",
    "# resetting our `cat_list`\n",
    "cat_list = []\n",
    "\n",
    "# runnning our function on the new dataframe\n",
    "build_cat(data_b)\n",
    "\n",
    "# vefify cat_list\n",
    "print(cat_list)"
   ]
  },
  {
   "cell_type": "code",
   "execution_count": 70,
   "metadata": {},
   "outputs": [
    {
     "data": {
      "text/plain": [
       "[0, 3, 4, 2, 1]\n",
       "Categories (5, int64): [0, 3, 4, 2, 1]"
      ]
     },
     "execution_count": 70,
     "metadata": {},
     "output_type": "execute_result"
    }
   ],
   "source": [
    "# check the `view` dtypes\n",
    "data_b['view'].unique()"
   ]
  },
  {
   "cell_type": "code",
   "execution_count": 71,
   "metadata": {},
   "outputs": [
    {
     "data": {
      "text/plain": [
       "CategoricalDtype(categories=[0, 1, 2, 3, 4], ordered=False)"
      ]
     },
     "execution_count": 71,
     "metadata": {},
     "output_type": "execute_result"
    }
   ],
   "source": [
    "# reorder the `view` dtypes, ascending\n",
    "data_b['view'].cat.reorder_categories(\n",
    "    [0, 1, 2, 3, 4]\n",
    ")\n",
    "\n",
    "data_b['view'].dtype"
   ]
  },
  {
   "cell_type": "markdown",
   "metadata": {},
   "source": [
    "## One - hot Encoding"
   ]
  },
  {
   "cell_type": "markdown",
   "metadata": {},
   "source": [
    "The loop in the next cell will:\n",
    "* create dummies (boolean columns) for column names in our `cat_list`\n",
    "* concatenate each new column to the dataframe, and\n",
    "* drop the original columns.\n",
    "\n",
    "#### Here goes something..."
   ]
  },
  {
   "cell_type": "code",
   "execution_count": 72,
   "metadata": {},
   "outputs": [],
   "source": [
    "# generate dummies for listed columns\n",
    "for col in data_b.columns:\n",
    "    if col in cat_list:\n",
    "        data_b = pd.concat([data_b, pd.get_dummies(data_b[col], prefix=col,\n",
    "                                          # not treating nulls as a separate category\n",
    "                                          # since we no longer have any\n",
    "                                          dummy_na=False\n",
    "                                          # drop the original column\n",
    "                                          )], axis=1).drop([col], axis=1)"
   ]
  },
  {
   "cell_type": "code",
   "execution_count": 73,
   "metadata": {},
   "outputs": [
    {
     "name": "stdout",
     "output_type": "stream",
     "text": [
      "<class 'pandas.core.frame.DataFrame'>\n",
      "Int64Index: 21061 entries, 0 to 21596\n",
      "Data columns (total 52 columns):\n",
      "id               21061 non-null int64\n",
      "date             21061 non-null category\n",
      "price            21061 non-null float64\n",
      "sqft_living      21061 non-null int64\n",
      "sqft_lot         21061 non-null int64\n",
      "waterfront       21061 non-null category\n",
      "sqft_above       21061 non-null int64\n",
      "sqft_basement    21061 non-null float64\n",
      "yr_built         21061 non-null int64\n",
      "zipcode          21061 non-null category\n",
      "lat              21061 non-null float64\n",
      "long             21061 non-null float64\n",
      "sqft_living15    21061 non-null int64\n",
      "sqft_lot15       21061 non-null int64\n",
      "Renovated        21061 non-null category\n",
      "bedrooms_1       21061 non-null uint8\n",
      "bedrooms_2       21061 non-null uint8\n",
      "bedrooms_3       21061 non-null uint8\n",
      "bedrooms_4       21061 non-null uint8\n",
      "bedrooms_5       21061 non-null uint8\n",
      "Full_baths_.5    21061 non-null uint8\n",
      "Full_baths_1     21061 non-null uint8\n",
      "Full_baths_2     21061 non-null uint8\n",
      "Full_baths_3     21061 non-null uint8\n",
      "Full_baths_4     21061 non-null uint8\n",
      "floors_1.0       21061 non-null uint8\n",
      "floors_1.5       21061 non-null uint8\n",
      "floors_2.0       21061 non-null uint8\n",
      "floors_2.5       21061 non-null uint8\n",
      "floors_3.0       21061 non-null uint8\n",
      "floors_3.5       21061 non-null uint8\n",
      "view_0           21061 non-null uint8\n",
      "view_1           21061 non-null uint8\n",
      "view_2           21061 non-null uint8\n",
      "view_3           21061 non-null uint8\n",
      "view_4           21061 non-null uint8\n",
      "condition_1      21061 non-null uint8\n",
      "condition_2      21061 non-null uint8\n",
      "condition_3      21061 non-null uint8\n",
      "condition_4      21061 non-null uint8\n",
      "condition_5      21061 non-null uint8\n",
      "grade_3          21061 non-null uint8\n",
      "grade_4          21061 non-null uint8\n",
      "grade_5          21061 non-null uint8\n",
      "grade_6          21061 non-null uint8\n",
      "grade_7          21061 non-null uint8\n",
      "grade_8          21061 non-null uint8\n",
      "grade_9          21061 non-null uint8\n",
      "grade_10         21061 non-null uint8\n",
      "grade_11         21061 non-null uint8\n",
      "grade_12         21061 non-null uint8\n",
      "grade_13         21061 non-null uint8\n",
      "dtypes: category(4), float64(4), int64(7), uint8(37)\n",
      "memory usage: 2.8 MB\n"
     ]
    },
    {
     "data": {
      "text/plain": [
       "None"
      ]
     },
     "metadata": {},
     "output_type": "display_data"
    },
    {
     "data": {
      "text/html": [
       "<div>\n",
       "<style scoped>\n",
       "    .dataframe tbody tr th:only-of-type {\n",
       "        vertical-align: middle;\n",
       "    }\n",
       "\n",
       "    .dataframe tbody tr th {\n",
       "        vertical-align: top;\n",
       "    }\n",
       "\n",
       "    .dataframe thead th {\n",
       "        text-align: right;\n",
       "    }\n",
       "</style>\n",
       "<table border=\"1\" class=\"dataframe\">\n",
       "  <thead>\n",
       "    <tr style=\"text-align: right;\">\n",
       "      <th></th>\n",
       "      <th>id</th>\n",
       "      <th>date</th>\n",
       "      <th>price</th>\n",
       "      <th>sqft_living</th>\n",
       "      <th>sqft_lot</th>\n",
       "      <th>waterfront</th>\n",
       "      <th>sqft_above</th>\n",
       "      <th>sqft_basement</th>\n",
       "      <th>yr_built</th>\n",
       "      <th>zipcode</th>\n",
       "      <th>lat</th>\n",
       "      <th>long</th>\n",
       "      <th>sqft_living15</th>\n",
       "      <th>sqft_lot15</th>\n",
       "      <th>Renovated</th>\n",
       "      <th>bedrooms_1</th>\n",
       "      <th>bedrooms_2</th>\n",
       "      <th>bedrooms_3</th>\n",
       "      <th>bedrooms_4</th>\n",
       "      <th>bedrooms_5</th>\n",
       "      <th>Full_baths_.5</th>\n",
       "      <th>Full_baths_1</th>\n",
       "      <th>Full_baths_2</th>\n",
       "      <th>Full_baths_3</th>\n",
       "      <th>Full_baths_4</th>\n",
       "      <th>floors_1.0</th>\n",
       "      <th>floors_1.5</th>\n",
       "      <th>floors_2.0</th>\n",
       "      <th>floors_2.5</th>\n",
       "      <th>floors_3.0</th>\n",
       "      <th>floors_3.5</th>\n",
       "      <th>view_0</th>\n",
       "      <th>view_1</th>\n",
       "      <th>view_2</th>\n",
       "      <th>view_3</th>\n",
       "      <th>view_4</th>\n",
       "      <th>condition_1</th>\n",
       "      <th>condition_2</th>\n",
       "      <th>condition_3</th>\n",
       "      <th>condition_4</th>\n",
       "      <th>condition_5</th>\n",
       "      <th>grade_3</th>\n",
       "      <th>grade_4</th>\n",
       "      <th>grade_5</th>\n",
       "      <th>grade_6</th>\n",
       "      <th>grade_7</th>\n",
       "      <th>grade_8</th>\n",
       "      <th>grade_9</th>\n",
       "      <th>grade_10</th>\n",
       "      <th>grade_11</th>\n",
       "      <th>grade_12</th>\n",
       "      <th>grade_13</th>\n",
       "    </tr>\n",
       "  </thead>\n",
       "  <tbody>\n",
       "    <tr>\n",
       "      <td>0</td>\n",
       "      <td>7129300520</td>\n",
       "      <td>2014</td>\n",
       "      <td>221900.0</td>\n",
       "      <td>1180</td>\n",
       "      <td>5650</td>\n",
       "      <td>0</td>\n",
       "      <td>1180</td>\n",
       "      <td>0.0</td>\n",
       "      <td>1955</td>\n",
       "      <td>98178</td>\n",
       "      <td>47.5112</td>\n",
       "      <td>-122.257</td>\n",
       "      <td>1340</td>\n",
       "      <td>5650</td>\n",
       "      <td>0</td>\n",
       "      <td>0</td>\n",
       "      <td>0</td>\n",
       "      <td>1</td>\n",
       "      <td>0</td>\n",
       "      <td>0</td>\n",
       "      <td>0</td>\n",
       "      <td>1</td>\n",
       "      <td>0</td>\n",
       "      <td>0</td>\n",
       "      <td>0</td>\n",
       "      <td>1</td>\n",
       "      <td>0</td>\n",
       "      <td>0</td>\n",
       "      <td>0</td>\n",
       "      <td>0</td>\n",
       "      <td>0</td>\n",
       "      <td>1</td>\n",
       "      <td>0</td>\n",
       "      <td>0</td>\n",
       "      <td>0</td>\n",
       "      <td>0</td>\n",
       "      <td>0</td>\n",
       "      <td>0</td>\n",
       "      <td>1</td>\n",
       "      <td>0</td>\n",
       "      <td>0</td>\n",
       "      <td>0</td>\n",
       "      <td>0</td>\n",
       "      <td>0</td>\n",
       "      <td>0</td>\n",
       "      <td>1</td>\n",
       "      <td>0</td>\n",
       "      <td>0</td>\n",
       "      <td>0</td>\n",
       "      <td>0</td>\n",
       "      <td>0</td>\n",
       "      <td>0</td>\n",
       "    </tr>\n",
       "  </tbody>\n",
       "</table>\n",
       "</div>"
      ],
      "text/plain": [
       "           id  date     price  sqft_living  sqft_lot waterfront  sqft_above  \\\n",
       "0  7129300520  2014  221900.0         1180      5650          0        1180   \n",
       "\n",
       "   sqft_basement  yr_built zipcode      lat     long  sqft_living15  \\\n",
       "0            0.0      1955   98178  47.5112 -122.257           1340   \n",
       "\n",
       "   sqft_lot15 Renovated  bedrooms_1  bedrooms_2  bedrooms_3  bedrooms_4  \\\n",
       "0        5650         0           0           0           1           0   \n",
       "\n",
       "   bedrooms_5  Full_baths_.5  Full_baths_1  Full_baths_2  Full_baths_3  \\\n",
       "0           0              0             1             0             0   \n",
       "\n",
       "   Full_baths_4  floors_1.0  floors_1.5  floors_2.0  floors_2.5  floors_3.0  \\\n",
       "0             0           1           0           0           0           0   \n",
       "\n",
       "   floors_3.5  view_0  view_1  view_2  view_3  view_4  condition_1  \\\n",
       "0           0       1       0       0       0       0            0   \n",
       "\n",
       "   condition_2  condition_3  condition_4  condition_5  grade_3  grade_4  \\\n",
       "0            0            1            0            0        0        0   \n",
       "\n",
       "   grade_5  grade_6  grade_7  grade_8  grade_9  grade_10  grade_11  grade_12  \\\n",
       "0        0        0        1        0        0         0         0         0   \n",
       "\n",
       "   grade_13  \n",
       "0         0  "
      ]
     },
     "execution_count": 73,
     "metadata": {},
     "output_type": "execute_result"
    }
   ],
   "source": [
    "# view info and the first row of the dataframe\n",
    "display(data_b.info())\n",
    "data_b.head(1)"
   ]
  },
  {
   "cell_type": "markdown",
   "metadata": {},
   "source": [
    "### One more nulls check for the road"
   ]
  },
  {
   "cell_type": "code",
   "execution_count": 74,
   "metadata": {
    "scrolled": true
   },
   "outputs": [
    {
     "data": {
      "text/plain": [
       "0"
      ]
     },
     "execution_count": 74,
     "metadata": {},
     "output_type": "execute_result"
    }
   ],
   "source": [
    "# How many values are null in the database\n",
    "data_b.isna().sum().sum()"
   ]
  },
  {
   "cell_type": "code",
   "execution_count": 75,
   "metadata": {},
   "outputs": [
    {
     "data": {
      "text/html": [
       "<div>\n",
       "<style scoped>\n",
       "    .dataframe tbody tr th:only-of-type {\n",
       "        vertical-align: middle;\n",
       "    }\n",
       "\n",
       "    .dataframe tbody tr th {\n",
       "        vertical-align: top;\n",
       "    }\n",
       "\n",
       "    .dataframe thead th {\n",
       "        text-align: right;\n",
       "    }\n",
       "</style>\n",
       "<table border=\"1\" class=\"dataframe\">\n",
       "  <thead>\n",
       "    <tr style=\"text-align: right;\">\n",
       "      <th></th>\n",
       "      <th>id</th>\n",
       "      <th>price</th>\n",
       "      <th>sqft_living</th>\n",
       "      <th>sqft_lot</th>\n",
       "      <th>sqft_above</th>\n",
       "      <th>sqft_basement</th>\n",
       "      <th>yr_built</th>\n",
       "      <th>lat</th>\n",
       "      <th>long</th>\n",
       "      <th>sqft_living15</th>\n",
       "      <th>sqft_lot15</th>\n",
       "      <th>bedrooms_1</th>\n",
       "      <th>bedrooms_2</th>\n",
       "      <th>bedrooms_3</th>\n",
       "      <th>bedrooms_4</th>\n",
       "      <th>bedrooms_5</th>\n",
       "      <th>Full_baths_.5</th>\n",
       "      <th>Full_baths_1</th>\n",
       "      <th>Full_baths_2</th>\n",
       "      <th>Full_baths_3</th>\n",
       "      <th>Full_baths_4</th>\n",
       "      <th>floors_1.0</th>\n",
       "      <th>floors_1.5</th>\n",
       "      <th>floors_2.0</th>\n",
       "      <th>floors_2.5</th>\n",
       "      <th>floors_3.0</th>\n",
       "      <th>floors_3.5</th>\n",
       "      <th>view_0</th>\n",
       "      <th>view_1</th>\n",
       "      <th>view_2</th>\n",
       "      <th>view_3</th>\n",
       "      <th>view_4</th>\n",
       "      <th>condition_1</th>\n",
       "      <th>condition_2</th>\n",
       "      <th>condition_3</th>\n",
       "      <th>condition_4</th>\n",
       "      <th>condition_5</th>\n",
       "      <th>grade_3</th>\n",
       "      <th>grade_4</th>\n",
       "      <th>grade_5</th>\n",
       "      <th>grade_6</th>\n",
       "      <th>grade_7</th>\n",
       "      <th>grade_8</th>\n",
       "      <th>grade_9</th>\n",
       "      <th>grade_10</th>\n",
       "      <th>grade_11</th>\n",
       "      <th>grade_12</th>\n",
       "      <th>grade_13</th>\n",
       "    </tr>\n",
       "  </thead>\n",
       "  <tbody>\n",
       "    <tr>\n",
       "      <td>count</td>\n",
       "      <td>2.106100e+04</td>\n",
       "      <td>2.106100e+04</td>\n",
       "      <td>21061.000000</td>\n",
       "      <td>2.106100e+04</td>\n",
       "      <td>21061.000000</td>\n",
       "      <td>21061.000000</td>\n",
       "      <td>21061.000000</td>\n",
       "      <td>21061.000000</td>\n",
       "      <td>21061.000000</td>\n",
       "      <td>21061.000000</td>\n",
       "      <td>21061.000000</td>\n",
       "      <td>21061.000000</td>\n",
       "      <td>21061.000000</td>\n",
       "      <td>21061.000000</td>\n",
       "      <td>21061.000000</td>\n",
       "      <td>21061.000000</td>\n",
       "      <td>21061.000000</td>\n",
       "      <td>21061.000000</td>\n",
       "      <td>21061.000000</td>\n",
       "      <td>21061.000000</td>\n",
       "      <td>21061.000000</td>\n",
       "      <td>21061.000000</td>\n",
       "      <td>21061.000000</td>\n",
       "      <td>21061.000000</td>\n",
       "      <td>21061.000000</td>\n",
       "      <td>21061.000000</td>\n",
       "      <td>21061.000000</td>\n",
       "      <td>21061.000000</td>\n",
       "      <td>21061.000000</td>\n",
       "      <td>21061.000000</td>\n",
       "      <td>21061.000000</td>\n",
       "      <td>21061.000000</td>\n",
       "      <td>21061.000000</td>\n",
       "      <td>21061.000000</td>\n",
       "      <td>21061.000000</td>\n",
       "      <td>21061.000000</td>\n",
       "      <td>21061.000000</td>\n",
       "      <td>21061.000000</td>\n",
       "      <td>21061.000000</td>\n",
       "      <td>21061.000000</td>\n",
       "      <td>21061.000000</td>\n",
       "      <td>21061.000000</td>\n",
       "      <td>21061.000000</td>\n",
       "      <td>21061.000000</td>\n",
       "      <td>21061.000000</td>\n",
       "      <td>21061.000000</td>\n",
       "      <td>21061.000000</td>\n",
       "      <td>21061.00000</td>\n",
       "    </tr>\n",
       "    <tr>\n",
       "      <td>mean</td>\n",
       "      <td>4.589620e+09</td>\n",
       "      <td>5.238745e+05</td>\n",
       "      <td>2032.050805</td>\n",
       "      <td>1.482777e+04</td>\n",
       "      <td>1753.754950</td>\n",
       "      <td>272.706187</td>\n",
       "      <td>1970.949433</td>\n",
       "      <td>47.559376</td>\n",
       "      <td>-122.213975</td>\n",
       "      <td>1969.185699</td>\n",
       "      <td>12582.410284</td>\n",
       "      <td>0.009306</td>\n",
       "      <td>0.131048</td>\n",
       "      <td>0.465932</td>\n",
       "      <td>0.322254</td>\n",
       "      <td>0.071459</td>\n",
       "      <td>0.003561</td>\n",
       "      <td>0.395090</td>\n",
       "      <td>0.495086</td>\n",
       "      <td>0.100707</td>\n",
       "      <td>0.005555</td>\n",
       "      <td>0.500309</td>\n",
       "      <td>0.088742</td>\n",
       "      <td>0.375861</td>\n",
       "      <td>0.006457</td>\n",
       "      <td>0.028346</td>\n",
       "      <td>0.000285</td>\n",
       "      <td>0.906795</td>\n",
       "      <td>0.015052</td>\n",
       "      <td>0.042875</td>\n",
       "      <td>0.022126</td>\n",
       "      <td>0.013152</td>\n",
       "      <td>0.001329</td>\n",
       "      <td>0.007929</td>\n",
       "      <td>0.648450</td>\n",
       "      <td>0.263425</td>\n",
       "      <td>0.078866</td>\n",
       "      <td>0.000047</td>\n",
       "      <td>0.001282</td>\n",
       "      <td>0.011348</td>\n",
       "      <td>0.096387</td>\n",
       "      <td>0.420018</td>\n",
       "      <td>0.282418</td>\n",
       "      <td>0.121362</td>\n",
       "      <td>0.049523</td>\n",
       "      <td>0.014719</td>\n",
       "      <td>0.002706</td>\n",
       "      <td>0.00019</td>\n",
       "    </tr>\n",
       "    <tr>\n",
       "      <td>std</td>\n",
       "      <td>2.878321e+09</td>\n",
       "      <td>3.206890e+05</td>\n",
       "      <td>841.691338</td>\n",
       "      <td>4.082190e+04</td>\n",
       "      <td>776.970685</td>\n",
       "      <td>420.729176</td>\n",
       "      <td>29.312685</td>\n",
       "      <td>0.139156</td>\n",
       "      <td>0.141131</td>\n",
       "      <td>665.956379</td>\n",
       "      <td>26400.891993</td>\n",
       "      <td>0.096022</td>\n",
       "      <td>0.337461</td>\n",
       "      <td>0.498850</td>\n",
       "      <td>0.467351</td>\n",
       "      <td>0.257596</td>\n",
       "      <td>0.059570</td>\n",
       "      <td>0.488882</td>\n",
       "      <td>0.499988</td>\n",
       "      <td>0.300948</td>\n",
       "      <td>0.074328</td>\n",
       "      <td>0.500012</td>\n",
       "      <td>0.284378</td>\n",
       "      <td>0.484356</td>\n",
       "      <td>0.080100</td>\n",
       "      <td>0.165964</td>\n",
       "      <td>0.016877</td>\n",
       "      <td>0.290727</td>\n",
       "      <td>0.121761</td>\n",
       "      <td>0.202581</td>\n",
       "      <td>0.147097</td>\n",
       "      <td>0.113929</td>\n",
       "      <td>0.036439</td>\n",
       "      <td>0.088695</td>\n",
       "      <td>0.477466</td>\n",
       "      <td>0.440502</td>\n",
       "      <td>0.269536</td>\n",
       "      <td>0.006891</td>\n",
       "      <td>0.035783</td>\n",
       "      <td>0.105923</td>\n",
       "      <td>0.295128</td>\n",
       "      <td>0.493573</td>\n",
       "      <td>0.450186</td>\n",
       "      <td>0.326555</td>\n",
       "      <td>0.216962</td>\n",
       "      <td>0.120429</td>\n",
       "      <td>0.051954</td>\n",
       "      <td>0.01378</td>\n",
       "    </tr>\n",
       "    <tr>\n",
       "      <td>min</td>\n",
       "      <td>1.200019e+06</td>\n",
       "      <td>7.800000e+04</td>\n",
       "      <td>370.000000</td>\n",
       "      <td>5.200000e+02</td>\n",
       "      <td>370.000000</td>\n",
       "      <td>0.000000</td>\n",
       "      <td>1900.000000</td>\n",
       "      <td>47.155900</td>\n",
       "      <td>-122.519000</td>\n",
       "      <td>399.000000</td>\n",
       "      <td>651.000000</td>\n",
       "      <td>0.000000</td>\n",
       "      <td>0.000000</td>\n",
       "      <td>0.000000</td>\n",
       "      <td>0.000000</td>\n",
       "      <td>0.000000</td>\n",
       "      <td>0.000000</td>\n",
       "      <td>0.000000</td>\n",
       "      <td>0.000000</td>\n",
       "      <td>0.000000</td>\n",
       "      <td>0.000000</td>\n",
       "      <td>0.000000</td>\n",
       "      <td>0.000000</td>\n",
       "      <td>0.000000</td>\n",
       "      <td>0.000000</td>\n",
       "      <td>0.000000</td>\n",
       "      <td>0.000000</td>\n",
       "      <td>0.000000</td>\n",
       "      <td>0.000000</td>\n",
       "      <td>0.000000</td>\n",
       "      <td>0.000000</td>\n",
       "      <td>0.000000</td>\n",
       "      <td>0.000000</td>\n",
       "      <td>0.000000</td>\n",
       "      <td>0.000000</td>\n",
       "      <td>0.000000</td>\n",
       "      <td>0.000000</td>\n",
       "      <td>0.000000</td>\n",
       "      <td>0.000000</td>\n",
       "      <td>0.000000</td>\n",
       "      <td>0.000000</td>\n",
       "      <td>0.000000</td>\n",
       "      <td>0.000000</td>\n",
       "      <td>0.000000</td>\n",
       "      <td>0.000000</td>\n",
       "      <td>0.000000</td>\n",
       "      <td>0.000000</td>\n",
       "      <td>0.00000</td>\n",
       "    </tr>\n",
       "    <tr>\n",
       "      <td>25%</td>\n",
       "      <td>2.125049e+09</td>\n",
       "      <td>3.200000e+05</td>\n",
       "      <td>1410.000000</td>\n",
       "      <td>5.015000e+03</td>\n",
       "      <td>1180.000000</td>\n",
       "      <td>0.000000</td>\n",
       "      <td>1951.000000</td>\n",
       "      <td>47.468600</td>\n",
       "      <td>-122.329000</td>\n",
       "      <td>1480.000000</td>\n",
       "      <td>5100.000000</td>\n",
       "      <td>0.000000</td>\n",
       "      <td>0.000000</td>\n",
       "      <td>0.000000</td>\n",
       "      <td>0.000000</td>\n",
       "      <td>0.000000</td>\n",
       "      <td>0.000000</td>\n",
       "      <td>0.000000</td>\n",
       "      <td>0.000000</td>\n",
       "      <td>0.000000</td>\n",
       "      <td>0.000000</td>\n",
       "      <td>0.000000</td>\n",
       "      <td>0.000000</td>\n",
       "      <td>0.000000</td>\n",
       "      <td>0.000000</td>\n",
       "      <td>0.000000</td>\n",
       "      <td>0.000000</td>\n",
       "      <td>1.000000</td>\n",
       "      <td>0.000000</td>\n",
       "      <td>0.000000</td>\n",
       "      <td>0.000000</td>\n",
       "      <td>0.000000</td>\n",
       "      <td>0.000000</td>\n",
       "      <td>0.000000</td>\n",
       "      <td>0.000000</td>\n",
       "      <td>0.000000</td>\n",
       "      <td>0.000000</td>\n",
       "      <td>0.000000</td>\n",
       "      <td>0.000000</td>\n",
       "      <td>0.000000</td>\n",
       "      <td>0.000000</td>\n",
       "      <td>0.000000</td>\n",
       "      <td>0.000000</td>\n",
       "      <td>0.000000</td>\n",
       "      <td>0.000000</td>\n",
       "      <td>0.000000</td>\n",
       "      <td>0.000000</td>\n",
       "      <td>0.00000</td>\n",
       "    </tr>\n",
       "    <tr>\n",
       "      <td>50%</td>\n",
       "      <td>3.905000e+09</td>\n",
       "      <td>4.475000e+05</td>\n",
       "      <td>1890.000000</td>\n",
       "      <td>7.568000e+03</td>\n",
       "      <td>1540.000000</td>\n",
       "      <td>0.000000</td>\n",
       "      <td>1975.000000</td>\n",
       "      <td>47.570800</td>\n",
       "      <td>-122.231000</td>\n",
       "      <td>1830.000000</td>\n",
       "      <td>7600.000000</td>\n",
       "      <td>0.000000</td>\n",
       "      <td>0.000000</td>\n",
       "      <td>0.000000</td>\n",
       "      <td>0.000000</td>\n",
       "      <td>0.000000</td>\n",
       "      <td>0.000000</td>\n",
       "      <td>0.000000</td>\n",
       "      <td>0.000000</td>\n",
       "      <td>0.000000</td>\n",
       "      <td>0.000000</td>\n",
       "      <td>1.000000</td>\n",
       "      <td>0.000000</td>\n",
       "      <td>0.000000</td>\n",
       "      <td>0.000000</td>\n",
       "      <td>0.000000</td>\n",
       "      <td>0.000000</td>\n",
       "      <td>1.000000</td>\n",
       "      <td>0.000000</td>\n",
       "      <td>0.000000</td>\n",
       "      <td>0.000000</td>\n",
       "      <td>0.000000</td>\n",
       "      <td>0.000000</td>\n",
       "      <td>0.000000</td>\n",
       "      <td>1.000000</td>\n",
       "      <td>0.000000</td>\n",
       "      <td>0.000000</td>\n",
       "      <td>0.000000</td>\n",
       "      <td>0.000000</td>\n",
       "      <td>0.000000</td>\n",
       "      <td>0.000000</td>\n",
       "      <td>0.000000</td>\n",
       "      <td>0.000000</td>\n",
       "      <td>0.000000</td>\n",
       "      <td>0.000000</td>\n",
       "      <td>0.000000</td>\n",
       "      <td>0.000000</td>\n",
       "      <td>0.00000</td>\n",
       "    </tr>\n",
       "    <tr>\n",
       "      <td>75%</td>\n",
       "      <td>7.334501e+09</td>\n",
       "      <td>6.300000e+05</td>\n",
       "      <td>2500.000000</td>\n",
       "      <td>1.051100e+04</td>\n",
       "      <td>2170.000000</td>\n",
       "      <td>520.000000</td>\n",
       "      <td>1996.000000</td>\n",
       "      <td>47.678300</td>\n",
       "      <td>-122.125000</td>\n",
       "      <td>2340.000000</td>\n",
       "      <td>10018.000000</td>\n",
       "      <td>0.000000</td>\n",
       "      <td>0.000000</td>\n",
       "      <td>1.000000</td>\n",
       "      <td>1.000000</td>\n",
       "      <td>0.000000</td>\n",
       "      <td>0.000000</td>\n",
       "      <td>1.000000</td>\n",
       "      <td>1.000000</td>\n",
       "      <td>0.000000</td>\n",
       "      <td>0.000000</td>\n",
       "      <td>1.000000</td>\n",
       "      <td>0.000000</td>\n",
       "      <td>1.000000</td>\n",
       "      <td>0.000000</td>\n",
       "      <td>0.000000</td>\n",
       "      <td>0.000000</td>\n",
       "      <td>1.000000</td>\n",
       "      <td>0.000000</td>\n",
       "      <td>0.000000</td>\n",
       "      <td>0.000000</td>\n",
       "      <td>0.000000</td>\n",
       "      <td>0.000000</td>\n",
       "      <td>0.000000</td>\n",
       "      <td>1.000000</td>\n",
       "      <td>1.000000</td>\n",
       "      <td>0.000000</td>\n",
       "      <td>0.000000</td>\n",
       "      <td>0.000000</td>\n",
       "      <td>0.000000</td>\n",
       "      <td>0.000000</td>\n",
       "      <td>1.000000</td>\n",
       "      <td>1.000000</td>\n",
       "      <td>0.000000</td>\n",
       "      <td>0.000000</td>\n",
       "      <td>0.000000</td>\n",
       "      <td>0.000000</td>\n",
       "      <td>0.00000</td>\n",
       "    </tr>\n",
       "    <tr>\n",
       "      <td>max</td>\n",
       "      <td>9.900000e+09</td>\n",
       "      <td>4.490000e+06</td>\n",
       "      <td>7850.000000</td>\n",
       "      <td>1.651359e+06</td>\n",
       "      <td>7850.000000</td>\n",
       "      <td>3500.000000</td>\n",
       "      <td>2015.000000</td>\n",
       "      <td>47.777600</td>\n",
       "      <td>-121.315000</td>\n",
       "      <td>6210.000000</td>\n",
       "      <td>871200.000000</td>\n",
       "      <td>1.000000</td>\n",
       "      <td>1.000000</td>\n",
       "      <td>1.000000</td>\n",
       "      <td>1.000000</td>\n",
       "      <td>1.000000</td>\n",
       "      <td>1.000000</td>\n",
       "      <td>1.000000</td>\n",
       "      <td>1.000000</td>\n",
       "      <td>1.000000</td>\n",
       "      <td>1.000000</td>\n",
       "      <td>1.000000</td>\n",
       "      <td>1.000000</td>\n",
       "      <td>1.000000</td>\n",
       "      <td>1.000000</td>\n",
       "      <td>1.000000</td>\n",
       "      <td>1.000000</td>\n",
       "      <td>1.000000</td>\n",
       "      <td>1.000000</td>\n",
       "      <td>1.000000</td>\n",
       "      <td>1.000000</td>\n",
       "      <td>1.000000</td>\n",
       "      <td>1.000000</td>\n",
       "      <td>1.000000</td>\n",
       "      <td>1.000000</td>\n",
       "      <td>1.000000</td>\n",
       "      <td>1.000000</td>\n",
       "      <td>1.000000</td>\n",
       "      <td>1.000000</td>\n",
       "      <td>1.000000</td>\n",
       "      <td>1.000000</td>\n",
       "      <td>1.000000</td>\n",
       "      <td>1.000000</td>\n",
       "      <td>1.000000</td>\n",
       "      <td>1.000000</td>\n",
       "      <td>1.000000</td>\n",
       "      <td>1.000000</td>\n",
       "      <td>1.00000</td>\n",
       "    </tr>\n",
       "  </tbody>\n",
       "</table>\n",
       "</div>"
      ],
      "text/plain": [
       "                 id         price   sqft_living      sqft_lot    sqft_above  \\\n",
       "count  2.106100e+04  2.106100e+04  21061.000000  2.106100e+04  21061.000000   \n",
       "mean   4.589620e+09  5.238745e+05   2032.050805  1.482777e+04   1753.754950   \n",
       "std    2.878321e+09  3.206890e+05    841.691338  4.082190e+04    776.970685   \n",
       "min    1.200019e+06  7.800000e+04    370.000000  5.200000e+02    370.000000   \n",
       "25%    2.125049e+09  3.200000e+05   1410.000000  5.015000e+03   1180.000000   \n",
       "50%    3.905000e+09  4.475000e+05   1890.000000  7.568000e+03   1540.000000   \n",
       "75%    7.334501e+09  6.300000e+05   2500.000000  1.051100e+04   2170.000000   \n",
       "max    9.900000e+09  4.490000e+06   7850.000000  1.651359e+06   7850.000000   \n",
       "\n",
       "       sqft_basement      yr_built           lat          long  sqft_living15  \\\n",
       "count   21061.000000  21061.000000  21061.000000  21061.000000   21061.000000   \n",
       "mean      272.706187   1970.949433     47.559376   -122.213975    1969.185699   \n",
       "std       420.729176     29.312685      0.139156      0.141131     665.956379   \n",
       "min         0.000000   1900.000000     47.155900   -122.519000     399.000000   \n",
       "25%         0.000000   1951.000000     47.468600   -122.329000    1480.000000   \n",
       "50%         0.000000   1975.000000     47.570800   -122.231000    1830.000000   \n",
       "75%       520.000000   1996.000000     47.678300   -122.125000    2340.000000   \n",
       "max      3500.000000   2015.000000     47.777600   -121.315000    6210.000000   \n",
       "\n",
       "          sqft_lot15    bedrooms_1    bedrooms_2    bedrooms_3    bedrooms_4  \\\n",
       "count   21061.000000  21061.000000  21061.000000  21061.000000  21061.000000   \n",
       "mean    12582.410284      0.009306      0.131048      0.465932      0.322254   \n",
       "std     26400.891993      0.096022      0.337461      0.498850      0.467351   \n",
       "min       651.000000      0.000000      0.000000      0.000000      0.000000   \n",
       "25%      5100.000000      0.000000      0.000000      0.000000      0.000000   \n",
       "50%      7600.000000      0.000000      0.000000      0.000000      0.000000   \n",
       "75%     10018.000000      0.000000      0.000000      1.000000      1.000000   \n",
       "max    871200.000000      1.000000      1.000000      1.000000      1.000000   \n",
       "\n",
       "         bedrooms_5  Full_baths_.5  Full_baths_1  Full_baths_2  Full_baths_3  \\\n",
       "count  21061.000000   21061.000000  21061.000000  21061.000000  21061.000000   \n",
       "mean       0.071459       0.003561      0.395090      0.495086      0.100707   \n",
       "std        0.257596       0.059570      0.488882      0.499988      0.300948   \n",
       "min        0.000000       0.000000      0.000000      0.000000      0.000000   \n",
       "25%        0.000000       0.000000      0.000000      0.000000      0.000000   \n",
       "50%        0.000000       0.000000      0.000000      0.000000      0.000000   \n",
       "75%        0.000000       0.000000      1.000000      1.000000      0.000000   \n",
       "max        1.000000       1.000000      1.000000      1.000000      1.000000   \n",
       "\n",
       "       Full_baths_4    floors_1.0    floors_1.5    floors_2.0    floors_2.5  \\\n",
       "count  21061.000000  21061.000000  21061.000000  21061.000000  21061.000000   \n",
       "mean       0.005555      0.500309      0.088742      0.375861      0.006457   \n",
       "std        0.074328      0.500012      0.284378      0.484356      0.080100   \n",
       "min        0.000000      0.000000      0.000000      0.000000      0.000000   \n",
       "25%        0.000000      0.000000      0.000000      0.000000      0.000000   \n",
       "50%        0.000000      1.000000      0.000000      0.000000      0.000000   \n",
       "75%        0.000000      1.000000      0.000000      1.000000      0.000000   \n",
       "max        1.000000      1.000000      1.000000      1.000000      1.000000   \n",
       "\n",
       "         floors_3.0    floors_3.5        view_0        view_1        view_2  \\\n",
       "count  21061.000000  21061.000000  21061.000000  21061.000000  21061.000000   \n",
       "mean       0.028346      0.000285      0.906795      0.015052      0.042875   \n",
       "std        0.165964      0.016877      0.290727      0.121761      0.202581   \n",
       "min        0.000000      0.000000      0.000000      0.000000      0.000000   \n",
       "25%        0.000000      0.000000      1.000000      0.000000      0.000000   \n",
       "50%        0.000000      0.000000      1.000000      0.000000      0.000000   \n",
       "75%        0.000000      0.000000      1.000000      0.000000      0.000000   \n",
       "max        1.000000      1.000000      1.000000      1.000000      1.000000   \n",
       "\n",
       "             view_3        view_4   condition_1   condition_2   condition_3  \\\n",
       "count  21061.000000  21061.000000  21061.000000  21061.000000  21061.000000   \n",
       "mean       0.022126      0.013152      0.001329      0.007929      0.648450   \n",
       "std        0.147097      0.113929      0.036439      0.088695      0.477466   \n",
       "min        0.000000      0.000000      0.000000      0.000000      0.000000   \n",
       "25%        0.000000      0.000000      0.000000      0.000000      0.000000   \n",
       "50%        0.000000      0.000000      0.000000      0.000000      1.000000   \n",
       "75%        0.000000      0.000000      0.000000      0.000000      1.000000   \n",
       "max        1.000000      1.000000      1.000000      1.000000      1.000000   \n",
       "\n",
       "        condition_4   condition_5       grade_3       grade_4       grade_5  \\\n",
       "count  21061.000000  21061.000000  21061.000000  21061.000000  21061.000000   \n",
       "mean       0.263425      0.078866      0.000047      0.001282      0.011348   \n",
       "std        0.440502      0.269536      0.006891      0.035783      0.105923   \n",
       "min        0.000000      0.000000      0.000000      0.000000      0.000000   \n",
       "25%        0.000000      0.000000      0.000000      0.000000      0.000000   \n",
       "50%        0.000000      0.000000      0.000000      0.000000      0.000000   \n",
       "75%        1.000000      0.000000      0.000000      0.000000      0.000000   \n",
       "max        1.000000      1.000000      1.000000      1.000000      1.000000   \n",
       "\n",
       "            grade_6       grade_7       grade_8       grade_9      grade_10  \\\n",
       "count  21061.000000  21061.000000  21061.000000  21061.000000  21061.000000   \n",
       "mean       0.096387      0.420018      0.282418      0.121362      0.049523   \n",
       "std        0.295128      0.493573      0.450186      0.326555      0.216962   \n",
       "min        0.000000      0.000000      0.000000      0.000000      0.000000   \n",
       "25%        0.000000      0.000000      0.000000      0.000000      0.000000   \n",
       "50%        0.000000      0.000000      0.000000      0.000000      0.000000   \n",
       "75%        0.000000      1.000000      1.000000      0.000000      0.000000   \n",
       "max        1.000000      1.000000      1.000000      1.000000      1.000000   \n",
       "\n",
       "           grade_11      grade_12     grade_13  \n",
       "count  21061.000000  21061.000000  21061.00000  \n",
       "mean       0.014719      0.002706      0.00019  \n",
       "std        0.120429      0.051954      0.01378  \n",
       "min        0.000000      0.000000      0.00000  \n",
       "25%        0.000000      0.000000      0.00000  \n",
       "50%        0.000000      0.000000      0.00000  \n",
       "75%        0.000000      0.000000      0.00000  \n",
       "max        1.000000      1.000000      1.00000  "
      ]
     },
     "metadata": {},
     "output_type": "display_data"
    },
    {
     "data": {
      "text/html": [
       "<div>\n",
       "<style scoped>\n",
       "    .dataframe tbody tr th:only-of-type {\n",
       "        vertical-align: middle;\n",
       "    }\n",
       "\n",
       "    .dataframe tbody tr th {\n",
       "        vertical-align: top;\n",
       "    }\n",
       "\n",
       "    .dataframe thead th {\n",
       "        text-align: right;\n",
       "    }\n",
       "</style>\n",
       "<table border=\"1\" class=\"dataframe\">\n",
       "  <thead>\n",
       "    <tr style=\"text-align: right;\">\n",
       "      <th></th>\n",
       "      <th>id</th>\n",
       "      <th>date</th>\n",
       "      <th>price</th>\n",
       "      <th>sqft_living</th>\n",
       "      <th>sqft_lot</th>\n",
       "      <th>waterfront</th>\n",
       "      <th>sqft_above</th>\n",
       "      <th>sqft_basement</th>\n",
       "      <th>yr_built</th>\n",
       "      <th>zipcode</th>\n",
       "      <th>lat</th>\n",
       "      <th>long</th>\n",
       "      <th>sqft_living15</th>\n",
       "      <th>sqft_lot15</th>\n",
       "      <th>Renovated</th>\n",
       "      <th>bedrooms_1</th>\n",
       "      <th>bedrooms_2</th>\n",
       "      <th>bedrooms_3</th>\n",
       "      <th>bedrooms_4</th>\n",
       "      <th>bedrooms_5</th>\n",
       "      <th>Full_baths_.5</th>\n",
       "      <th>Full_baths_1</th>\n",
       "      <th>Full_baths_2</th>\n",
       "      <th>Full_baths_3</th>\n",
       "      <th>Full_baths_4</th>\n",
       "      <th>floors_1.0</th>\n",
       "      <th>floors_1.5</th>\n",
       "      <th>floors_2.0</th>\n",
       "      <th>floors_2.5</th>\n",
       "      <th>floors_3.0</th>\n",
       "      <th>floors_3.5</th>\n",
       "      <th>view_0</th>\n",
       "      <th>view_1</th>\n",
       "      <th>view_2</th>\n",
       "      <th>view_3</th>\n",
       "      <th>view_4</th>\n",
       "      <th>condition_1</th>\n",
       "      <th>condition_2</th>\n",
       "      <th>condition_3</th>\n",
       "      <th>condition_4</th>\n",
       "      <th>condition_5</th>\n",
       "      <th>grade_3</th>\n",
       "      <th>grade_4</th>\n",
       "      <th>grade_5</th>\n",
       "      <th>grade_6</th>\n",
       "      <th>grade_7</th>\n",
       "      <th>grade_8</th>\n",
       "      <th>grade_9</th>\n",
       "      <th>grade_10</th>\n",
       "      <th>grade_11</th>\n",
       "      <th>grade_12</th>\n",
       "      <th>grade_13</th>\n",
       "    </tr>\n",
       "  </thead>\n",
       "  <tbody>\n",
       "    <tr>\n",
       "      <td>0</td>\n",
       "      <td>7129300520</td>\n",
       "      <td>2014</td>\n",
       "      <td>221900.0</td>\n",
       "      <td>1180</td>\n",
       "      <td>5650</td>\n",
       "      <td>0</td>\n",
       "      <td>1180</td>\n",
       "      <td>0.0</td>\n",
       "      <td>1955</td>\n",
       "      <td>98178</td>\n",
       "      <td>47.5112</td>\n",
       "      <td>-122.257</td>\n",
       "      <td>1340</td>\n",
       "      <td>5650</td>\n",
       "      <td>0</td>\n",
       "      <td>0</td>\n",
       "      <td>0</td>\n",
       "      <td>1</td>\n",
       "      <td>0</td>\n",
       "      <td>0</td>\n",
       "      <td>0</td>\n",
       "      <td>1</td>\n",
       "      <td>0</td>\n",
       "      <td>0</td>\n",
       "      <td>0</td>\n",
       "      <td>1</td>\n",
       "      <td>0</td>\n",
       "      <td>0</td>\n",
       "      <td>0</td>\n",
       "      <td>0</td>\n",
       "      <td>0</td>\n",
       "      <td>1</td>\n",
       "      <td>0</td>\n",
       "      <td>0</td>\n",
       "      <td>0</td>\n",
       "      <td>0</td>\n",
       "      <td>0</td>\n",
       "      <td>0</td>\n",
       "      <td>1</td>\n",
       "      <td>0</td>\n",
       "      <td>0</td>\n",
       "      <td>0</td>\n",
       "      <td>0</td>\n",
       "      <td>0</td>\n",
       "      <td>0</td>\n",
       "      <td>1</td>\n",
       "      <td>0</td>\n",
       "      <td>0</td>\n",
       "      <td>0</td>\n",
       "      <td>0</td>\n",
       "      <td>0</td>\n",
       "      <td>0</td>\n",
       "    </tr>\n",
       "  </tbody>\n",
       "</table>\n",
       "</div>"
      ],
      "text/plain": [
       "           id  date     price  sqft_living  sqft_lot waterfront  sqft_above  \\\n",
       "0  7129300520  2014  221900.0         1180      5650          0        1180   \n",
       "\n",
       "   sqft_basement  yr_built zipcode      lat     long  sqft_living15  \\\n",
       "0            0.0      1955   98178  47.5112 -122.257           1340   \n",
       "\n",
       "   sqft_lot15 Renovated  bedrooms_1  bedrooms_2  bedrooms_3  bedrooms_4  \\\n",
       "0        5650         0           0           0           1           0   \n",
       "\n",
       "   bedrooms_5  Full_baths_.5  Full_baths_1  Full_baths_2  Full_baths_3  \\\n",
       "0           0              0             1             0             0   \n",
       "\n",
       "   Full_baths_4  floors_1.0  floors_1.5  floors_2.0  floors_2.5  floors_3.0  \\\n",
       "0             0           1           0           0           0           0   \n",
       "\n",
       "   floors_3.5  view_0  view_1  view_2  view_3  view_4  condition_1  \\\n",
       "0           0       1       0       0       0       0            0   \n",
       "\n",
       "   condition_2  condition_3  condition_4  condition_5  grade_3  grade_4  \\\n",
       "0            0            1            0            0        0        0   \n",
       "\n",
       "   grade_5  grade_6  grade_7  grade_8  grade_9  grade_10  grade_11  grade_12  \\\n",
       "0        0        0        1        0        0         0         0         0   \n",
       "\n",
       "   grade_13  \n",
       "0         0  "
      ]
     },
     "execution_count": 75,
     "metadata": {},
     "output_type": "execute_result"
    }
   ],
   "source": [
    "display(data_b.describe())\n",
    "data_b.head(1)"
   ]
  },
  {
   "cell_type": "markdown",
   "metadata": {},
   "source": [
    "## Pickle the current - state dataframe for use in the next notebook"
   ]
  },
  {
   "cell_type": "code",
   "execution_count": 76,
   "metadata": {},
   "outputs": [],
   "source": [
    "with open('data/data_b.pickle', 'wb') as f:\n",
    "    # Pickling the 'data_b' dataframe using the highest protocol available.\n",
    "    pickle.dump(data_b, f, pickle.HIGHEST_PROTOCOL)"
   ]
  },
  {
   "cell_type": "markdown",
   "metadata": {},
   "source": [
    "## Pickles\n",
    "#### `data_f_all`: before `bedrooms`, `bathrooms`, and `zipcode` categorization\n",
    "#### `data_f_no_hots`: with category types and dropped `bathrooms`\n",
    "#### `data_b`: one - hot encoded"
   ]
  },
  {
   "cell_type": "markdown",
   "metadata": {},
   "source": [
    "#### Parking Lot"
   ]
  },
  {
   "cell_type": "code",
   "execution_count": 77,
   "metadata": {},
   "outputs": [],
   "source": [
    "# using scipy's z-score function to detect outliers\n",
    "#z = np.abs(stats.zscore(_df))\n",
    "\n",
    "# setting a threshold for a z-score of 3\n",
    "#display(np.where(z > 3))"
   ]
  },
  {
   "cell_type": "code",
   "execution_count": 78,
   "metadata": {
    "scrolled": true
   },
   "outputs": [],
   "source": [
    "# the first outlier is in row 1 at column 18\n",
    "# display(out_df.iloc[1:2, 17:18]) # \n",
    "# display(out_df.loc[1, 'sqft_lot15'])\n",
    "# print(z[1][18])"
   ]
  }
 ],
 "metadata": {
  "kernelspec": {
   "display_name": "Python [conda env:learn-env] *",
   "language": "python",
   "name": "conda-env-learn-env-py"
  },
  "language_info": {
   "codemirror_mode": {
    "name": "ipython",
    "version": 3
   },
   "file_extension": ".py",
   "mimetype": "text/x-python",
   "name": "python",
   "nbconvert_exporter": "python",
   "pygments_lexer": "ipython3",
   "version": "3.6.9"
  },
  "toc": {
   "base_numbering": 1,
   "nav_menu": {},
   "number_sections": false,
   "sideBar": true,
   "skip_h1_title": false,
   "title_cell": "Table of Contents",
   "title_sidebar": "Contents",
   "toc_cell": false,
   "toc_position": {},
   "toc_section_display": true,
   "toc_window_display": true
  }
 },
 "nbformat": 4,
 "nbformat_minor": 2
}
